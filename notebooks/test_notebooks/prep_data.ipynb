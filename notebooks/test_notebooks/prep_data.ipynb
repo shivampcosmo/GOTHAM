{
 "cells": [
  {
   "cell_type": "code",
   "execution_count": 1,
   "metadata": {},
   "outputs": [],
   "source": [
    "# %reset\n",
    "import numpy as np\n",
    "import sys,os\n",
    "import readgadget\n",
    "import MAS_library as MASL\n",
    "import pickle as pk\n",
    "import readfof\n",
    "import matplotlib\n",
    "\n",
    "import matplotlib.pyplot as pl\n",
    "pl.rc('text', usetex=True)\n",
    "# Palatino\n",
    "pl.rc('font', family='DejaVu Sans')\n",
    "%matplotlib inline\n",
    "\n",
    "\n",
    "\n",
    "%load_ext Cython\n",
    "\n",
    "# # This routine computes the density field and save results to file\n",
    "# def compute_df(snapshot, ptypes, grid, fout):\n",
    "#     # if not(os.path.exists(snapshot+'.0')) and not(os.path.exists(snapshot+'.0.hdf5')):\n",
    "#         # return 0\n",
    "#     print(snapshot)\n",
    "#     df = MASL.density_field_gadget(snapshot, ptypes, grid, MAS='CIC',\n",
    "#                                    do_RSD=False, axis=0, verbose=True)\n",
    "#     df = df/np.mean(df, dtype=np.float64)-1.0\n",
    "#     np.save(fout, df)\n",
    "    \n",
    "\n",
    "    \n",
    "    \n",
    "\n"
   ]
  },
  {
   "cell_type": "code",
   "execution_count": 2,
   "metadata": {},
   "outputs": [
    {
     "name": "stdout",
     "output_type": "stream",
     "text": [
      "The Cython extension is already loaded. To reload it, use:\n",
      "  %reload_ext Cython\n"
     ]
    }
   ],
   "source": [
    "%load_ext Cython\n",
    "\n"
   ]
  },
  {
   "cell_type": "code",
   "execution_count": 3,
   "metadata": {},
   "outputs": [
    {
     "name": "stderr",
     "output_type": "stream",
     "text": [
      "/tmp/ipykernel_238297/2083256906.py:20: RuntimeWarning: divide by zero encountered in log10\n",
      "  lgMass_truth = np.log10(mass_truth)\n"
     ]
    }
   ],
   "source": [
    "isim_fid = 4\n",
    "snapnum = 3\n",
    "mass_type = 'rockstar_200c'\n",
    "snap_dir_base = '/mnt/home/fvillaescusa/ceph/Quijote/Halos/Rockstar/fiducial_HR'\n",
    "snapdir = snap_dir_base + '/' + str(isim_fid)  #folder hosting the catalogue\n",
    "rockstar = np.loadtxt(snapdir + '/out_' + str(snapnum) + '_pid.list')\n",
    "with open(snapdir + '/out_' + str(snapnum) + '_pid.list', 'r') as f:\n",
    "    lines = f.readlines()\n",
    "header = lines[0].split()\n",
    "# get the properties of the halos\n",
    "pos_h_truth = rockstar[:,header.index('X'):header.index('Z')+1]\n",
    "if mass_type == 'rockstar_vir':\n",
    "    index_M = header.index('Mvir')                    \n",
    "    mass_truth = rockstar[:,index_M]  #Halo masses in Msun/h\n",
    "if mass_type == 'rockstar_200c':\n",
    "    index_M = header.index('M200c')                    \n",
    "    mass_truth = rockstar[:,index_M]  #Halo masses in Msun/h\n",
    "\n",
    "Mmin_cut = 1e13\n",
    "lgMass_truth = np.log10(mass_truth)\n",
    "indsel = np.where(mass_truth > Mmin_cut)[0]\n",
    "# print(grid, len(indsel), len(mass_truth), np.amin(lgMass_truth), np.log10(Mmin_cut))\n",
    "pos_h_truth = pos_h_truth[indsel]\n",
    "lgMass_truth = lgMass_truth[indsel]\n",
    "\n",
    "\n"
   ]
  },
  {
   "cell_type": "code",
   "execution_count": 4,
   "metadata": {},
   "outputs": [
    {
     "name": "stderr",
     "output_type": "stream",
     "text": [
      "In file included from /mnt/home/spandey/miniconda3/envs/ili-sbi/lib/python3.10/site-packages/numpy/core/include/numpy/ndarraytypes.h:1929,\n",
      "                 from /mnt/home/spandey/miniconda3/envs/ili-sbi/lib/python3.10/site-packages/numpy/core/include/numpy/ndarrayobject.h:12,\n",
      "                 from /mnt/home/spandey/miniconda3/envs/ili-sbi/lib/python3.10/site-packages/numpy/core/include/numpy/arrayobject.h:5,\n",
      "                 from /dev/shm/.cache-spandey/ipython/cython/_cython_magic_8904f5d759893c5f210bc6eabb3ad62b.c:775:\n",
      "/mnt/home/spandey/miniconda3/envs/ili-sbi/lib/python3.10/site-packages/numpy/core/include/numpy/npy_1_7_deprecated_api.h:17:2: warning: #warning \"Using deprecated NumPy API, disable it with \" \"#define NPY_NO_DEPRECATED_API NPY_1_7_API_VERSION\" [-Wcpp]\n",
      "   17 | #warning \"Using deprecated NumPy API, disable it with \" \\\n",
      "      |  ^~~~~~~\n"
     ]
    }
   ],
   "source": [
    "%%cython\n",
    "\n",
    "cimport numpy as np\n",
    "cpdef void NGP_mass(np.float32_t[:,:] pos, np.float32_t[:] logM, np.float32_t[:,:,:,:] gridM, float BoxSize):\n",
    "\n",
    "    cdef int axis,dims,coord,nMmax,jM\n",
    "    cdef long i,particles\n",
    "    cdef float inv_cell_size\n",
    "    cdef int index[3]\n",
    "\n",
    "    # find number of particles, the inverse of the cell size and dims\n",
    "    particles = pos.shape[0];  coord = pos.shape[1];  dims = gridM.shape[0]; nMmax = gridM.shape[3]\n",
    "    inv_cell_size = dims/BoxSize\n",
    "\n",
    "    # when computing things in 2D, use the index[2]=0 plane\n",
    "    for i in range(3):  index[i] = 0\n",
    "\n",
    "    # do a loop over all particles\n",
    "    for i in range(particles):\n",
    "        for axis in range(coord):\n",
    "            index[axis] = <int>(pos[i,axis]*inv_cell_size + 0.5)\n",
    "            index[axis] = (index[axis]+dims)%dims\n",
    "        for jM in range(nMmax):\n",
    "            if gridM[index[0],index[1],index[2], jM] == 0:\n",
    "                gridM[index[0],index[1],index[2], jM] = logM[i]\n",
    "                break\n",
    "            else:\n",
    "                pass\n",
    "        \n",
    "        \n",
    "        \n",
    "        "
   ]
  },
  {
   "cell_type": "code",
   "execution_count": 5,
   "metadata": {},
   "outputs": [
    {
     "name": "stderr",
     "output_type": "stream",
     "text": [
      "In file included from /mnt/home/spandey/miniconda3/envs/ili-sbi/lib/python3.10/site-packages/numpy/core/include/numpy/ndarraytypes.h:1929,\n",
      "                 from /mnt/home/spandey/miniconda3/envs/ili-sbi/lib/python3.10/site-packages/numpy/core/include/numpy/ndarrayobject.h:12,\n",
      "                 from /mnt/home/spandey/miniconda3/envs/ili-sbi/lib/python3.10/site-packages/numpy/core/include/numpy/arrayobject.h:5,\n",
      "                 from /dev/shm/.cache-spandey/ipython/cython/_cython_magic_3007918a1378e9a4e92258b6f470101a.c:776:\n",
      "/mnt/home/spandey/miniconda3/envs/ili-sbi/lib/python3.10/site-packages/numpy/core/include/numpy/npy_1_7_deprecated_api.h:17:2: warning: #warning \"Using deprecated NumPy API, disable it with \" \"#define NPY_NO_DEPRECATED_API NPY_1_7_API_VERSION\" [-Wcpp]\n",
      "   17 | #warning \"Using deprecated NumPy API, disable it with \" \\\n",
      "      |  ^~~~~~~\n",
      "/dev/shm/.cache-spandey/ipython/cython/_cython_magic_3007918a1378e9a4e92258b6f470101a.c: In function '__pyx_pw_46_cython_magic_3007918a1378e9a4e92258b6f470101a_1NGP_xyz':\n",
      "/dev/shm/.cache-spandey/ipython/cython/_cython_magic_3007918a1378e9a4e92258b6f470101a.c:3164:348: warning: '__pyx_v_pos2' may be used uninitialized in this function [-Wmaybe-uninitialized]\n",
      " 3164 |         *((__pyx_t_5numpy_float32_t *) ( /* dim=4 */ (( /* dim=3 */ (( /* dim=2 */ (( /* dim=1 */ (( /* dim=0 */ (__pyx_v_gridM.data + __pyx_t_14 * __pyx_v_gridM.strides[0]) ) + __pyx_t_13 * __pyx_v_gridM.strides[1]) ) + __pyx_t_12 * __pyx_v_gridM.strides[2]) ) + __pyx_t_8 * __pyx_v_gridM.strides[3]) ) + __pyx_t_7 * __pyx_v_gridM.strides[4]) )) = __pyx_v_pos2;\n",
      "      |         ~~~~~~~~~~~~~~~~~~~~~~~~~~~~~~~~~~~~~~~~~~~~~~~~~~~~~~~~~~~~~~~~~~~~~~~~~~~~~~~~~~~~~~~~~~~~~~~~~~~~~~~~~~~~~~~~~~~~~~~~~~~~~~~~~~~~~~~~~~~~~~~~~~~~~~~~~~~~~~~~~~~~~~~~~~~~~~~~~~~~~~~~~~~~~~~~~~~~~~~~~~~~~~~~~~~~~~~~~~~~~~~~~~~~~~~~~~~~~~~~~~~~~~~~~~~~~~~~~~~~~~~~~~~~~~~~~~~~~~~~~~~~~~~~~~~~~~~~~~~~~~~~~~~~~~~~~~~~~~~~~~~~~~~~~~~~~~~~~~~^~~~~~~~~~~~~~\n",
      "/dev/shm/.cache-spandey/ipython/cython/_cython_magic_3007918a1378e9a4e92258b6f470101a.c:2656:9: note: '__pyx_v_pos2' was declared here\n",
      " 2656 |   float __pyx_v_pos2;\n",
      "      |         ^~~~~~~~~~~~\n",
      "/dev/shm/.cache-spandey/ipython/cython/_cython_magic_3007918a1378e9a4e92258b6f470101a.c:3125:348: warning: '__pyx_v_pos1' may be used uninitialized in this function [-Wmaybe-uninitialized]\n",
      " 3125 |         *((__pyx_t_5numpy_float32_t *) ( /* dim=4 */ (( /* dim=3 */ (( /* dim=2 */ (( /* dim=1 */ (( /* dim=0 */ (__pyx_v_gridM.data + __pyx_t_7 * __pyx_v_gridM.strides[0]) ) + __pyx_t_8 * __pyx_v_gridM.strides[1]) ) + __pyx_t_12 * __pyx_v_gridM.strides[2]) ) + __pyx_t_13 * __pyx_v_gridM.strides[3]) ) + __pyx_t_14 * __pyx_v_gridM.strides[4]) )) = __pyx_v_pos1;\n",
      "      |         ~~~~~~~~~~~~~~~~~~~~~~~~~~~~~~~~~~~~~~~~~~~~~~~~~~~~~~~~~~~~~~~~~~~~~~~~~~~~~~~~~~~~~~~~~~~~~~~~~~~~~~~~~~~~~~~~~~~~~~~~~~~~~~~~~~~~~~~~~~~~~~~~~~~~~~~~~~~~~~~~~~~~~~~~~~~~~~~~~~~~~~~~~~~~~~~~~~~~~~~~~~~~~~~~~~~~~~~~~~~~~~~~~~~~~~~~~~~~~~~~~~~~~~~~~~~~~~~~~~~~~~~~~~~~~~~~~~~~~~~~~~~~~~~~~~~~~~~~~~~~~~~~~~~~~~~~~~~~~~~~~~~~~~~~~~~~~~~~~~~^~~~~~~~~~~~~~\n",
      "/dev/shm/.cache-spandey/ipython/cython/_cython_magic_3007918a1378e9a4e92258b6f470101a.c:2655:9: note: '__pyx_v_pos1' was declared here\n",
      " 2655 |   float __pyx_v_pos1;\n",
      "      |         ^~~~~~~~~~~~\n",
      "/dev/shm/.cache-spandey/ipython/cython/_cython_magic_3007918a1378e9a4e92258b6f470101a.c:3086:348: warning: '__pyx_v_pos0' may be used uninitialized in this function [-Wmaybe-uninitialized]\n",
      " 3086 |         *((__pyx_t_5numpy_float32_t *) ( /* dim=4 */ (( /* dim=3 */ (( /* dim=2 */ (( /* dim=1 */ (( /* dim=0 */ (__pyx_v_gridM.data + __pyx_t_14 * __pyx_v_gridM.strides[0]) ) + __pyx_t_13 * __pyx_v_gridM.strides[1]) ) + __pyx_t_12 * __pyx_v_gridM.strides[2]) ) + __pyx_t_8 * __pyx_v_gridM.strides[3]) ) + __pyx_t_7 * __pyx_v_gridM.strides[4]) )) = __pyx_v_pos0;\n",
      "      |         ~~~~~~~~~~~~~~~~~~~~~~~~~~~~~~~~~~~~~~~~~~~~~~~~~~~~~~~~~~~~~~~~~~~~~~~~~~~~~~~~~~~~~~~~~~~~~~~~~~~~~~~~~~~~~~~~~~~~~~~~~~~~~~~~~~~~~~~~~~~~~~~~~~~~~~~~~~~~~~~~~~~~~~~~~~~~~~~~~~~~~~~~~~~~~~~~~~~~~~~~~~~~~~~~~~~~~~~~~~~~~~~~~~~~~~~~~~~~~~~~~~~~~~~~~~~~~~~~~~~~~~~~~~~~~~~~~~~~~~~~~~~~~~~~~~~~~~~~~~~~~~~~~~~~~~~~~~~~~~~~~~~~~~~~~~~~~~~~~~~^~~~~~~~~~~~~~\n",
      "/dev/shm/.cache-spandey/ipython/cython/_cython_magic_3007918a1378e9a4e92258b6f470101a.c:2654:9: note: '__pyx_v_pos0' was declared here\n",
      " 2654 |   float __pyx_v_pos0;\n",
      "      |         ^~~~~~~~~~~~\n"
     ]
    }
   ],
   "source": [
    "%%cython\n",
    "cimport numpy as np\n",
    "cpdef void NGP_xyz(np.float32_t[:,:] pos, np.float32_t[:,:,:,:,:] gridM, float BoxSize):\n",
    "\n",
    "    cdef int axis,dims,coord,nMmax,jM\n",
    "    cdef long i,particles\n",
    "    cdef float inv_cell_size\n",
    "    cdef float pos0, pos1, pos2\n",
    "    cdef int index[3]\n",
    "    cdef int tobreak\n",
    "\n",
    "    # find number of particles, the inverse of the cell size and dims\n",
    "    particles = pos.shape[0];  coord = pos.shape[1];  dims = gridM.shape[0]; nMmax = gridM.shape[3]\n",
    "    inv_cell_size = dims/BoxSize\n",
    "\n",
    "    # when computing things in 2D, use the index[2]=0 plane\n",
    "    for i in range(3):  index[i] = 0\n",
    "\n",
    "    # do a loop over all particles\n",
    "    for i in range(particles):\n",
    "        for axis in range(coord):\n",
    "            index[axis] = <int>(pos[i,axis]*inv_cell_size + 0.5)\n",
    "            if axis == 0:\n",
    "                pos0 = pos[i,axis] - index[axis]*BoxSize/dims\n",
    "            if axis == 1:\n",
    "                pos1 = pos[i,axis] - index[axis]*BoxSize/dims\n",
    "            if axis == 2:\n",
    "                pos2 = pos[i,axis] - index[axis]*BoxSize/dims\n",
    "            index[axis] = (index[axis]+dims)%dims\n",
    "        for jM in range(nMmax):\n",
    "            if (gridM[index[0],index[1],index[2], jM, 0] == 0) and (gridM[index[0],index[1],index[2], jM, 1] == 0) and (gridM[index[0],index[1],index[2], jM, 2] == 0):\n",
    "                gridM[index[0],index[1],index[2], jM, 0] = pos0\n",
    "                gridM[index[0],index[1],index[2], jM, 1] = pos1\n",
    "                gridM[index[0],index[1],index[2], jM, 2] = pos2\n",
    "                # gridM[index[0],index[1],index[2], jM, 3] = logM[i]\n",
    "                break\n",
    "            else:\n",
    "                pass\n",
    "\n",
    "\n",
    "            "
   ]
  },
  {
   "cell_type": "code",
   "execution_count": 6,
   "metadata": {},
   "outputs": [
    {
     "name": "stderr",
     "output_type": "stream",
     "text": [
      "In file included from /mnt/home/spandey/miniconda3/envs/ili-sbi/lib/python3.10/site-packages/numpy/core/include/numpy/ndarraytypes.h:1929,\n",
      "                 from /mnt/home/spandey/miniconda3/envs/ili-sbi/lib/python3.10/site-packages/numpy/core/include/numpy/ndarrayobject.h:12,\n",
      "                 from /mnt/home/spandey/miniconda3/envs/ili-sbi/lib/python3.10/site-packages/numpy/core/include/numpy/arrayobject.h:5,\n",
      "                 from /dev/shm/.cache-spandey/ipython/cython/_cython_magic_ee7ed4c6b8443d8511f8428edf243dd6.c:777:\n",
      "/mnt/home/spandey/miniconda3/envs/ili-sbi/lib/python3.10/site-packages/numpy/core/include/numpy/npy_1_7_deprecated_api.h:17:2: warning: #warning \"Using deprecated NumPy API, disable it with \" \"#define NPY_NO_DEPRECATED_API NPY_1_7_API_VERSION\" [-Wcpp]\n",
      "   17 | #warning \"Using deprecated NumPy API, disable it with \" \\\n",
      "      |  ^~~~~~~\n",
      "/dev/shm/.cache-spandey/ipython/cython/_cython_magic_ee7ed4c6b8443d8511f8428edf243dd6.c: In function '__pyx_pw_46_cython_magic_ee7ed4c6b8443d8511f8428edf243dd6_1NGP_xyzM':\n",
      "/dev/shm/.cache-spandey/ipython/cython/_cython_magic_ee7ed4c6b8443d8511f8428edf243dd6.c:3207:348: warning: '__pyx_v_pos2' may be used uninitialized in this function [-Wmaybe-uninitialized]\n",
      " 3207 |         *((__pyx_t_5numpy_float32_t *) ( /* dim=4 */ (( /* dim=3 */ (( /* dim=2 */ (( /* dim=1 */ (( /* dim=0 */ (__pyx_v_gridM.data + __pyx_t_7 * __pyx_v_gridM.strides[0]) ) + __pyx_t_8 * __pyx_v_gridM.strides[1]) ) + __pyx_t_12 * __pyx_v_gridM.strides[2]) ) + __pyx_t_13 * __pyx_v_gridM.strides[3]) ) + __pyx_t_14 * __pyx_v_gridM.strides[4]) )) = __pyx_v_pos2;\n",
      "      |         ~~~~~~~~~~~~~~~~~~~~~~~~~~~~~~~~~~~~~~~~~~~~~~~~~~~~~~~~~~~~~~~~~~~~~~~~~~~~~~~~~~~~~~~~~~~~~~~~~~~~~~~~~~~~~~~~~~~~~~~~~~~~~~~~~~~~~~~~~~~~~~~~~~~~~~~~~~~~~~~~~~~~~~~~~~~~~~~~~~~~~~~~~~~~~~~~~~~~~~~~~~~~~~~~~~~~~~~~~~~~~~~~~~~~~~~~~~~~~~~~~~~~~~~~~~~~~~~~~~~~~~~~~~~~~~~~~~~~~~~~~~~~~~~~~~~~~~~~~~~~~~~~~~~~~~~~~~~~~~~~~~~~~~~~~~~~~~~~~~~^~~~~~~~~~~~~~\n",
      "/dev/shm/.cache-spandey/ipython/cython/_cython_magic_ee7ed4c6b8443d8511f8428edf243dd6.c:2662:9: note: '__pyx_v_pos2' was declared here\n",
      " 2662 |   float __pyx_v_pos2;\n",
      "      |         ^~~~~~~~~~~~\n",
      "/dev/shm/.cache-spandey/ipython/cython/_cython_magic_ee7ed4c6b8443d8511f8428edf243dd6.c:3168:348: warning: '__pyx_v_pos1' may be used uninitialized in this function [-Wmaybe-uninitialized]\n",
      " 3168 |         *((__pyx_t_5numpy_float32_t *) ( /* dim=4 */ (( /* dim=3 */ (( /* dim=2 */ (( /* dim=1 */ (( /* dim=0 */ (__pyx_v_gridM.data + __pyx_t_14 * __pyx_v_gridM.strides[0]) ) + __pyx_t_13 * __pyx_v_gridM.strides[1]) ) + __pyx_t_12 * __pyx_v_gridM.strides[2]) ) + __pyx_t_8 * __pyx_v_gridM.strides[3]) ) + __pyx_t_7 * __pyx_v_gridM.strides[4]) )) = __pyx_v_pos1;\n",
      "      |         ~~~~~~~~~~~~~~~~~~~~~~~~~~~~~~~~~~~~~~~~~~~~~~~~~~~~~~~~~~~~~~~~~~~~~~~~~~~~~~~~~~~~~~~~~~~~~~~~~~~~~~~~~~~~~~~~~~~~~~~~~~~~~~~~~~~~~~~~~~~~~~~~~~~~~~~~~~~~~~~~~~~~~~~~~~~~~~~~~~~~~~~~~~~~~~~~~~~~~~~~~~~~~~~~~~~~~~~~~~~~~~~~~~~~~~~~~~~~~~~~~~~~~~~~~~~~~~~~~~~~~~~~~~~~~~~~~~~~~~~~~~~~~~~~~~~~~~~~~~~~~~~~~~~~~~~~~~~~~~~~~~~~~~~~~~~~~~~~~~~^~~~~~~~~~~~~~\n",
      "/dev/shm/.cache-spandey/ipython/cython/_cython_magic_ee7ed4c6b8443d8511f8428edf243dd6.c:2661:9: note: '__pyx_v_pos1' was declared here\n",
      " 2661 |   float __pyx_v_pos1;\n",
      "      |         ^~~~~~~~~~~~\n",
      "/dev/shm/.cache-spandey/ipython/cython/_cython_magic_ee7ed4c6b8443d8511f8428edf243dd6.c:3129:348: warning: '__pyx_v_pos0' may be used uninitialized in this function [-Wmaybe-uninitialized]\n",
      " 3129 |         *((__pyx_t_5numpy_float32_t *) ( /* dim=4 */ (( /* dim=3 */ (( /* dim=2 */ (( /* dim=1 */ (( /* dim=0 */ (__pyx_v_gridM.data + __pyx_t_7 * __pyx_v_gridM.strides[0]) ) + __pyx_t_8 * __pyx_v_gridM.strides[1]) ) + __pyx_t_12 * __pyx_v_gridM.strides[2]) ) + __pyx_t_13 * __pyx_v_gridM.strides[3]) ) + __pyx_t_14 * __pyx_v_gridM.strides[4]) )) = __pyx_v_pos0;\n",
      "      |         ~~~~~~~~~~~~~~~~~~~~~~~~~~~~~~~~~~~~~~~~~~~~~~~~~~~~~~~~~~~~~~~~~~~~~~~~~~~~~~~~~~~~~~~~~~~~~~~~~~~~~~~~~~~~~~~~~~~~~~~~~~~~~~~~~~~~~~~~~~~~~~~~~~~~~~~~~~~~~~~~~~~~~~~~~~~~~~~~~~~~~~~~~~~~~~~~~~~~~~~~~~~~~~~~~~~~~~~~~~~~~~~~~~~~~~~~~~~~~~~~~~~~~~~~~~~~~~~~~~~~~~~~~~~~~~~~~~~~~~~~~~~~~~~~~~~~~~~~~~~~~~~~~~~~~~~~~~~~~~~~~~~~~~~~~~~~~~~~~~~^~~~~~~~~~~~~~\n",
      "/dev/shm/.cache-spandey/ipython/cython/_cython_magic_ee7ed4c6b8443d8511f8428edf243dd6.c:2660:9: note: '__pyx_v_pos0' was declared here\n",
      " 2660 |   float __pyx_v_pos0;\n",
      "      |         ^~~~~~~~~~~~\n"
     ]
    }
   ],
   "source": [
    "\n",
    "%%cython\n",
    "cimport numpy as np\n",
    "cpdef void NGP_xyzM(np.float32_t[:,:] pos, np.float32_t[:] logM, np.float32_t[:,:,:,:,:] gridM, float BoxSize):\n",
    "\n",
    "    cdef int axis,dims,coord,nMmax,jM\n",
    "    cdef long i,particles\n",
    "    cdef float inv_cell_size\n",
    "    cdef float pos0, pos1, pos2\n",
    "    cdef int index[3]\n",
    "    cdef int tobreak\n",
    "\n",
    "    # find number of particles, the inverse of the cell size and dims\n",
    "    particles = pos.shape[0];  coord = pos.shape[1];  dims = gridM.shape[0]; nMmax = gridM.shape[3]\n",
    "    inv_cell_size = dims/BoxSize\n",
    "\n",
    "    # when computing things in 2D, use the index[2]=0 plane\n",
    "    for i in range(3):  index[i] = 0\n",
    "\n",
    "    # do a loop over all particles\n",
    "    for i in range(particles):\n",
    "        for axis in range(coord):\n",
    "            index[axis] = <int>(pos[i,axis]*inv_cell_size + 0.5)\n",
    "            if axis == 0:\n",
    "                pos0 = pos[i,axis] - index[axis]*BoxSize/dims\n",
    "            if axis == 1:\n",
    "                pos1 = pos[i,axis] - index[axis]*BoxSize/dims\n",
    "            if axis == 2:\n",
    "                pos2 = pos[i,axis] - index[axis]*BoxSize/dims\n",
    "            index[axis] = (index[axis]+dims)%dims\n",
    "        for jM in range(nMmax):\n",
    "            if (gridM[index[0],index[1],index[2], jM, 0] == 0) and (gridM[index[0],index[1],index[2], jM, 1] == 0) and (gridM[index[0],index[1],index[2], jM, 2] == 0) and (gridM[index[0],index[1],index[2], jM, 3] == 0):\n",
    "                gridM[index[0],index[1],index[2], jM, 0] = pos0\n",
    "                gridM[index[0],index[1],index[2], jM, 1] = pos1\n",
    "                gridM[index[0],index[1],index[2], jM, 2] = pos2\n",
    "                gridM[index[0],index[1],index[2], jM, 3] = logM[i]\n",
    "                break\n",
    "            else:\n",
    "                pass\n",
    "\n",
    "\n",
    "            \n",
    "            \n",
    "            "
   ]
  },
  {
   "cell_type": "code",
   "execution_count": 7,
   "metadata": {},
   "outputs": [],
   "source": [
    "# pos_h_truth.shape, mass_truth.shape\n",
    "np.random.seed(0)\n",
    "import numpy as np\n",
    "import readgadget\n",
    "snapshot = f'/mnt/home/fvillaescusa/ceph/Quijote/Snapshots/fiducial_HR/{isim_fid}/snapdir_{snapnum:03d}/snap_{snapnum:03d}'\n",
    "ptype = [1] #DM is 1, neutrinos is [2]\n",
    "pos   = readgadget.read_block(snapshot, \"POS \", ptype)/1e3 #positions in Mpc/h\n",
    "vel   = readgadget.read_block(snapshot, \"VEL \", ptype)     #peculiar velocities in km/s\n",
    "ids   = readgadget.read_block(snapshot, \"ID  \", ptype)-1   #IDs starting from 0\n",
    "\n",
    "# get random permutation of indices of particles:\n",
    "arg_rand_perm = np.random.permutation(len(pos))\n",
    "\n",
    "npart_test = 256**3\n",
    "downsample = int(len(pos)/npart_test)\n",
    "# select a random subset of particles:\n",
    "\n",
    "ind = arg_rand_perm[::downsample]\n",
    "pos_m_truth = pos[ind]\n",
    "vel_m_truth = vel[ind]\n",
    "ids_m_truth = ids[ind]\n",
    "\n",
    "\n",
    "\n",
    "\n"
   ]
  },
  {
   "cell_type": "code",
   "execution_count": 8,
   "metadata": {},
   "outputs": [],
   "source": [
    "BoxSize = 1000.\n",
    "grid = 32\n",
    "nMax_m = 32\n",
    "Npart = np.float32(np.zeros((grid, grid, grid)))\n",
    "MASL.NGP(np.float32(pos_m_truth), Npart, BoxSize)\n",
    "\n"
   ]
  },
  {
   "cell_type": "code",
   "execution_count": 9,
   "metadata": {},
   "outputs": [
    {
     "data": {
      "image/png": "[encoded data removed]",
      "text/plain": [
       "<Figure size 640x480 with 1 Axes>"
      ]
     },
     "metadata": {},
     "output_type": "display_data"
    }
   ],
   "source": [
    "pl.figure()\n",
    "_ = pl.hist(Npart.flatten(), bins=150, range=(0, 1100), histtype='step')\n",
    "pl.yscale('log')\n",
    "\n",
    "\n",
    "\n",
    "\n"
   ]
  },
  {
   "cell_type": "code",
   "execution_count": 10,
   "metadata": {},
   "outputs": [],
   "source": [
    "# elif grid == 128:\n",
    "BoxSize = 1000.\n",
    "grid = 32\n",
    "nMax_h = 1100\n",
    "dfpart_ngp_wxyz = np.float32(np.zeros((grid, grid, grid, nMax_h, 3)))\n",
    "NGP_xyz(np.float32(pos_m_truth), dfpart_ngp_wxyz, BoxSize)\n",
    "\n",
    "\n"
   ]
  },
  {
   "cell_type": "code",
   "execution_count": 11,
   "metadata": {},
   "outputs": [],
   "source": [
    "# dfpart_ngp_wxyz[0,0,0,:,0]\n"
   ]
  },
  {
   "cell_type": "code",
   "execution_count": 12,
   "metadata": {},
   "outputs": [],
   "source": [
    "# norm_delta = 1000\n",
    "# if j1 == 0:\n",
    "#     jn1 = grid - 1\n",
    "# else:\n",
    "#     jn1 = j1 - 1\n",
    "# if j1 == grid - 1:\n",
    "#     jp1 = 0\n",
    "# else:\n",
    "#     jp1 = j1 + 1\n",
    "\n",
    "# jp1_all = [jn1, j1, jp1]\n",
    "\n",
    "# if j2 == 0:\n",
    "#     jn2 = grid - 1\n",
    "# else:\n",
    "#     jn2 = j2 - 1\n",
    "\n",
    "# if j2 == grid - 1:\n",
    "#     jp2 = 0\n",
    "# else:\n",
    "#     jp2 = j2 + 1\n",
    "\n",
    "# jp2_all = [jn2, j2, jp2]\n",
    "\n",
    "# if j3 == 0:\n",
    "#     jn3 = grid - 1\n",
    "# else:\n",
    "#     jn3 = j3 - 1\n",
    "\n",
    "# if j3 == grid - 1:\n",
    "#     jp3 = 0\n",
    "# else:\n",
    "#     jp3 = j3 + 1\n",
    "\n",
    "# jp3_all = [jn3, j3, jp3]\n",
    "\n",
    "# coord_add_sign = [-1,0,1]\n",
    "# # x_all_part = np.concatenate((dfpart_ngp_wxyz[j1,j2,j3], dfpart_ngp_wxyz[jp1,j2,j3], dfpart_ngp_wxyz[jn1,j2,j3], dfpart_ngp_wxyz[j1,jp2,j3], dfpart_ngp_wxyz[j1,jn2,j3], dfpart_ngp_wxyz[j1,j2,jp3], dfpart_ngp_wxyz[j1,j2,jn3]))\n",
    "# # indpos = np.where(dfpart_ngp_wxyz[j1,j2,j3][:,0] != 0)[0]\n",
    "# # print(indpos.shape)\n",
    "# # all_part0 = dfpart_ngp_wxyz[j1,j2,j3][indpos,:]\n",
    "# all_part = []\n",
    "# for i1 in range(3):\n",
    "#     for i2 in range(3):\n",
    "#         for i3 in range(3):\n",
    "#             all_part_here = dfpart_ngp_wxyz[jp1_all[i1],jp2_all[i2],jp3_all[i3]]\n",
    "#             indpos = np.where(all_part_here[:,0] != 0)[0]\n",
    "#             all_part_here = all_part_here[indpos,:]\n",
    "#             all_part_here[:,0] = all_part_here[:,0] + coord_add_sign[i1]*BoxSize/(grid)\n",
    "#             all_part_here[:,1] = all_part_here[:,1] + coord_add_sign[i2]*BoxSize/(grid)\n",
    "#             all_part_here[:,2] = all_part_here[:,2] + coord_add_sign[i3]*BoxSize/(grid)\n",
    "\n",
    "#             if len(all_part) == 0:\n",
    "#                 all_part = all_part_here\n",
    "#             else:\n",
    "#                 all_part = np.vstack((all_part, all_part_here))\n",
    "\n",
    "# grid_sbox = 64\n",
    "# MAS = 'NGP'\n",
    "# verbose = False\n",
    "\n",
    "# box_size_sbox = BoxSize/(2*grid)\n",
    "# all_part0_sel = np.where((all_part[:,0] > -box_size_sbox) & (all_part[:,0] < box_size_sbox) & (all_part[:,1] > -box_size_sbox) & (all_part[:,1] < box_size_sbox) & (all_part[:,2] > -box_size_sbox) & (all_part[:,2] < box_size_sbox))[0]\n",
    "# all_part0 = all_part[all_part0_sel]\n",
    "# delta_sbox0 = np.zeros((grid_sbox,grid_sbox,grid_sbox), dtype=np.float32)\n",
    "# MASL.MA(all_part0 + box_size_sbox, delta_sbox0, (2*box_size_sbox), MAS, verbose=verbose)\n",
    "# nbar0 = (npart_test/BoxSize**3)*((2*box_size_sbox)/grid_sbox)**3\n",
    "# delta_sbox0 /= nbar0\n",
    "# delta_sbox0 /= norm_delta\n",
    "\n",
    "\n",
    "# box_size_sbox = 2*BoxSize/(2*grid)\n",
    "# all_part1_sel = np.where((all_part[:,0] > -box_size_sbox) & (all_part[:,0] < box_size_sbox) & (all_part[:,1] > -box_size_sbox) & (all_part[:,1] < box_size_sbox) & (all_part[:,2] > -box_size_sbox) & (all_part[:,2] < box_size_sbox))[0]\n",
    "# all_part1 = all_part[all_part1_sel]\n",
    "# delta_sbox1 = np.zeros((grid_sbox,grid_sbox,grid_sbox), dtype=np.float32)\n",
    "# MASL.MA(all_part1 + box_size_sbox, delta_sbox1, (2*box_size_sbox), MAS, verbose=verbose)\n",
    "# nbar1 = (npart_test/BoxSize**3)*((2*box_size_sbox)/grid_sbox)**3\n",
    "# delta_sbox1 /= nbar1\n",
    "# delta_sbox1 /= norm_delta\n",
    "\n",
    "\n",
    "# box_size_sbox = 3*BoxSize/(2*grid)\n",
    "# all_part2 = all_part\n",
    "# delta_sbox2 = np.zeros((grid_sbox,grid_sbox,grid_sbox), dtype=np.float32)\n",
    "# MASL.MA(all_part2 + box_size_sbox, delta_sbox2, (2*box_size_sbox), MAS, verbose=verbose)\n",
    "# nbar2 = (npart_test/BoxSize**3)*((2*box_size_sbox)/grid_sbox)**3\n",
    "# delta_sbox2 /= nbar2\n",
    "# delta_sbox2 /= norm_delta\n",
    "\n",
    "# delta_sbox_all = np.stack((delta_sbox0, delta_sbox1, delta_sbox2))\n",
    "\n",
    "\n"
   ]
  },
  {
   "cell_type": "code",
   "execution_count": 13,
   "metadata": {},
   "outputs": [],
   "source": [
    "# delta_sbox_all.shape\n"
   ]
  },
  {
   "cell_type": "code",
   "execution_count": 14,
   "metadata": {},
   "outputs": [],
   "source": [
    "# pl.figure()\n",
    "# _ = pl.hist(delta_sbox_all.flatten(), bins=1000, range=(0, 10), histtype='step', label='0')\n",
    "# pl.yscale('log')\n",
    "# # 1000**3\n"
   ]
  },
  {
   "cell_type": "code",
   "execution_count": 15,
   "metadata": {},
   "outputs": [],
   "source": [
    "# np.amax(delta_sbox0), np.amax(delta_sbox1), np.amax(delta_sbox2)\n",
    "# np.mean(delta_sbox0), np.mean(delta_sbox1), np.mean(delta_sbox2)\n",
    "\n"
   ]
  },
  {
   "cell_type": "code",
   "execution_count": 16,
   "metadata": {},
   "outputs": [],
   "source": [
    "# # all_part0.shape, all_part1.shape, all_part2.shape, all_part3.shape, all_part4.shape, all_part5.shape, all_part6.shape, all_part.shape\n",
    "# pl.figure()\n",
    "# pl.imshow(np.sum(delta_sbox0[:,:,:], axis=0))\n",
    "# pl.colorbar()\n",
    "\n"
   ]
  },
  {
   "cell_type": "code",
   "execution_count": 17,
   "metadata": {},
   "outputs": [],
   "source": [
    "# # all_part0.shape, all_part1.shape, all_part2.shape, all_part3.shape, all_part4.shape, all_part5.shape, all_part6.shape, all_part.shape\n",
    "# pl.figure()\n",
    "# pl.imshow(np.sum(delta_sbox1[:,:,:], axis=0))\n",
    "# pl.colorbar()\n"
   ]
  },
  {
   "cell_type": "code",
   "execution_count": 18,
   "metadata": {},
   "outputs": [],
   "source": [
    "# # all_part0.shape, all_part1.shape, all_part2.shape, all_part3.shape, all_part4.shape, all_part5.shape, all_part6.shape, all_part.shape\n",
    "# pl.figure()\n",
    "# pl.imshow(np.sum(delta_sbox2[:,:,:], axis=0))\n",
    "# pl.colorbar()\n"
   ]
  },
  {
   "cell_type": "code",
   "execution_count": 19,
   "metadata": {},
   "outputs": [],
   "source": [
    "# all_part.shape\n",
    "# x_all_part = all_part[:,0]\n",
    "# y_all_part = all_part[:,1]\n",
    "# z_all_part = all_part[:,2]\n",
    "\n",
    "# ind_pos = np.where(x_all_part != -1000)[0]\n",
    "# xyz_all = np.array([x_all_part[ind_pos], y_all_part[ind_pos], z_all_part[ind_pos]]).T\n",
    "\n",
    "# np.amin(all_part), np.amax(all_part)\n",
    "\n"
   ]
  },
  {
   "cell_type": "code",
   "execution_count": 20,
   "metadata": {},
   "outputs": [],
   "source": [
    "# xyz_all.shape,\n",
    "# np.amin(xyz_all), np.amax(xyz_all)\n",
    "# all_part + 1.5*(BoxSize/grid)\n"
   ]
  },
  {
   "cell_type": "code",
   "execution_count": 21,
   "metadata": {},
   "outputs": [],
   "source": [
    "# grid_sbox = 32\n",
    "# MAS = 'NGP'\n",
    "# verbose = False\n",
    "# delta_sbox = np.zeros((grid_sbox,grid_sbox,grid_sbox), dtype=np.float32)\n",
    "# MASL.MA(all_part + 1.5*(BoxSize/grid), delta_sbox, (3.*(BoxSize/grid)), MAS, verbose=verbose)\n"
   ]
  },
  {
   "cell_type": "code",
   "execution_count": 22,
   "metadata": {},
   "outputs": [],
   "source": [
    "# pl.figure()\n",
    "# pl.imshow(np.sum(delta_sbox[:,:,:], axis=0))\n"
   ]
  },
  {
   "cell_type": "code",
   "execution_count": 23,
   "metadata": {},
   "outputs": [
    {
     "name": "stderr",
     "output_type": "stream",
     "text": [
      "  0%|          | 0/32 [00:00<?, ?it/s]"
     ]
    },
    {
     "name": "stderr",
     "output_type": "stream",
     "text": [
      "100%|██████████| 32/32 [00:48<00:00,  1.52s/it]\n"
     ]
    }
   ],
   "source": [
    "from tqdm import tqdm\n",
    "norm_delta = 1000            \n",
    "grid_sbox = 32\n",
    "MAS = 'NGP'\n",
    "verbose = False\n",
    "delta_box_all = np.zeros((grid, grid, grid, grid_sbox, grid_sbox, grid_sbox, 3))\n",
    "for j1 in tqdm(range(grid)):\n",
    "    for j2 in range(grid):\n",
    "        for j3 in range(grid):\n",
    "            \n",
    "            if j1 == 0:\n",
    "                jn1 = grid - 1\n",
    "            else:\n",
    "                jn1 = j1 - 1\n",
    "            if j1 == grid - 1:\n",
    "                jp1 = 0\n",
    "            else:\n",
    "                jp1 = j1 + 1\n",
    "\n",
    "            jp1_all = [jn1, j1, jp1]\n",
    "\n",
    "            if j2 == 0:\n",
    "                jn2 = grid - 1\n",
    "            else:\n",
    "                jn2 = j2 - 1\n",
    "\n",
    "            if j2 == grid - 1:\n",
    "                jp2 = 0\n",
    "            else:\n",
    "                jp2 = j2 + 1\n",
    "\n",
    "            jp2_all = [jn2, j2, jp2]\n",
    "\n",
    "            if j3 == 0:\n",
    "                jn3 = grid - 1\n",
    "            else:\n",
    "                jn3 = j3 - 1\n",
    "\n",
    "            if j3 == grid - 1:\n",
    "                jp3 = 0\n",
    "            else:\n",
    "                jp3 = j3 + 1\n",
    "\n",
    "            jp3_all = [jn3, j3, jp3]\n",
    "\n",
    "            coord_add_sign = [-1,0,1]\n",
    "            all_part = []\n",
    "            for i1 in range(3):\n",
    "                for i2 in range(3):\n",
    "                    for i3 in range(3):\n",
    "                        all_part_here = dfpart_ngp_wxyz[jp1_all[i1],jp2_all[i2],jp3_all[i3]]\n",
    "                        indpos = np.where(all_part_here[:,0] != 0)[0]\n",
    "                        all_part_here = all_part_here[indpos,:]\n",
    "                        all_part_here[:,0] = all_part_here[:,0] + coord_add_sign[i1]*BoxSize/(grid)\n",
    "                        all_part_here[:,1] = all_part_here[:,1] + coord_add_sign[i2]*BoxSize/(grid)\n",
    "                        all_part_here[:,2] = all_part_here[:,2] + coord_add_sign[i3]*BoxSize/(grid)\n",
    "\n",
    "                        if len(all_part) == 0:\n",
    "                            all_part = all_part_here\n",
    "                        else:\n",
    "                            all_part = np.vstack((all_part, all_part_here))\n",
    "\n",
    "\n",
    "\n",
    "            box_size_sbox = BoxSize/(2*grid)\n",
    "            all_part0_sel = np.where((all_part[:,0] > -box_size_sbox) & (all_part[:,0] < box_size_sbox) & (all_part[:,1] > -box_size_sbox) & (all_part[:,1] < box_size_sbox) & (all_part[:,2] > -box_size_sbox) & (all_part[:,2] < box_size_sbox))[0]\n",
    "            all_part0 = all_part[all_part0_sel]\n",
    "            delta_sbox0 = np.zeros((grid_sbox,grid_sbox,grid_sbox), dtype=np.float32)\n",
    "            MASL.MA(all_part0 + box_size_sbox, delta_sbox0, (2*box_size_sbox), MAS, verbose=verbose)\n",
    "            nbar0 = (npart_test/BoxSize**3)*((2*box_size_sbox)/grid_sbox)**3\n",
    "            delta_sbox0 /= nbar0\n",
    "            delta_sbox0 /= norm_delta\n",
    "\n",
    "\n",
    "            box_size_sbox = 2*BoxSize/(2*grid)\n",
    "            all_part1_sel = np.where((all_part[:,0] > -box_size_sbox) & (all_part[:,0] < box_size_sbox) & (all_part[:,1] > -box_size_sbox) & (all_part[:,1] < box_size_sbox) & (all_part[:,2] > -box_size_sbox) & (all_part[:,2] < box_size_sbox))[0]\n",
    "            all_part1 = all_part[all_part1_sel]\n",
    "            delta_sbox1 = np.zeros((grid_sbox,grid_sbox,grid_sbox), dtype=np.float32)\n",
    "            MASL.MA(all_part1 + box_size_sbox, delta_sbox1, (2*box_size_sbox), MAS, verbose=verbose)\n",
    "            nbar1 = (npart_test/BoxSize**3)*((2*box_size_sbox)/grid_sbox)**3\n",
    "            delta_sbox1 /= nbar1\n",
    "            delta_sbox1 /= norm_delta\n",
    "\n",
    "\n",
    "            box_size_sbox = 3*BoxSize/(2*grid)\n",
    "            all_part2 = all_part\n",
    "            delta_sbox2 = np.zeros((grid_sbox,grid_sbox,grid_sbox), dtype=np.float32)\n",
    "            MASL.MA(all_part2 + box_size_sbox, delta_sbox2, (2*box_size_sbox), MAS, verbose=verbose)\n",
    "            nbar2 = (npart_test/BoxSize**3)*((2*box_size_sbox)/grid_sbox)**3\n",
    "            delta_sbox2 /= nbar2\n",
    "            delta_sbox2 /= norm_delta\n",
    "\n",
    "            delta_sbox_all = np.stack((delta_sbox0, delta_sbox1, delta_sbox2))\n",
    "\n",
    "            # move first axis to last:\n",
    "            delta_sbox_all = np.moveaxis(delta_sbox_all, 0, -1)\n",
    "\n",
    "            delta_box_all[j1,j2,j3] = delta_sbox_all\n",
    "\n",
    "\n"
   ]
  },
  {
   "cell_type": "code",
   "execution_count": 24,
   "metadata": {},
   "outputs": [],
   "source": [
    "delta_box_all_squeezed = np.reshape(delta_box_all, (grid*grid*grid, grid_sbox, grid_sbox, grid_sbox, 3))\n",
    "\n"
   ]
  },
  {
   "cell_type": "code",
   "execution_count": 25,
   "metadata": {},
   "outputs": [],
   "source": [
    "# elif grid == 128:\n",
    "BoxSize = 1000.\n",
    "grid = 32\n",
    "nMax_h = 32\n",
    "dfhalo_ngp_wxyzM = np.float32(np.zeros((grid, grid, grid, nMax_h, 4)))\n",
    "NGP_xyzM(np.float32(pos_h_truth), np.float32(lgMass_truth), dfhalo_ngp_wxyzM, BoxSize)\n",
    "\n",
    "\n"
   ]
  },
  {
   "cell_type": "code",
   "execution_count": 26,
   "metadata": {},
   "outputs": [],
   "source": [
    "# dfhalo_ngp_wxyzM_squeezed = np.reshape(dfhalo_ngp_wxyzM, (grid*grid*grid, nMax_h, 4))\n",
    "Nhalos_truth = np.float32(np.zeros((grid, grid, grid)))\n",
    "MASL.NGP(np.float32(pos_h_truth), Nhalos_truth, BoxSize)\n",
    "\n"
   ]
  },
  {
   "cell_type": "code",
   "execution_count": 27,
   "metadata": {},
   "outputs": [],
   "source": [
    "M_halos_argsort = np.flip(np.argsort(dfhalo_ngp_wxyzM[:,:,:,:,3], axis=-1), axis=-1)\n",
    "xmin = BoxSize/grid/2\n",
    "lgMin = np.log10(Mmin_cut)\n",
    "lgMax = 15.5\n",
    "dfhalo_ngp_xyzM_sorted_scaled = np.zeros_like(dfhalo_ngp_wxyzM)\n",
    "for i1 in range(grid):\n",
    "    for i2 in range(grid):\n",
    "        for i3 in range(grid):\n",
    "            dfhalo_ngp_xyzM_sorted_scaled[i1, i2, i3, :, 0] = dfhalo_ngp_wxyzM[i1, i2, i3, M_halos_argsort[i1, i2, i3], 0]\n",
    "            indpos_x = np.where(dfhalo_ngp_xyzM_sorted_scaled[i1, i2, i3, :, 0] != 0.0)[0]\n",
    "            dfhalo_ngp_xyzM_sorted_scaled[i1, i2, i3, indpos_x, 0] = (dfhalo_ngp_xyzM_sorted_scaled[i1, i2, i3, indpos_x, 0] + xmin)/(2*xmin)\n",
    "\n",
    "            dfhalo_ngp_xyzM_sorted_scaled[i1, i2, i3, :, 1] = dfhalo_ngp_wxyzM[i1, i2, i3, M_halos_argsort[i1, i2, i3], 1]\n",
    "            indpos_y = np.where(dfhalo_ngp_xyzM_sorted_scaled[i1, i2, i3, :, 1] != 0.0)[0]\n",
    "            dfhalo_ngp_xyzM_sorted_scaled[i1, i2, i3, indpos_y, 1] = (dfhalo_ngp_xyzM_sorted_scaled[i1, i2, i3, indpos_y, 1] + xmin)/(2*xmin)\n",
    "\n",
    "            dfhalo_ngp_xyzM_sorted_scaled[i1, i2, i3, :, 2] = dfhalo_ngp_wxyzM[i1, i2, i3, M_halos_argsort[i1, i2, i3], 2]\n",
    "            indpos_z = np.where(dfhalo_ngp_xyzM_sorted_scaled[i1, i2, i3, :, 2] != 0.0)[0]\n",
    "            dfhalo_ngp_xyzM_sorted_scaled[i1, i2, i3, indpos_z, 2] = (dfhalo_ngp_xyzM_sorted_scaled[i1, i2, i3, indpos_z, 2] + xmin)/(2*xmin)\n",
    "\n",
    "            dfhalo_ngp_xyzM_sorted_scaled[i1, i2, i3, :, 3] = dfhalo_ngp_wxyzM[i1, i2, i3, M_halos_argsort[i1, i2, i3], 3]\n",
    "            indpos_M = np.where(dfhalo_ngp_xyzM_sorted_scaled[i1, i2, i3, :, 3] != 0.0)[0]\n",
    "            dfhalo_ngp_xyzM_sorted_scaled[i1, i2, i3, indpos_M, 3] = (dfhalo_ngp_xyzM_sorted_scaled[i1, i2, i3, indpos_M, 3] - lgMin)/(lgMax - lgMin)\n",
    "\n",
    "\n",
    "\n",
    "\n"
   ]
  },
  {
   "cell_type": "code",
   "execution_count": 28,
   "metadata": {},
   "outputs": [],
   "source": [
    "indzeros = np.where(dfhalo_ngp_xyzM_sorted_scaled == 0.0)\n",
    "dfhalo_ngp_xyzM_sorted_scaled[indzeros] = -1.0\n",
    "\n",
    "\n"
   ]
  },
  {
   "cell_type": "code",
   "execution_count": 29,
   "metadata": {},
   "outputs": [],
   "source": [
    "# np.amin(dfhalo_ngp_xyzM_sorted_scaled), np.amax(dfhalo_ngp_xyzM_sorted_scaled)\n",
    "nvocab = 128\n",
    "bins_digitize = np.linspace(-1e-3, 1, nvocab)\n",
    "# bins_digitize.insert(0, -1)\n",
    "bins_digitize = np.insert(bins_digitize, 0, -1)\n",
    "# bins_digitize\n",
    "dfhalo_ngp_xyzM_sorted_scaled_digitized = np.digitize(dfhalo_ngp_xyzM_sorted_scaled, bins_digitize)\n",
    "\n",
    "\n"
   ]
  },
  {
   "cell_type": "code",
   "execution_count": 30,
   "metadata": {},
   "outputs": [
    {
     "data": {
      "text/plain": [
       "128"
      ]
     },
     "execution_count": 30,
     "metadata": {},
     "output_type": "execute_result"
    }
   ],
   "source": [
    "# dfhalo_ngp_xyzM_sorted_scaled[0,0,0,:,0]\n",
    "np.amax(dfhalo_ngp_xyzM_sorted_scaled_digitized)\n",
    "\n"
   ]
  },
  {
   "cell_type": "code",
   "execution_count": 31,
   "metadata": {},
   "outputs": [],
   "source": [
    "start_token = 0\n",
    "pad_token = 1\n",
    "end_token = nvocab + 1\n",
    "space_token = nvocab + 2\n",
    "max_sentence_length = 1 + nMax_h*4 + 1 + (nMax_h-1)\n",
    "dfhalo_ngp_xyzM_tokenized = np.zeros((grid, grid, grid, max_sentence_length), dtype=np.int32) + end_token\n",
    "\n",
    "dfhalo_ngp_xyzM_tokenized[..., 0] = start_token\n",
    "# for jh in range(nMax_h):\n",
    "jh = 1\n",
    "while jh < 5*nMax_h:\n",
    "    # if dfhalo_ngp_xyzM_sorted_scaled_digitized[..., jh, 0] > 1:\n",
    "    dfhalo_ngp_xyzM_tokenized[..., jh + 0] = dfhalo_ngp_xyzM_sorted_scaled_digitized[..., jh//5, 3]\n",
    "    dfhalo_ngp_xyzM_tokenized[..., jh + 1] = dfhalo_ngp_xyzM_sorted_scaled_digitized[..., jh//5, 0]\n",
    "    dfhalo_ngp_xyzM_tokenized[..., jh + 2] = dfhalo_ngp_xyzM_sorted_scaled_digitized[..., jh//5, 1]\n",
    "    dfhalo_ngp_xyzM_tokenized[..., jh + 3] = dfhalo_ngp_xyzM_sorted_scaled_digitized[..., jh//5, 2]\n",
    "    if jh//5 < nMax_h - 1:\n",
    "        dfhalo_ngp_xyzM_tokenized[..., jh + 4] = space_token\n",
    "    # else:\n",
    "    #     dfhalo_ngp_xyzM_tokenized[..., 1 + nMax_h*4] = end_token\n",
    "    jh += 5\n",
    "\n",
    "\n",
    "\n"
   ]
  },
  {
   "cell_type": "code",
   "execution_count": 32,
   "metadata": {},
   "outputs": [],
   "source": [
    "dfhalo_ngp_xyzM_tokenized_padded_ended = np.copy(dfhalo_ngp_xyzM_tokenized)\n",
    "for i1 in range(grid):\n",
    "    for i2 in range(grid):\n",
    "        for i3 in range(grid):\n",
    "            ind1 = np.where(dfhalo_ngp_xyzM_tokenized[i1, i2, i3,:] == 1)[0]\n",
    "            try:\n",
    "                ind1 = ind1[0]\n",
    "                dfhalo_ngp_xyzM_tokenized_padded_ended[i1, i2, i3, ind1-1] = end_token\n",
    "                dfhalo_ngp_xyzM_tokenized_padded_ended[i1, i2, i3, ind1:] = pad_token\n",
    "            except:\n",
    "                dfhalo_ngp_xyzM_tokenized_padded_ended[i1, i2, i3, ind1-1] = end_token\n",
    "                # dfhalo_ngp_xyzM_tokenized_padded_ended[i1, i2, i3, ind1:] = pad_token\n",
    "\n",
    "\n"
   ]
  },
  {
   "cell_type": "code",
   "execution_count": 33,
   "metadata": {},
   "outputs": [
    {
     "data": {
      "text/plain": [
       "array([129,   1,   1,   1,   1,   1,   1,   1,   1,   1,   1,   1,   1,\n",
       "         1,   1,   1,   1,   1,   1,   1,   1,   1,   1,   1,   1,   1,\n",
       "         1,   1,   1,   1,   1,   1,   1,   1,   1,   1,   1,   1,   1,\n",
       "         1,   1,   1,   1,   1,   1,   1,   1,   1,   1,   1,   1,   1,\n",
       "         1,   1,   1,   1,   1,   1,   1,   1,   1,   1,   1,   1,   1,\n",
       "         1,   1,   1,   1,   1,   1,   1,   1,   1,   1,   1,   1,   1,\n",
       "         1,   1,   1,   1,   1,   1,   1,   1,   1,   1,   1,   1,   1,\n",
       "         1,   1,   1,   1,   1,   1,   1,   1,   1,   1,   1,   1,   1,\n",
       "         1,   1,   1,   1,   1,   1,   1,   1,   1,   1,   1,   1,   1,\n",
       "         1,   1,   1,   1,   1,   1,   1,   1,   1,   1,   1,   1,   1,\n",
       "         1,   1,   1,   1,   1,   1,   1,   1,   1,   1,   1,   1,   1,\n",
       "         1,   1,   1,   1,   1,   1,   1,   1,   1,   1,   1,   1,   1,\n",
       "         1,   1,   1,   1,   1], dtype=int32)"
      ]
     },
     "execution_count": 33,
     "metadata": {},
     "output_type": "execute_result"
    }
   ],
   "source": [
    "dfhalo_ngp_xyzM_tokenized_padded_ended[0,12,0,:]\n",
    "\n"
   ]
  },
  {
   "cell_type": "code",
   "execution_count": 34,
   "metadata": {},
   "outputs": [
    {
     "data": {
      "text/plain": [
       "(32768, 161)"
      ]
     },
     "execution_count": 34,
     "metadata": {},
     "output_type": "execute_result"
    }
   ],
   "source": [
    "dfhalo_ngp_xyzM_tokenized_padded_ended_squeezed = np.reshape(dfhalo_ngp_xyzM_tokenized_padded_ended, (grid*grid*grid, max_sentence_length))\n",
    "dfhalo_ngp_xyzM_tokenized_padded_ended_squeezed.shape\n",
    "\n"
   ]
  },
  {
   "cell_type": "code",
   "execution_count": 36,
   "metadata": {},
   "outputs": [],
   "source": [
    "saved = {'dfhalo_ngp_xyzM_tokenized_padded_ended_squeezed':dfhalo_ngp_xyzM_tokenized_padded_ended_squeezed.astype(np.int16),\n",
    "        'dfhalo_ngp_wxyzM': dfhalo_ngp_wxyzM.astype(np.int16),\n",
    "        'Nhalos_truth': Nhalos_truth.astype(np.int16),\n",
    "        'delta_box_all_squeezed': delta_box_all_squeezed.astype(np.float32)}\n",
    "\n",
    "pk.dump(saved, open(f'/mnt/home/spandey/ceph/CHARFORMER/data/df_halo_part_ngp_xyzM_tokenized_density3Dgrid_{grid_sbox}_isim_{isim_fid}_snap_{snapnum}.pkl', 'wb'))\n"
   ]
  },
  {
   "cell_type": "markdown",
   "metadata": {},
   "source": [
    "# save to disk in binary format to easy reading with memmap:\n"
   ]
  },
  {
   "cell_type": "code",
   "execution_count": 7,
   "metadata": {},
   "outputs": [],
   "source": [
    "\n",
    "df = pk.load(open('/mnt/home/spandey/ceph/CHARFORMER/data/df_halo_part_ngp_xyzM_tokenized_density3Dgrid_32_isim_0_snap_3.pkl','rb'))\n",
    "\n",
    "dfhalo_ngp_xyzM_tokenized_padded_ended_squeezed_0 = df['dfhalo_ngp_xyzM_tokenized_padded_ended_squeezed']\n",
    "dfhalo_ngp_wxyzM_0 = df['dfhalo_ngp_wxyzM']\n",
    "Nhalos_truth_0 = df['Nhalos_truth']\n",
    "delta_box_all_squeezed_0 = df['delta_box_all_squeezed']\n",
    "\n",
    "\n",
    "df = pk.load(open('/mnt/home/spandey/ceph/CHARFORMER/data/df_halo_part_ngp_xyzM_tokenized_density3Dgrid_32_isim_1_snap_3.pkl','rb'))\n",
    "\n",
    "dfhalo_ngp_xyzM_tokenized_padded_ended_squeezed_1 = df['dfhalo_ngp_xyzM_tokenized_padded_ended_squeezed']\n",
    "dfhalo_ngp_wxyzM_1 = df['dfhalo_ngp_wxyzM']\n",
    "Nhalos_truth_1 = df['Nhalos_truth']\n",
    "delta_box_all_squeezed_1= df['delta_box_all_squeezed']\n",
    "\n",
    "\n",
    "df = pk.load(open('/mnt/home/spandey/ceph/CHARFORMER/data/df_halo_part_ngp_xyzM_tokenized_density3Dgrid_32_isim_2_snap_3.pkl','rb'))\n",
    "\n",
    "dfhalo_ngp_xyzM_tokenized_padded_ended_squeezed_2 = df['dfhalo_ngp_xyzM_tokenized_padded_ended_squeezed']\n",
    "dfhalo_ngp_wxyzM_2 = df['dfhalo_ngp_wxyzM']\n",
    "Nhalos_truth_2 = df['Nhalos_truth']\n",
    "delta_box_all_squeezed_2 = df['delta_box_all_squeezed']\n",
    "\n",
    "\n"
   ]
  },
  {
   "cell_type": "code",
   "execution_count": 8,
   "metadata": {},
   "outputs": [],
   "source": [
    "dfhalo_ngp_xyzM_tokenized_padded_ended_squeezed_all = np.vstack((dfhalo_ngp_xyzM_tokenized_padded_ended_squeezed_0, dfhalo_ngp_xyzM_tokenized_padded_ended_squeezed_1, dfhalo_ngp_xyzM_tokenized_padded_ended_squeezed_2)).astype(np.int16)\n",
    "\n"
   ]
  },
  {
   "cell_type": "code",
   "execution_count": 9,
   "metadata": {},
   "outputs": [],
   "source": [
    "delta_box_all_squeezed_all = np.vstack((delta_box_all_squeezed_0, delta_box_all_squeezed_1, delta_box_all_squeezed_2)).astype(np.float32)\n",
    "delta_box_all_squeezed_all = np.moveaxis(delta_box_all_squeezed_all, -1, 1)\n"
   ]
  },
  {
   "cell_type": "code",
   "execution_count": null,
   "metadata": {},
   "outputs": [],
   "source": [
    "grid = dfhalo_ngp_wxyzM_0.shape[0]\n",
    "dfhalo_ngp_wxyzM_0_reshape = np.reshape(dfhalo_ngp_wxyzM_0, (grid*grid*grid, 32, 4))\n",
    "dfhalo_ngp_wxyzM_1_reshape = np.reshape(dfhalo_ngp_wxyzM_1, (grid*grid*grid, 32, 4))\n",
    "dfhalo_ngp_wxyzM_2_reshape = np.reshape(dfhalo_ngp_wxyzM_2, (grid*grid*grid, 32, 4))\n",
    "dfhalo_ngp_wxyzM_reshape_all = np.vstack((dfhalo_ngp_wxyzM_0_reshape, dfhalo_ngp_wxyzM_1_reshape, dfhalo_ngp_wxyzM_2_reshape)).astype(np.float32)\n",
    "\n"
   ]
  },
  {
   "cell_type": "code",
   "execution_count": null,
   "metadata": {},
   "outputs": [],
   "source": [
    "Nhalos_truth_0_reshape = np.reshape(Nhalos_truth_0, (grid*grid*grid))\n",
    "Nhalos_truth_1_reshape = np.reshape(Nhalos_truth_1, (grid*grid*grid))\n",
    "Nhalos_truth_2_reshape = np.reshape(Nhalos_truth_2, (grid*grid*grid))\n",
    "Nhalos_truth_reshape_all = np.concatenate((Nhalos_truth_0_reshape, Nhalos_truth_1_reshape, Nhalos_truth_2_reshape)).astype(np.int16)\n",
    "\n"
   ]
  },
  {
   "cell_type": "code",
   "execution_count": 10,
   "metadata": {},
   "outputs": [],
   "source": [
    "# save using h5py\n",
    "import h5py as h5\n",
    "f = h5.File('/mnt/home/spandey/ceph/CHARFORMER/data/df_halo_part_ngp_xyzM_tokenized_density3Dgrid_32_isim_012_snap_3.h5', 'w')\n",
    "f.create_dataset('dfhalo_ngp_xyzM_tokenized_padded_ended_squeezed_all', data=dfhalo_ngp_xyzM_tokenized_padded_ended_squeezed_all)\n",
    "f.create_dataset('delta_box_all_squeezed_all', data=delta_box_all_squeezed_all)\n",
    "f.create_dataset('dfhalo_ngp_wxyzM_reshape_all', data=dfhalo_ngp_wxyzM_reshape_all)\n",
    "f.create_dataset('Nhalos_truth_reshape_all', data=Nhalos_truth_reshape_all)\n",
    "f.close()\n",
    "\n"
   ]
  },
  {
   "cell_type": "code",
   "execution_count": 14,
   "metadata": {},
   "outputs": [],
   "source": [
    "# dfhalo_ngp_xyzM_tokenized_padded_ended_squeezed_all.shape\n",
    "# dfhalo_ngp_xyzM_tokenized_padded_ended_squeezed_0.shape\n",
    "# dfhalo_ngp_xyzM_tokenized_padded_ended_squeezed_all.dtype\n",
    "sdir = '/mnt/home/spandey/ceph/CHARFORMER/data/'\n",
    "dfhalo_ngp_xyzM_tokenized_padded_ended_squeezed_all.tofile(sdir + 'dfhalo_ngp_xyzM_tokenized_padded_ended_squeezed_isim_0_to_2.bin')\n",
    "\n"
   ]
  },
  {
   "cell_type": "code",
   "execution_count": 16,
   "metadata": {},
   "outputs": [
    {
     "ename": "",
     "evalue": "",
     "output_type": "error",
     "traceback": [
      "\u001b[1;31mThe Kernel crashed while executing code in the current cell or a previous cell. \n",
      "\u001b[1;31mPlease review the code in the cell(s) to identify a possible cause of the failure. \n",
      "\u001b[1;31mClick <a href='https://aka.ms/vscodeJupyterKernelCrash'>here</a> for more info. \n",
      "\u001b[1;31mView Jupyter <a href='command:jupyter.viewOutput'>log</a> for further details."
     ]
    }
   ],
   "source": [
    "# delta_box_all_squeezed_2.shape\n",
    "delta_box_all_squeezed_all = np.vstack((delta_box_all_squeezed_0, delta_box_all_squeezed_1, delta_box_all_squeezed_2))\n",
    "delta_box_all_squeezed_all = np.moveaxis(delta_box_all_squeezed, -1, 1)\n",
    "delta_box_all_squeezed_all.shape\n"
   ]
  },
  {
   "cell_type": "code",
   "execution_count": null,
   "metadata": {},
   "outputs": [],
   "source": [
    "delta_box_all_squeezed_all.tofile(sdir + 'dfhalo_ngp_xyzM_tokenized_padded_ended_squeezed_isim_0_to_2.bin')\n",
    "\n"
   ]
  },
  {
   "cell_type": "code",
   "execution_count": null,
   "metadata": {},
   "outputs": [],
   "source": [
    "dfhalo_ngp_wxyzM_all = np.vstack((dfhalo_ngp_wxyzM_0, dfhalo_ngp_wxyzM_1, dfhalo_ngp_wxyzM_2))\n",
    "print(dfhalo_ngp_wxyzM_all.shape)\n",
    "\n"
   ]
  },
  {
   "cell_type": "code",
   "execution_count": null,
   "metadata": {},
   "outputs": [],
   "source": [
    "dfhalo_ngp_wxyzM_reshape_all = np.vstack((dfhalo_ngp_wxyzM_0_reshape, dfhalo_ngp_wxyzM_1_reshape, dfhalo_ngp_wxyzM_2_reshape))"
   ]
  },
  {
   "cell_type": "code",
   "execution_count": null,
   "metadata": {},
   "outputs": [],
   "source": [
    "Nhalos_truth_reshape_all = np.concatenate((Nhalos_truth_0_reshape, Nhalos_truth_1_reshape, Nhalos_truth_2_reshape))\n",
    "\n"
   ]
  },
  {
   "cell_type": "code",
   "execution_count": null,
   "metadata": {},
   "outputs": [],
   "source": [
    "dfhalo_ngp_wxyzM_reshape_all.tofile(sdir + 'dfhalo_ngp_wxyzM_reshape_all_squeezed_isim_0_to_2.bin')\n",
    "\n",
    "\n"
   ]
  },
  {
   "cell_type": "code",
   "execution_count": null,
   "metadata": {},
   "outputs": [],
   "source": [
    "# Nhalos_truth_0_reshape = np.reshape(Nhalos_truth_0.shape, (grid*grid*grid))\n",
    "Nhalos_truth_reshape_all.tofile(sdir + 'Nhalos_truth_reshape_all_squeezed_isim_0_to_2.bin')\n"
   ]
  },
  {
   "cell_type": "code",
   "execution_count": 1,
   "metadata": {},
   "outputs": [],
   "source": [
    "import numpy as np\n",
    "import h5py as h5\n",
    "\n",
    "f = h5.File('/mnt/home/spandey/ceph/CHARFORMER/data/df_halo_part_ngp_xyzM_tokenized_density3Dgrid_32_isim_012_snap_3.h5', 'r')\n",
    "dfhalo_ngp_xyzM_tokenized_padded_ended_squeezed_all = f['dfhalo_ngp_xyzM_tokenized_padded_ended_squeezed_all'][:]\n",
    "delta_box_all_squeezed_all = f['delta_box_all_squeezed_all'][:]\n",
    "f.close()\n",
    "\n",
    "\n",
    "\n",
    "\n"
   ]
  },
  {
   "cell_type": "code",
   "execution_count": 3,
   "metadata": {},
   "outputs": [
    {
     "data": {
      "text/plain": [
       "(98304, 161)"
      ]
     },
     "execution_count": 3,
     "metadata": {},
     "output_type": "execute_result"
    }
   ],
   "source": [
    "dfhalo_ngp_xyzM_tokenized_padded_ended_squeezed_all.shape\n",
    "\n"
   ]
  },
  {
   "cell_type": "code",
   "execution_count": 4,
   "metadata": {},
   "outputs": [
    {
     "data": {
      "text/plain": [
       "(98304, 3, 32, 32, 32)"
      ]
     },
     "execution_count": 4,
     "metadata": {},
     "output_type": "execute_result"
    }
   ],
   "source": [
    "delta_box_all_squeezed_all.shape\n",
    "\n"
   ]
  },
  {
   "cell_type": "code",
   "execution_count": null,
   "metadata": {},
   "outputs": [],
   "source": []
  }
 ],
 "metadata": {
  "kernelspec": {
   "display_name": "ili-sbi",
   "language": "python",
   "name": "python3"
  },
  "language_info": {
   "codemirror_mode": {
    "name": "ipython",
    "version": 3
   },
   "file_extension": ".py",
   "mimetype": "text/x-python",
   "name": "python",
   "nbconvert_exporter": "python",
   "pygments_lexer": "ipython3",
   "version": "3.10.12"
  }
 },
 "nbformat": 4,
 "nbformat_minor": 2
}
