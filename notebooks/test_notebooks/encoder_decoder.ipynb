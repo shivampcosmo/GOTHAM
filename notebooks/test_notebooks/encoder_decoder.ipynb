{
 "cells": [
  {
   "cell_type": "code",
   "execution_count": 1,
   "metadata": {},
   "outputs": [],
   "source": [
    "import sys, os\n",
    "os.environ[\"CUDA_VISIBLE_DEVICES\"] = \"0\"\n",
    "os.environ[\"CUDA_LAUNCH_BLOCKING\"] = \"1\"\n",
    "# import pickle as pk\n",
    "import numpy as np\n",
    "import torch\n",
    "dev = torch.device(\"cuda\")\n",
    "import torch.optim as optim\n",
    "# from torch.distributions import MultivariateNormal\n",
    "# from torch.distributions import Normal\n",
    "root_dir = '/mnt/home/spandey/ceph/AR_NPE/'\n",
    "os.chdir(root_dir)\n",
    "# import colossus\n",
    "import sys, os\n",
    "# append the root_dir to the path\n",
    "sys.path.append(root_dir)\n",
    "from nf.combined_models_wmaskSumGauss import COMBINED_Model\n",
    "# from nf.combined_models_classification import COMBINED_Model\n",
    "from nf.all_models import *\n",
    "from nf.utils_data_prep_cosmo import *\n",
    "# from tqdm import tqdm\n",
    "# import pyyaml\n",
    "from colossus.cosmology import cosmology\n",
    "params = {'flat': True, 'H0': 67.11, 'Om0': 0.3175, 'Ob0': 0.049, 'sigma8': 0.834, 'ns': 0.9624}\n",
    "cosmo = cosmology.setCosmology('myCosmo', **params)\n",
    "# get halo mass function:\n",
    "from colossus.lss import mass_function\n",
    "from tqdm import tqdm\n",
    "    \n",
    "import yaml\n",
    "import pickle as pk\n",
    "# autoreload modules\n",
    "%load_ext autoreload\n",
    "%autoreload 2\n",
    "\n",
    "import matplotlib\n",
    "%matplotlib inline\n",
    "import matplotlib.pyplot as pl\n",
    "import numpy as np\n",
    "import sys,os\n",
    "import readgadget\n",
    "import MAS_library as MASL\n",
    "import pickle as pk\n",
    "import readfof\n",
    "import matplotlib\n",
    "\n",
    "import matplotlib.pyplot as pl\n",
    "pl.rc('text', usetex=True)\n",
    "# Palatino\n",
    "pl.rc('font', family='DejaVu Sans')\n",
    "%matplotlib inline\n",
    "\n",
    "\n",
    "\n",
    "%load_ext Cython\n",
    "\n",
    "\n",
    "        \n",
    "        \n",
    "        \n",
    "\n"
   ]
  },
  {
   "cell_type": "code",
   "execution_count": 2,
   "metadata": {},
   "outputs": [],
   "source": [
    "df = pk.load(open('/mnt/home/spandey/ceph/CHARFORMER/data/df_halo_part_ngp_xyzM_tokenized_density3Dgrid_32_isim_0_snap_3.pkl','rb'))\n",
    "\n",
    "\n"
   ]
  },
  {
   "cell_type": "code",
   "execution_count": 3,
   "metadata": {},
   "outputs": [
    {
     "name": "stdout",
     "output_type": "stream",
     "text": [
      "(32768, 3, 32, 32, 32)\n"
     ]
    }
   ],
   "source": [
    "# saved = {'dfhalo_ngp_xyzM_tokenized_padded_ended_squeezed':dfhalo_ngp_xyzM_tokenized_padded_ended_squeezed,\n",
    "#         'dfhalo_ngp_wxyzM': dfhalo_ngp_wxyzM,\n",
    "#         'Nhalos_truth': Nhalos_truth,\n",
    "#         'delta_box_all_squeezed': delta_box_all_squeezed}\n",
    "dfhalo_ngp_xyzM_tokenized_padded_ended_squeezed = df['dfhalo_ngp_xyzM_tokenized_padded_ended_squeezed']\n",
    "dfhalo_ngp_wxyzM = df['dfhalo_ngp_wxyzM']\n",
    "Nhalos_truth = df['Nhalos_truth']\n",
    "delta_box_all_squeezed = df['delta_box_all_squeezed']\n",
    "\n",
    "delta_box_all_squeezed = np.moveaxis(delta_box_all_squeezed, -1, 1)\n",
    "print(delta_box_all_squeezed.shape)\n",
    "\n"
   ]
  },
  {
   "cell_type": "code",
   "execution_count": 4,
   "metadata": {},
   "outputs": [],
   "source": [
    "n1 = int(0.8*len(dfhalo_ngp_xyzM_tokenized_padded_ended_squeezed)) # first 90% will be train, rest val\n",
    "n2 = int(0.9*len(dfhalo_ngp_xyzM_tokenized_padded_ended_squeezed)) # first 90% will be train, rest val\n",
    "train_data_halos = dfhalo_ngp_xyzM_tokenized_padded_ended_squeezed[:n1]\n",
    "val_data_halos = dfhalo_ngp_xyzM_tokenized_padded_ended_squeezed[n1:n2]\n",
    "\n",
    "train_data_dm = delta_box_all_squeezed[:n1]\n",
    "val_data_dm = delta_box_all_squeezed[n1:n2]\n",
    "\n"
   ]
  },
  {
   "cell_type": "code",
   "execution_count": 5,
   "metadata": {},
   "outputs": [],
   "source": [
    "# train_data_dm.shape, val_data_dm.shape\n",
    "dfhalo_ngp_wxyzM_train = dfhalo_ngp_wxyzM[:n1]\n",
    "dfhalo_ngp_wxyzM_val = dfhalo_ngp_wxyzM[n1:n2]\n",
    "\n",
    "Nhalos_truth_train = Nhalos_truth[:n1]\n",
    "Nhalos_truth_val = Nhalos_truth[n1:n2]\n"
   ]
  },
  {
   "cell_type": "code",
   "execution_count": 6,
   "metadata": {},
   "outputs": [],
   "source": [
    "# import numpy as np\n",
    "# import os\n",
    "# data_dir = '/mnt/home/spandey/ceph/CHARFORMER/data/'\n",
    "# # df = pk.load(open('/mnt/home/spandey/ceph/CHARFORMER/data/df_halo_part_ngp_xyzM_tokenized_density3Dgrid_32_isim_0_snap_3.pkl','rb'))\n",
    "# data = np.memmap(os.path.join(data_dir, 'dfhalo_ngp_xyzM_tokenized_padded_ended_squeezed_isim_0_to_2.bin'), dtype=np.uint32, mode='r')\n",
    "\n",
    "\n"
   ]
  },
  {
   "cell_type": "code",
   "execution_count": 7,
   "metadata": {},
   "outputs": [],
   "source": [
    "# data.shape\n"
   ]
  },
  {
   "cell_type": "code",
   "execution_count": 4,
   "metadata": {},
   "outputs": [],
   "source": [
    "# delta_box_all_squeezed = np.memmap(os.path.join(data_dir, 'delta_box_squeezed_all_isim_0_to_2.bin'), dtype=np.float32, mode='r')\n"
   ]
  },
  {
   "cell_type": "code",
   "execution_count": 5,
   "metadata": {},
   "outputs": [
    {
     "data": {
      "text/plain": [
       "(9663676416,)"
      ]
     },
     "execution_count": 5,
     "metadata": {},
     "output_type": "execute_result"
    }
   ],
   "source": [
    "# delta_box_all_squeezed.shape\n"
   ]
  },
  {
   "cell_type": "code",
   "execution_count": null,
   "metadata": {},
   "outputs": [],
   "source": []
  },
  {
   "cell_type": "code",
   "execution_count": 27,
   "metadata": {},
   "outputs": [
    {
     "name": "stderr",
     "output_type": "stream",
     "text": [
      "/tmp/ipykernel_1860412/2436837392.py:21: UserWarning: To copy construct from a tensor, it is recommended to use sourceTensor.clone().detach() or sourceTensor.clone().detach().requires_grad_(True), rather than torch.tensor(sourceTensor).\n",
      "  x, y = torch.tensor(x).to(device), torch.tensor(y).to(device)\n",
      "/tmp/ipykernel_1860412/2436837392.py:25: UserWarning: To copy construct from a tensor, it is recommended to use sourceTensor.clone().detach() or sourceTensor.clone().detach().requires_grad_(True), rather than torch.tensor(sourceTensor).\n",
      "  mask_train = torch.tensor(mask_train).to(device).bfloat16()\n",
      "/tmp/ipykernel_1860412/2436837392.py:46: UserWarning: To copy construct from a tensor, it is recommended to use sourceTensor.clone().detach() or sourceTensor.clone().detach().requires_grad_(True), rather than torch.tensor(sourceTensor).\n",
      "  x, y = torch.tensor(x).to(device), torch.tensor(y).to(device)\n",
      "/tmp/ipykernel_1860412/2436837392.py:50: UserWarning: To copy construct from a tensor, it is recommended to use sourceTensor.clone().detach() or sourceTensor.clone().detach().requires_grad_(True), rather than torch.tensor(sourceTensor).\n",
      "  mask_val = torch.tensor(mask_val).to(device).bfloat16()\n"
     ]
    }
   ],
   "source": [
    "# data = train_data if split == 'train' else val_data\n",
    "device = 'cuda' if torch.cuda.is_available() else 'cpu'\n",
    "x = torch.tensor(train_data_halos[:, :-1])\n",
    "y = torch.tensor(train_data_halos[:, 1:])\n",
    "dm = torch.tensor(train_data_dm)\n",
    "\n",
    "# mask_train = x != 1\n",
    "# mask_batch_reshape = torch.tile(mask_train.unsqueeze(-1), (1, 1, mask_train.shape[1]))\n",
    "# mask_batch_reshape_transpose = mask_batch_reshape.transpose(1, 2)\n",
    "# mask_train = torch.logical_not(mask_batch_reshape_transpose)\n",
    "# masked_logits = torch.zeros(mask_train.shape)\n",
    "# mask_train = masked_logits.masked_fill(mask_train, float('-inf'))\n",
    "mask_train_orig = x != 1\n",
    "mask_train = torch.logical_not(mask_train_orig)\n",
    "masked_logits = torch.zeros(mask_train.shape)\n",
    "mask_train_final = masked_logits.masked_fill(mask_train, float('-inf'))\n",
    "mask_train = mask_train_final[:,None,:]\n",
    "\n",
    "\n",
    "\n",
    "x, y = torch.tensor(x).to(device), torch.tensor(y).to(device)\n",
    "x_train = x.long()\n",
    "y_train = y.long()\n",
    "dm_train = dm.to(device).bfloat16()\n",
    "mask_train = torch.tensor(mask_train).to(device).bfloat16()\n",
    "\n",
    "\n",
    "\n",
    "x = torch.tensor(val_data_halos[:, :-1])\n",
    "y = torch.tensor(val_data_halos[:, 1:])\n",
    "dm = torch.tensor(val_data_dm)\n",
    "\n",
    "# mask_val = x != 1\n",
    "# mask_batch_reshape = torch.tile(mask_val.unsqueeze(-1), (1, 1, mask_val.shape[1]))\n",
    "# mask_batch_reshape_transpose = mask_batch_reshape.transpose(1, 2)\n",
    "# mask_val = torch.logical_not(mask_batch_reshape_transpose)\n",
    "# masked_logits = torch.zeros(mask_val.shape)\n",
    "# mask_val = masked_logits.masked_fill(mask_val, float('-inf'))\n",
    "\n",
    "mask_val_orig = x != 1\n",
    "mask_val = torch.logical_not(mask_val_orig)\n",
    "masked_logits = torch.zeros(mask_val.shape)\n",
    "mask_val_final = masked_logits.masked_fill(mask_val, float('-inf'))\n",
    "mask_val = mask_val_final[:,None,:]\n",
    "\n",
    "x, y = torch.tensor(x).to(device), torch.tensor(y).to(device)\n",
    "x_val = x.long()\n",
    "y_val = y.long()\n",
    "dm_val = dm.to(device).bfloat16()\n",
    "mask_val = torch.tensor(mask_val).to(device).bfloat16()\n",
    "\n",
    "\n"
   ]
  },
  {
   "cell_type": "code",
   "execution_count": 8,
   "metadata": {},
   "outputs": [],
   "source": [
    "# device = 'cuda' if torch.cuda.is_available() else 'cpu'\n",
    "# x = torch.tensor(train_data_halos[:, :-1])\n",
    "# y = torch.tensor(train_data_halos[:, 1:])\n",
    "# dm = torch.tensor(train_data_dm)\n",
    "\n",
    "# mask_train_orig = x != 1\n",
    "# mask_train = torch.logical_not(mask_train_orig)\n",
    "# masked_logits = torch.zeros(mask_train.shape)\n",
    "# mask_train_final = masked_logits.masked_fill(mask_train, float('-inf'))\n",
    "# mask_train_final = mask_train_final[:,None,:]\n"
   ]
  },
  {
   "cell_type": "code",
   "execution_count": 28,
   "metadata": {},
   "outputs": [],
   "source": [
    "# nMax_h = 32\n",
    "# nvocab = 128\n",
    "start_token = 0\n",
    "pad_token = 1\n",
    "end_token = int(torch.max(x_train).cpu().numpy()) - 1\n",
    "space_token = int(torch.max(x_train).cpu().numpy())\n",
    "# max_sentence_length = 1 + nMax_h*4 + 1 + (nMax_h-1)\n",
    "\n",
    "# print(max_sentence_length)\n"
   ]
  },
  {
   "cell_type": "code",
   "execution_count": 29,
   "metadata": {},
   "outputs": [],
   "source": [
    "nvocab = 128\n",
    "bins_digitize = np.linspace(-1e-3, 1, nvocab)\n",
    "# bins_digitize.insert(0, -1)\n",
    "bins_digitize = np.insert(bins_digitize, 0, -1)\n",
    "\n"
   ]
  },
  {
   "cell_type": "code",
   "execution_count": 30,
   "metadata": {},
   "outputs": [],
   "source": [
    "import torch\n",
    "import torch.nn as nn\n",
    "from torch.nn import functional as F\n",
    "from dataclasses import dataclass\n",
    "# hyperparameters\n",
    "# batch_size = 16 # how many independent sequences will we process in parallel?\n",
    "# block_size = 32 # what is the maximum context length for predictions?\n",
    "max_iters = 5000\n",
    "eval_interval = 10\n",
    "learning_rate = 3e-4\n",
    "device = 'cuda' if torch.cuda.is_available() else 'cpu'\n",
    "eval_iters = 200\n",
    "n_embd = 48\n",
    "n_head = 4\n",
    "n_layer = 4\n",
    "dropout = 0.2\n",
    "# ------------\n",
    "vocab_size = int(torch.max(x_train).cpu().numpy()) + 1\n",
    "block_size = x_train.shape[-1]\n",
    "batch_size = 1024\n",
    "\n",
    "# n_embd_dm = 64\n",
    "# n_head_dm = 4\n",
    "# n_layer_dm = 3\n",
    "# dropout_dm = 0.2\n",
    "# vocab_size_dm = 3\n",
    "# block_size_dm = dm_train.shape[1]\n",
    "# batch_size = 2048\n",
    "\n",
    "\n",
    "@dataclass\n",
    "class HaloConfig:\n",
    "    block_size: int = block_size\n",
    "    vocab_size: int = vocab_size\n",
    "    n_layer: int = n_layer\n",
    "    n_head: int = n_head\n",
    "    n_embd: int = n_embd\n",
    "    dropout: float = dropout\n",
    "    bias: bool = True # True: bias in Linears and LayerNorms, like GPT-2. False: a bit better and faster\n",
    "\n",
    "    ksize : int = 3\n",
    "    density_grid_in : int = 32\n",
    "    density_grid_out : int = 4\n",
    "    ninp_density : int = 3\n",
    "\n"
   ]
  },
  {
   "cell_type": "code",
   "execution_count": 31,
   "metadata": {},
   "outputs": [
    {
     "name": "stdout",
     "output_type": "stream",
     "text": [
      "The autoreload extension is already loaded. To reload it, use:\n",
      "  %reload_ext autoreload\n"
     ]
    }
   ],
   "source": [
    "%load_ext autoreload\n",
    "%autoreload 2\n"
   ]
  },
  {
   "cell_type": "code",
   "execution_count": 32,
   "metadata": {},
   "outputs": [],
   "source": [
    "import torch\n",
    "import torch.nn as nn\n",
    "import numpy as np\n",
    "import math\n",
    "\n",
    "class ResidualBlock(nn.Module):\n",
    "    \"\"\"\n",
    "    Residual block for 3D CNN\n",
    "    \"\"\"\n",
    "\n",
    "    def __init__(self, nf_inp, nf_out, ksize, padding=None, act='tanh'):\n",
    "        super().__init__()\n",
    "        self.ksize = ksize\n",
    "        self.conv1 = nn.Conv3d(in_channels=nf_inp, out_channels=nf_out, kernel_size=ksize, padding=padding).bfloat16()\n",
    "        if act == 'tanh':\n",
    "            self.act1 = nn.Tanh()\n",
    "        elif act == 'lrelu':\n",
    "            self.act1 = nn.LeakyReLU(0.2)\n",
    "        self.conv2 = nn.Conv3d(in_channels=nf_out, out_channels=nf_out, kernel_size=ksize, padding=padding).bfloat16()\n",
    "        if act == 'tanh':\n",
    "            self.act2 = nn.Tanh()\n",
    "        elif act == 'lrelu':\n",
    "            self.act2 = nn.LeakyReLU(0.2)\n",
    "        \n",
    "        if nf_out != nf_inp:\n",
    "            self.linear = nn.Linear(nf_inp, nf_out, bias=False).bfloat16()\n",
    "        else:\n",
    "            self.linear = None\n",
    "\n",
    "    def forward(self, x):\n",
    "        out = self.conv1(x)\n",
    "        out = self.act1(out)\n",
    "        out = self.conv2(out)\n",
    "        x_to_add = x[..., (self.ksize + 1) // 2:-(self.ksize + 1) // 2,\n",
    "                                  (self.ksize + 1) // 2:-(self.ksize + 1) // 2,\n",
    "                                  (self.ksize + 1) // 2:-(self.ksize + 1) // 2]\n",
    "        if self.linear is not None:\n",
    "            x_to_add = torch.moveaxis(self.linear(torch.moveaxis(x_to_add,1,4)),4,1)\n",
    "        return self.act2(out) + x_to_add\n",
    "\n",
    "class CNN3D_stackout(nn.Module):\n",
    "    \"\"\"\n",
    "    3D CNN with multiple output channels. Moreover, can convolve with filters of different sizes.\n",
    "    \"\"\"\n",
    "\n",
    "    def __init__(\n",
    "            self,\n",
    "            ksize,\n",
    "            nside_in,\n",
    "            nside_out,\n",
    "            # nbatch,\n",
    "            ninp,\n",
    "            nfeature,\n",
    "            # nout,\n",
    "            layers_types=['res', 'res', 'res', 'res'],\n",
    "            # layers_types=['res', 'res'],            \n",
    "            act='tanh',\n",
    "            padding='valid'\n",
    "        ):\n",
    "        super().__init__()\n",
    "        self.ksize = ksize\n",
    "        self.nside_in = nside_in\n",
    "        self.nside_out = nside_out\n",
    "        # self.nbatch = nbatch\n",
    "        self.nfeature = nfeature\n",
    "        # self.nout = nout\n",
    "        self.ninp = ninp\n",
    "        # Define the convolutional layers\n",
    "        self.n_cnn_tot = 0\n",
    "\n",
    "        layers_j_all = []\n",
    "        for j in range(len(layers_types)):\n",
    "            if j == 0:\n",
    "                ninp_j = self.ninp\n",
    "                nout_j = self.nfeature // 4\n",
    "            elif j == 1:\n",
    "                ninp_j = self.nfeature // 4\n",
    "                nout_j = self.nfeature // 2\n",
    "            elif j == 2:\n",
    "                ninp_j = self.nfeature // 2\n",
    "                nout_j = self.nfeature                \n",
    "            else:\n",
    "                ninp_j = self.nfeature\n",
    "                nout_j = self.nfeature\n",
    "            if layers_types[j] == 'cnn':\n",
    "                layers_j_all.append(nn.Conv3d(\n",
    "                    ninp_j,\n",
    "                    nout_j,\n",
    "                    kernel_size=ksize,\n",
    "                    padding=padding,\n",
    "                    ))\n",
    "                if act == 'tanh':\n",
    "                    layers_j_all.append(nn.Tanh())\n",
    "                elif act == 'lrelu':\n",
    "                    layers_j_all.append(nn.LeakyReLU(0.2))\n",
    "                self.n_cnn_tot += 1\n",
    "            elif layers_types[j] == 'res':\n",
    "                layers_j_all.append(ResidualBlock(\n",
    "                    ninp_j,\n",
    "                    nout_j,\n",
    "                    ksize,\n",
    "                    padding=padding,\n",
    "                    act=act,\n",
    "                    ))\n",
    "                self.n_cnn_tot += 2\n",
    "            else:\n",
    "                raise ValueError('Invalid layer type')\n",
    "        self.layers_all = nn.Sequential(*layers_j_all)\n",
    "\n",
    "    def forward(self, cond_mat, pool_type='mean', act='tanh'):\n",
    "        \"\"\"\n",
    "        cond_mat: (nsim, ninp, dim_in+padding, dim_in+padding, dim_in+padding)\n",
    "        Here dim_in is the number of voxels per side, obtained by dividing nside_in by nbatch\n",
    "        \"\"\"\n",
    "        nsim = cond_mat.shape[0]\n",
    "        # dim_out = self.nside_out // self.nbatch\n",
    "        # dim_in = self.nside_in // self.nbatch\n",
    "        dim_out = self.nside_out\n",
    "        # dim_in = self.nside_in\n",
    "\n",
    "\n",
    "        # every convolution reduces the size by ksize - 1, so check the input size\n",
    "        # padded_dim = dim_in + self.n_cnn_tot * (self.ksize - 1)\n",
    "        # if cond_mat.shape[2] != padded_dim:\n",
    "            # raise ValueError('Invalid input size')\n",
    "        cond_cnn = self.layers_all(cond_mat)\n",
    "        # print(cond_cnn.shape)\n",
    "        # The input density can be at higher resolution. In this case, we need to downsample it\n",
    "        npools = int(np.log2(cond_cnn.shape[2] // dim_out))\n",
    "        if npools > 0:\n",
    "            for ji in range(npools):\n",
    "                if pool_type == 'mean':\n",
    "                    cond_cnn = nn.AvgPool3d(2)(cond_cnn)\n",
    "                elif pool_type == 'max':\n",
    "                    cond_cnn = nn.MaxPool3d(2)(cond_cnn)\n",
    "                else:\n",
    "                    raise ValueError('Invalid pooling type')\n",
    "                if act == 'tanh':\n",
    "                    cond_cnn = nn.Tanh()(cond_cnn)\n",
    "                elif act == 'lrelu':\n",
    "                    cond_cnn = nn.LeakyReLU(0.2)(cond_cnn)\n",
    "                else:\n",
    "                    raise ValueError('Invalid activation type')\n",
    "        # first shift the nout dimension to last axis:\n",
    "        cond_cnn = cond_cnn.permute(0, 2, 3, 4, 1)\n",
    "        cond_out_all = (cond_cnn).reshape(nsim, dim_out**3, self.nfeature)\n",
    "        # cond_out_all = cond_cnn\n",
    "        return cond_out_all\n",
    "\n",
    "\n",
    "\n",
    "\n"
   ]
  },
  {
   "cell_type": "code",
   "execution_count": 33,
   "metadata": {},
   "outputs": [],
   "source": [
    "# pre-train CNN for number of halos:\n",
    "\n",
    "\n"
   ]
  },
  {
   "cell_type": "code",
   "execution_count": 34,
   "metadata": {},
   "outputs": [],
   "source": [
    "import math\n",
    "\n",
    "class LayerNorm(nn.Module):\n",
    "    \"\"\" LayerNorm but with an optional bias. PyTorch doesn't support simply bias=False \"\"\"\n",
    "\n",
    "    def __init__(self, ndim, bias):\n",
    "        super().__init__()\n",
    "        self.weight = nn.Parameter(torch.ones(ndim))\n",
    "        self.bias = nn.Parameter(torch.zeros(ndim)) if bias else None\n",
    "\n",
    "    def forward(self, input):\n",
    "        return F.layer_norm(input, self.weight.shape, self.weight, self.bias, 1e-5)\n",
    "    \n",
    "class Attention(nn.Module):\n",
    "\n",
    "    def __init__(self, n_head, n_embd_kv, n_embd_q, dropout, Td, flash=False, attn_bias=False):\n",
    "        super().__init__()\n",
    "        # assert config.n_embd % config.n_head == 0\n",
    "        # key, query, value projections for all heads, but in a batch\n",
    "        self.q_attn = nn.Linear(n_embd_q, n_embd_q, bias=attn_bias)\n",
    "        self.k_attn = nn.Linear(n_embd_kv, n_embd_kv, bias=attn_bias)\n",
    "        self.v_attn = nn.Linear(n_embd_kv, n_embd_kv, bias=attn_bias)\n",
    "        # output projection\n",
    "        # self.c_proj = nn.Linear(config.n_embd, config.n_embd, bias=config.bias)\n",
    "        self.c_proj = nn.Linear(n_embd_q, n_embd_q, bias=attn_bias)        \n",
    "        # regularization\n",
    "        # self.attn_dropout = nn.Dropout(config.dropout)\n",
    "        self.resid_dropout = nn.Dropout(dropout)\n",
    "        self.n_head = n_head\n",
    "        # self.n_embd = config.n_embd\n",
    "        self.dropout = dropout\n",
    "        # self.is_causal = is_causal\n",
    "        self.flash = flash\n",
    "        if not self.flash:\n",
    "            self.attn_dropout = nn.Dropout(self.dropout)\n",
    "            print(\"WARNING: using slow attention. Flash Attention requires PyTorch >= 2.0\")\n",
    "            # causal mask to ensure that attention is only applied to the left in the input sequence\n",
    "            self.register_buffer(\"bias\", torch.tril(torch.ones(Td, Td))\n",
    "                                        .view(1, 1, Td, Td))\n",
    "\n",
    "    def forward(self, xd, xe=None, maskd=None, maske=None):\n",
    "        B, Td, C = xd.size() # batch size, sequence length, embedding dimensionality (n_embd)\n",
    "        \n",
    "\n",
    "        # calculate query, key, values for all heads in batch and move head forward to be the batch dim\n",
    "        # q, k, v  = self.c_attn(x).split(self.n_embd, dim=2)\n",
    "        q = self.q_attn(xd).view(B, Td, self.n_head, C // self.n_head).transpose(1, 2) # (B, nh, T, hs)\n",
    "        if xe is not None:        \n",
    "            _, Te, _ = xe.size() # batch size, sequence length, embedding dimensionality (n_embd)\n",
    "            k = self.k_attn(xe).view(B, Te, self.n_head, C // self.n_head).transpose(1, 2)\n",
    "            v = self.v_attn(xe).view(B, Te, self.n_head, C // self.n_head).transpose(1, 2)\n",
    "            if self.flash:\n",
    "                y = torch.nn.functional.scaled_dot_product_attention(q, k, v, attn_mask=maske, dropout_p=self.dropout if self.training else 0, is_causal=False)       \n",
    "            else:\n",
    "                # manual implementation of attention\n",
    "                att = (q @ k.transpose(-2, -1)) * (1.0 / math.sqrt(k.size(-1)))\n",
    "                # att = att.masked_fill(self.bias[:,:,:Td,:Td] == 0, float('-inf'))\n",
    "                if maske is not None:\n",
    "                    att += maske                \n",
    "                att = F.softmax(att, dim=-1)\n",
    "                att = self.attn_dropout(att)\n",
    "                y = att @ v # (B, nh, T, T) x (B, nh, T, hs) -> (B, nh, T, hs)                        \n",
    "        else:\n",
    "            k = self.k_attn(xd).view(B, Td, self.n_head, C // self.n_head).transpose(1, 2)\n",
    "            v = self.v_attn(xd).view(B, Td, self.n_head, C // self.n_head).transpose(1, 2)\n",
    "            if maskd is not None:\n",
    "                # maskd = maskd.view(B, 1, Td, Td).expand(B, self.n_head, Td, Td) # specifies new size\n",
    "                maskd = maskd.view(B, 1, 1, Td).expand(B, self.n_head, Td, Td) # specifies new size\n",
    "            if self.flash:\n",
    "                y = torch.nn.functional.scaled_dot_product_attention(q, k, v, attn_mask=maskd, dropout_p=self.dropout if self.training else 0, is_causal=True)\n",
    "            else:\n",
    "                # manual implementation of attention\n",
    "                att = (q @ k.transpose(-2, -1)) * (1.0 / math.sqrt(k.size(-1)))\n",
    "                att = att.masked_fill(self.bias[:,:,:Td,:Td] == 0, float('-inf'))\n",
    "                if maskd is not None:\n",
    "                    att += maskd\n",
    "                att = F.softmax(att, dim=-1)\n",
    "                att = self.attn_dropout(att)\n",
    "                y = att @ v # (B, nh, T, T) x (B, nh, T, hs) -> (B, nh, T, hs)                \n",
    "\n",
    "\n",
    "        # k = k.view(B, Te, self.n_head, C // self.n_head).transpose(1, 2) # (B, nh, T, hs)\n",
    "        # q = q.view(B, Td, self.n_head, C // self.n_head).transpose(1, 2) # (B, nh, T, hs)\n",
    "        # v = v.view(B, Te, self.n_head, C // self.n_head).transpose(1, 2) # (B, nh, T, hs)\n",
    "\n",
    "        # causal self-attention; Self-attend: (B, nh, T, hs) x (B, nh, hs, T) -> (B, nh, T, T)\n",
    "        # if self.flash:\n",
    "        # efficient attention using Flash Attention CUDA kernels\n",
    "        \n",
    "        # else:\n",
    "        #     # manual implementation of attention\n",
    "        #     att = (q @ k.transpose(-2, -1)) * (1.0 / math.sqrt(k.size(-1)))\n",
    "        #     att = att.masked_fill(self.bias[:,:,:T,:T] == 0, float('-inf'))\n",
    "        #     att = F.softmax(att, dim=-1)\n",
    "        #     att = self.attn_dropout(att)\n",
    "        #     y = att @ v # (B, nh, T, T) x (B, nh, T, hs) -> (B, nh, T, hs)\n",
    "        y = y.transpose(1, 2).contiguous().view(B, Td, C) # re-assemble all head outputs side by side\n",
    "\n",
    "        # output projection\n",
    "        y = self.resid_dropout(self.c_proj(y))\n",
    "        return y\n",
    "\n",
    "\n",
    "class MLP(nn.Module):\n",
    "\n",
    "    def __init__(self, n_embd_q, dropout):\n",
    "        super().__init__()\n",
    "        self.c_fc    = nn.Linear(n_embd_q, 4 * n_embd_q)\n",
    "        self.gelu    = nn.GELU()\n",
    "        self.c_proj  = nn.Linear(4 * n_embd_q, n_embd_q)\n",
    "        self.dropout = nn.Dropout(dropout)\n",
    "\n",
    "    def forward(self, x):\n",
    "        x = self.c_fc(x)\n",
    "        x = self.gelu(x)\n",
    "        x = self.c_proj(x)\n",
    "        x = self.dropout(x)\n",
    "        return x\n",
    "\n",
    "\n",
    "class Block(nn.Module):\n",
    "\n",
    "    def __init__(self, config):\n",
    "        super().__init__()\n",
    "        self.ln_1 = LayerNorm(config.n_embd, bias=config.bias)\n",
    "        self.selfattn = Attention(config.n_head, config.n_embd, config.n_embd, config.dropout, config.block_size, attn_bias=False)\n",
    "        self.ln_2 = LayerNorm(config.n_embd, bias=config.bias)        \n",
    "        self.crossattn = Attention(config.n_head, config.n_embd, config.n_embd, config.dropout, config.block_size, attn_bias=False)        \n",
    "        self.ln_3 = LayerNorm(config.n_embd, bias=config.bias)\n",
    "        self.mlp = MLP(config.n_embd, config.dropout)\n",
    "\n",
    "    def forward(self, x, xe=None, maskd=None, maske=None):\n",
    "        x = x + self.selfattn(self.ln_1(x), xe=None, maskd=maskd, maske=None)\n",
    "        x = x + self.crossattn(self.ln_2(x), xe=xe, maskd=maskd, maske=None)        \n",
    "        x = x + self.mlp(self.ln_3(x))\n",
    "        return x        \n",
    "\n",
    "\n",
    "\n"
   ]
  },
  {
   "cell_type": "code",
   "execution_count": 35,
   "metadata": {},
   "outputs": [],
   "source": [
    "import math\n",
    "class HaloDecoderModel(nn.Module):\n",
    "\n",
    "    def __init__(self, config):\n",
    "        super().__init__()\n",
    "        self.config = config\n",
    "        self.cnn3D = CNN3D_stackout(config.ksize,\n",
    "                    config.density_grid_in,\n",
    "                    config.density_grid_out,\n",
    "                    config.ninp_density,\n",
    "                    config.n_embd)        \n",
    "        # each token directly reads off the logits for the next token from a lookup table\n",
    "        # self.token_embedding_table = nn.Linear(config.vocab_size, config.n_embd)\n",
    "        # self.position_embedding_table = nn.Embedding(block_size, n_embd)\n",
    "        # self.blocks = nn.Sequential(*[Block(n_embd, n_head=n_head) for _ in range(n_layer)])\n",
    "        # self.blocks = nn.ModuleList([Block(n_embd, n_head=n_head) for _ in range(n_layer)])\n",
    "        self.transformer = nn.ModuleDict(dict(\n",
    "            wte = nn.Embedding(config.vocab_size, config.n_embd),\n",
    "            wpe = nn.Embedding(config.block_size, config.n_embd),\n",
    "            drop = nn.Dropout(config.dropout),\n",
    "            h = nn.ModuleList([Block(config) for _ in range(config.n_layer)]),\n",
    "            ln_f = LayerNorm(config.n_embd, bias=config.bias),\n",
    "        ))  \n",
    "        self.lm_head = nn.Linear(config.n_embd, config.vocab_size, bias=False)      \n",
    "        self.transformer.wte.weight = self.lm_head.weight  # https://paperswithcode.com/method/weight-tying\n",
    "\n",
    "        # init all weights\n",
    "        self.apply(self._init_weights)\n",
    "        # apply special scaled init to the residual projections, per GPT-2 paper\n",
    "        for pn, p in self.named_parameters():\n",
    "            if pn.endswith('c_proj.weight'):\n",
    "                torch.nn.init.normal_(p, mean=0.0, std=0.02/math.sqrt(2 * config.n_layer))\n",
    "\n",
    "        # report number of parameters\n",
    "        print(\"number of parameters: %.2fM\" % (self.get_num_params()/1e6,))\n",
    "\n",
    "    def get_num_params(self, non_embedding=True):\n",
    "        \"\"\"\n",
    "        Return the number of parameters in the model.\n",
    "        For non-embedding count (default), the position embeddings get subtracted.\n",
    "        The token embeddings would too, except due to the parameter sharing these\n",
    "        params are actually used as weights in the final layer, so we include them.\n",
    "        \"\"\"\n",
    "        n_params = sum(p.numel() for p in self.parameters())\n",
    "        if non_embedding:\n",
    "            n_params -= self.transformer.wpe.weight.numel()\n",
    "        return n_params\n",
    "\n",
    "    def _init_weights(self, module):\n",
    "        if isinstance(module, nn.Linear):\n",
    "            torch.nn.init.normal_(module.weight, mean=0.0, std=0.02)\n",
    "            if module.bias is not None:\n",
    "                torch.nn.init.zeros_(module.bias)\n",
    "        elif isinstance(module, nn.Embedding):\n",
    "            torch.nn.init.normal_(module.weight, mean=0.0, std=0.02)\n",
    "\n",
    "    def forward(self, idx, density_all, maskd=None, targets=None):\n",
    "        device = idx.device\n",
    "        b, t = idx.size()\n",
    "        assert t <= self.config.block_size, f\"Cannot forward sequence of length {t}, block size is only {self.config.block_size}\"\n",
    "        pos = torch.arange(0, t, dtype=torch.long, device=device) # shape (t)\n",
    "\n",
    "        xe = self.cnn3D(density_all)\n",
    "\n",
    "        tok_emb = self.transformer.wte(idx) # token embeddings of shape (b, t, n_embd)\n",
    "        pos_emb = self.transformer.wpe(pos) # position embeddings of shape (t, n_embd)\n",
    "        x = self.transformer.drop(tok_emb + pos_emb)\n",
    "        for block in self.transformer.h:\n",
    "            x = block(x, xe=xe, maskd=maskd)\n",
    "        x = self.transformer.ln_f(x)\n",
    "\n",
    "        if targets is not None:\n",
    "            # if we are given some desired targets also calculate the loss\n",
    "            logits = self.lm_head(x)\n",
    "            loss = F.cross_entropy(logits.view(-1, logits.size(-1)), targets.view(-1), ignore_index=1)\n",
    "            # loss = F.cross_entropy(logits, targets, ignore_index=1)            \n",
    "        else:\n",
    "            # inference-time mini-optimization: only forward the lm_head on the very last position\n",
    "            logits = self.lm_head(x[:, [-1], :]) # note: using list [-1] to preserve the time dim\n",
    "            loss = None\n",
    "\n",
    "        return logits, loss\n",
    "\n",
    "\n",
    "    def generate(self, idx_inp, density_inp, max_new_tokens, temperature=1.0, nvox_samp=32):\n",
    "        # idx is (B, T) array of indices in the current context\n",
    "        idx_all = []\n",
    "        for jv in range(nvox_samp):\n",
    "            idx = idx_inp\n",
    "            for _ in range(max_new_tokens):\n",
    "                # crop idx to the last block_size tokens\n",
    "                idx_cond = idx[:, -block_size:]\n",
    "                # get the predictions\n",
    "                logits, _ = self(idx_cond, density_inp[jv,...].unsqueeze(0))\n",
    "                # focus only on the last time step\n",
    "                logits = logits[:, -1, :] / temperature # becomes (B, C)\n",
    "                # apply softmax to get probabilities\n",
    "                probs = F.softmax(logits, dim=-1) # (B, C)\n",
    "                # sample from the distribution\n",
    "                idx_next = torch.multinomial(probs, num_samples=1) # (B, 1)\n",
    "                # append sampled index to the running sequence\n",
    "                if idx_next == end_token:\n",
    "                    break\n",
    "                idx = torch.cat((idx, idx_next), dim=1) # (B, T+1)\n",
    "            idx_all.append(idx)\n",
    "        return idx_all\n",
    "\n",
    "\n",
    "\n",
    "\n"
   ]
  },
  {
   "cell_type": "code",
   "execution_count": null,
   "metadata": {},
   "outputs": [],
   "source": [
    "\n",
    "\n"
   ]
  },
  {
   "cell_type": "code",
   "execution_count": 36,
   "metadata": {},
   "outputs": [
    {
     "name": "stdout",
     "output_type": "stream",
     "text": [
      "WARNING: using slow attention. Flash Attention requires PyTorch >= 2.0\n",
      "WARNING: using slow attention. Flash Attention requires PyTorch >= 2.0\n",
      "WARNING: using slow attention. Flash Attention requires PyTorch >= 2.0\n",
      "WARNING: using slow attention. Flash Attention requires PyTorch >= 2.0\n",
      "WARNING: using slow attention. Flash Attention requires PyTorch >= 2.0\n",
      "WARNING: using slow attention. Flash Attention requires PyTorch >= 2.0\n",
      "WARNING: using slow attention. Flash Attention requires PyTorch >= 2.0\n",
      "WARNING: using slow attention. Flash Attention requires PyTorch >= 2.0\n",
      "number of parameters: 0.40M\n"
     ]
    }
   ],
   "source": [
    "model = HaloDecoderModel(HaloConfig)\n",
    "model.to(device).bfloat16()\n",
    "# # print the number of parameters in the model\n",
    "# print(sum(p.numel() for p in m.parameters())/1e6, 'M parameters')\n",
    "\n",
    "# create a PyTorch optimizer\n",
    "optimizer = torch.optim.AdamW(model.parameters(), lr=learning_rate)\n",
    "\n"
   ]
  },
  {
   "cell_type": "code",
   "execution_count": 37,
   "metadata": {},
   "outputs": [],
   "source": [
    "def get_batch(split, ji=0, batch_size=None):\n",
    "    if split == 'train':\n",
    "        x = x_train\n",
    "        y = y_train\n",
    "        mask = mask_train\n",
    "        dm = dm_train\n",
    "        # mask_dm = mask_dm_train\n",
    "    elif split == 'val':\n",
    "        x = x_val\n",
    "        y = y_val\n",
    "        mask = mask_val\n",
    "        dm = dm_val\n",
    "        # mask_dm = mask_dm_val\n",
    "    if batch_size is not None:\n",
    "        x = x[batch_size*(ji):batch_size*(ji+1)]\n",
    "        y = y[batch_size*(ji):batch_size*(ji+1)]\n",
    "        mask = mask[batch_size*(ji):batch_size*(ji+1)]\n",
    "        dm = dm[batch_size*(ji):batch_size*(ji+1)]\n",
    "        # mask_dm = mask_dm[:batch_size]\n",
    "    return x, y, mask, dm\n",
    "    # return x, y\n",
    "\n",
    "from contextlib import nullcontext\n",
    "dtype = 'bfloat16' if torch.cuda.is_available() and torch.cuda.is_bf16_supported() else 'float16' # 'float32', 'bfloat16', or 'float16', the latter will auto implement a GradScaler\n",
    "# dtype = 'float32'\n",
    "# if master_process:\n",
    "    # os.makedirs(out_dir, exist_ok=True)\n",
    "torch.manual_seed(1337)\n",
    "torch.backends.cuda.matmul.allow_tf32 = True # allow tf32 on matmul\n",
    "torch.backends.cudnn.allow_tf32 = True # allow tf32 on cudnn\n",
    "device_type = 'cuda' if 'cuda' in device else 'cpu' # for later use in torch.autocast\n",
    "# note: float16 data type will automatically use a GradScaler\n",
    "ptdtype = {'float32': torch.float32, 'bfloat16': torch.bfloat16, 'float16': torch.float16}[dtype]\n",
    "ctx = nullcontext() if device_type == 'cpu' else torch.amp.autocast(device_type=device_type, dtype=ptdtype)\n",
    "\n",
    "\n",
    "# helps estimate an arbitrarily accurate loss over either split using many batches\n",
    "@torch.no_grad()\n",
    "def estimate_loss():\n",
    "    out = {}\n",
    "    # model.eval()\n",
    "    for split in ['train', 'val']:\n",
    "        losses = torch.zeros(eval_iters)\n",
    "        for k in range(eval_iters):\n",
    "            X, Y, MASK, DM = get_batch(split, batch_size = batch_size)\n",
    "            with ctx:\n",
    "                logits, loss = model(X, DM, maskd=MASK, targets=Y)\n",
    "            losses[k] = loss.item()\n",
    "        out[split] = losses.mean()\n",
    "    # model.train()\n",
    "    return out\n"
   ]
  },
  {
   "cell_type": "code",
   "execution_count": 38,
   "metadata": {},
   "outputs": [
    {
     "name": "stdout",
     "output_type": "stream",
     "text": [
      "tokens per iteration will be: 163,840\n"
     ]
    }
   ],
   "source": [
    "# gradient_accumulation_steps = 5 * 8 # used to simulate larger batch sizes\n",
    "# batch_size = 256 # if gradient_accumulation_steps > 1, this is the micro-batch size\n",
    "ddp_world_size = 1\n",
    "tokens_per_iter = ddp_world_size * batch_size * block_size\n",
    "print(f\"tokens per iteration will be: {tokens_per_iter:,}\")\n",
    "\n"
   ]
  },
  {
   "cell_type": "code",
   "execution_count": 39,
   "metadata": {},
   "outputs": [],
   "source": [
    "# poor man's data loader\n",
    "# data_dir = os.path.join('data', dataset)\n",
    "def get_batch(split, ji=0, batch_size=None):\n",
    "    if split == 'train':\n",
    "        x = x_train\n",
    "        y = y_train\n",
    "        mask = mask_train\n",
    "        dm = dm_train\n",
    "        # mask_dm = mask_dm_train\n",
    "    elif split == 'val':\n",
    "        x = x_val\n",
    "        y = y_val\n",
    "        mask = mask_val\n",
    "        dm = dm_val\n",
    "        # mask_dm = mask_dm_val\n",
    "    if batch_size is not None:\n",
    "        x = x[batch_size*(ji):batch_size*(ji+1)].to(device, non_blocking=True)\n",
    "        y = y[batch_size*(ji):batch_size*(ji+1)].to(device, non_blocking=True)\n",
    "        mask = mask[batch_size*(ji):batch_size*(ji+1)].to(device, non_blocking=True)\n",
    "        dm = dm[batch_size*(ji):batch_size*(ji+1)].to(device, non_blocking=True)\n",
    "        # mask_dm = mask_dm[:batch_size]\n",
    "    return x, y, mask, dm"
   ]
  },
  {
   "cell_type": "code",
   "execution_count": 40,
   "metadata": {},
   "outputs": [
    {
     "name": "stdout",
     "output_type": "stream",
     "text": [
      "compiling the model... (takes a ~minute)\n"
     ]
    }
   ],
   "source": [
    "# compile the model\n",
    "# if compile:\n",
    "print(\"compiling the model... (takes a ~minute)\")\n",
    "unoptimized_model = model\n",
    "model = torch.compile(model) # requires PyTorch 2.0\n",
    "\n"
   ]
  },
  {
   "cell_type": "code",
   "execution_count": 41,
   "metadata": {},
   "outputs": [],
   "source": [
    "# split='train'\n",
    "# X, Y, MASK, DM = get_batch(split, batch_size = batch_size)\n",
    "\n"
   ]
  },
  {
   "cell_type": "code",
   "execution_count": 42,
   "metadata": {},
   "outputs": [],
   "source": [
    "weight_decay = 1e-1\n",
    "beta1 = 0.9\n",
    "beta2 = 0.95\n",
    "# initialize a GradScaler. If enabled=False scaler is a no-op\n",
    "scaler = torch.cuda.amp.GradScaler(enabled=(dtype == 'float16'))\n",
    "# optimizer\n",
    "# optimizer = model.configure_optimizers(weight_decay, learning_rate, (beta1, beta2), device_type)\n"
   ]
  },
  {
   "cell_type": "code",
   "execution_count": 43,
   "metadata": {},
   "outputs": [
    {
     "data": {
      "text/plain": [
       "<All keys matched successfully>"
      ]
     },
     "execution_count": 43,
     "metadata": {},
     "output_type": "execute_result"
    }
   ],
   "source": [
    "# 512*24\n",
    "model.load_state_dict(torch.load('/mnt/home/spandey/ceph/CHARFORMER/model_checkpoints/model_encdec.pt'))\n",
    "\n"
   ]
  },
  {
   "cell_type": "code",
   "execution_count": 44,
   "metadata": {},
   "outputs": [],
   "source": [
    "# DM.dtype, X.dtype, Y.dtype, MASK.dtype\n",
    "from tqdm import tqdm\n",
    "\n",
    "\n",
    "\n"
   ]
  },
  {
   "cell_type": "code",
   "execution_count": 45,
   "metadata": {},
   "outputs": [
    {
     "name": "stdout",
     "output_type": "stream",
     "text": [
      "step 0: train loss 3.3718, val loss 3.3732\n",
      "New best model saved with loss 3.3732\n",
      "iter 0, loss: 3.363295555114746\n",
      "iter 10, loss: 3.370659828186035\n",
      "iter 20, loss: 3.366650104522705\n",
      "iter 30, loss: 3.3651516437530518\n",
      "step 40: train loss 3.3732, val loss 3.3746\n",
      "iter 40, loss: 3.3642847537994385\n",
      "iter 50, loss: 3.365000009536743\n",
      "iter 60, loss: 3.3636887073516846\n",
      "iter 70, loss: 3.3641486167907715\n",
      "step 80: train loss 3.3715, val loss 3.3730\n",
      "New best model saved with loss 3.3730\n",
      "iter 80, loss: 3.362738847732544\n",
      "iter 90, loss: 3.362356424331665\n",
      "iter 100, loss: 3.363553285598755\n",
      "iter 110, loss: 3.3621227741241455\n",
      "step 120: train loss 3.3709, val loss 3.3722\n",
      "New best model saved with loss 3.3722\n",
      "iter 120, loss: 3.3623361587524414\n",
      "iter 130, loss: 3.3627400398254395\n",
      "iter 140, loss: 3.3604888916015625\n",
      "iter 150, loss: 3.3619439601898193\n",
      "step 160: train loss 3.3703, val loss 3.3716\n",
      "New best model saved with loss 3.3716\n",
      "iter 160, loss: 3.3622117042541504\n",
      "iter 170, loss: 3.362283945083618\n",
      "iter 180, loss: 3.3615052700042725\n",
      "iter 190, loss: 3.3631927967071533\n"
     ]
    }
   ],
   "source": [
    "val_loss_min = 1e20\n",
    "# saved = {}\n",
    "eval_interval = 40\n",
    "nbatches = 24\n",
    "for iter in range(max_iters):\n",
    "\n",
    "    # every once in a while evaluate the loss on train and val sets\n",
    "    if iter % eval_interval == 0 or iter == max_iters - 1:\n",
    "        losses = estimate_loss()\n",
    "        print(f\"step {iter}: train loss {losses['train']:.4f}, val loss {losses['val']:.4f}\")\n",
    "\n",
    "        # save the model if it's better than the previous best:\n",
    "        if losses['val'] < val_loss_min:\n",
    "            val_loss_min = losses['val']\n",
    "            # torch.save(model.state_dict(), '/mnt/home/spandey/ceph/CHARFORMER/model_checkpoints/model_encdec.pt')\n",
    "            torch.save(model.state_dict(), '/mnt/home/spandey/ceph/CHARFORMER/model_checkpoints/model_encdec_testmask.pt')            \n",
    "            print(f\"New best model saved with loss {val_loss_min:.4f}\")\n",
    "\n",
    "    for ji in (range(nbatches)):\n",
    "        X, Y, MASK, DM = get_batch('train', ji, batch_size)\n",
    "        with ctx:\n",
    "            logits, loss = model(X, DM, maskd=MASK, targets=Y)\n",
    "            # loss = loss\n",
    "        # backward pass, with gradient scaling if training in fp16\n",
    "        scaler.scale(loss).backward()\n",
    "    scaler.step(optimizer)\n",
    "    scaler.update()\n",
    "    # flush the gradients as soon as we can, no need for this memory anymore\n",
    "    optimizer.zero_grad(set_to_none=True)\n",
    "    if iter % 10 == 0:\n",
    "        print(f\"iter {iter}, loss: {loss.item()}\")\n",
    "    # optimizer.zero_grad(set_to_none=True)\n",
    "    # loss.backward()\n",
    "    # optimizer.step()\n",
    "\n",
    "\n"
   ]
  },
  {
   "cell_type": "code",
   "execution_count": 28,
   "metadata": {},
   "outputs": [
    {
     "data": {
      "text/plain": [
       "<All keys matched successfully>"
      ]
     },
     "execution_count": 28,
     "metadata": {},
     "output_type": "execute_result"
    }
   ],
   "source": [
    "model.load_state_dict(torch.load('/mnt/home/spandey/ceph/CHARFORMER/model_checkpoints/model_encdec.pt'))\n",
    "\n"
   ]
  },
  {
   "cell_type": "code",
   "execution_count": 29,
   "metadata": {},
   "outputs": [
    {
     "name": "stdout",
     "output_type": "stream",
     "text": [
      "train loss 3.4381, val loss 3.4373\n"
     ]
    }
   ],
   "source": [
    "losses = estimate_loss()\n",
    "print(f\"train loss {losses['train']:.4f}, val loss {losses['val']:.4f}\")\n",
    "\n"
   ]
  },
  {
   "cell_type": "code",
   "execution_count": 91,
   "metadata": {},
   "outputs": [],
   "source": [
    "X_val, Y_val, MASK_val, DM_val = get_batch('val', 0, batch_size)\n",
    "\n"
   ]
  },
  {
   "cell_type": "code",
   "execution_count": 92,
   "metadata": {},
   "outputs": [
    {
     "data": {
      "text/plain": [
       "<matplotlib.image.AxesImage at 0x154df38045b0>"
      ]
     },
     "execution_count": 92,
     "metadata": {},
     "output_type": "execute_result"
    },
    {
     "data": {
      "image/png": "[encoded data removed]",
      "text/plain": [
       "<Figure size 640x480 with 1 Axes>"
      ]
     },
     "metadata": {},
     "output_type": "display_data"
    }
   ],
   "source": [
    "# DM_val.shape\n",
    "pl.figure()\n",
    "pl.imshow(DM_val[0,0,16,...].detach().cpu().to(torch.float16).numpy(), origin='lower')\n",
    "\n",
    "\n"
   ]
  },
  {
   "cell_type": "code",
   "execution_count": 93,
   "metadata": {},
   "outputs": [],
   "source": [
    "# DM_val.shape\n",
    "# batch_size\n",
    "DM_val_tosplit = DM_val.detach().cpu().to(torch.float16).numpy()[:batch_size, 0, ...].reshape(batch_size, DM_val.shape[-1]**3)\n",
    "DM_val_tosplit_mean = np.mean(DM_val_tosplit, axis=-1)\n"
   ]
  },
  {
   "cell_type": "code",
   "execution_count": 94,
   "metadata": {},
   "outputs": [],
   "source": [
    "\n",
    "\n",
    "\n",
    "\n",
    "\n",
    "# pl.figure()\n",
    "# _ = pl.hist(DM_val_tosplit_mean)\n",
    "\n"
   ]
  },
  {
   "cell_type": "code",
   "execution_count": 95,
   "metadata": {},
   "outputs": [
    {
     "name": "stdout",
     "output_type": "stream",
     "text": [
      "220 653 151\n"
     ]
    }
   ],
   "source": [
    "\n",
    "vlow = 0.00075\n",
    "vmid = 0.0013\n",
    "\n",
    "indlow = np.where(DM_val_tosplit_mean < vlow)[0]\n",
    "indmid = np.where((DM_val_tosplit_mean >= vlow) & (DM_val_tosplit_mean < vmid))[0]\n",
    "indhigh = np.where(DM_val_tosplit_mean >= vmid)[0]\n",
    "\n",
    "print(len(indlow), len(indmid), len(indhigh))\n",
    "\n"
   ]
  },
  {
   "cell_type": "code",
   "execution_count": 96,
   "metadata": {},
   "outputs": [
    {
     "name": "stderr",
     "output_type": "stream",
     "text": [
      "  0%|          | 0/1024 [00:00<?, ?it/s]"
     ]
    },
    {
     "name": "stderr",
     "output_type": "stream",
     "text": [
      "100%|██████████| 1024/1024 [04:45<00:00,  3.59it/s]\n"
     ]
    }
   ],
   "source": [
    "from tqdm import tqdm\n",
    "idx_inp = torch.zeros((1, 1), dtype=torch.long, device=device)\n",
    "nvox_samp = 1024\n",
    "max_new_tokens = 160\n",
    "idx_all = []\n",
    "for jv in tqdm(range(nvox_samp)):\n",
    "    idx = idx_inp\n",
    "    for _ in range(max_new_tokens):\n",
    "        # crop idx to the last block_size tokens\n",
    "        idx_cond = idx[:, -block_size:]\n",
    "        # get the predictions\n",
    "        logits, loss = model(idx_cond, DM_val[jv,...].unsqueeze(0))\n",
    "        # focus only on the last time step\n",
    "        logits = logits[:, -1, :] # becomes (B, C)\n",
    "        # apply softmax to get probabilities\n",
    "        probs = F.softmax(logits, dim=-1) # (B, C)\n",
    "        # sample from the distribution\n",
    "        idx_next = torch.multinomial(probs, num_samples=1) # (B, 1)\n",
    "        # append sampled index to the running sequence\n",
    "        if idx_next == end_token:\n",
    "            break\n",
    "        idx = torch.cat((idx, idx_next), dim=1) # (B, T+1)\n",
    "    idx_all.append(idx)\n",
    "    "
   ]
  },
  {
   "cell_type": "code",
   "execution_count": 97,
   "metadata": {},
   "outputs": [
    {
     "data": {
      "text/plain": [
       "torch.Size([1, 1])"
      ]
     },
     "execution_count": 97,
     "metadata": {},
     "output_type": "execute_result"
    }
   ],
   "source": [
    "# idx_all[0:3]\n",
    "# DM_val[jv,...].unsqueeze(0).shape\n",
    "jv = 0\n",
    "idx_inp = torch.zeros((1, 1), dtype=torch.long, device=device)\n",
    "idx = idx_inp\n",
    "idx_cond = idx[:, -block_size:]\n",
    "idx_cond.shape\n"
   ]
  },
  {
   "cell_type": "code",
   "execution_count": 98,
   "metadata": {},
   "outputs": [],
   "source": [
    "# idx_all\n",
    "\n"
   ]
  },
  {
   "cell_type": "code",
   "execution_count": 99,
   "metadata": {},
   "outputs": [],
   "source": [
    "Mmin_cut = 1e13\n",
    "lgMin = np.log10(Mmin_cut)\n",
    "lgMax = 15.5\n"
   ]
  },
  {
   "cell_type": "code",
   "execution_count": 100,
   "metadata": {},
   "outputs": [
    {
     "name": "stderr",
     "output_type": "stream",
     "text": [
      "/tmp/ipykernel_3399291/146409788.py:26: DeprecationWarning: Conversion of an array with ndim > 0 to a scalar is deprecated, and will error in future. Ensure you extract a single element from your array before performing this operation. (Deprecated NumPy 1.25.)\n",
      "  Mhalo[jh] = bins_digitize[idx[idx0]] * (lgMax - lgMin) + lgMin\n",
      "/tmp/ipykernel_3399291/146409788.py:31: DeprecationWarning: Conversion of an array with ndim > 0 to a scalar is deprecated, and will error in future. Ensure you extract a single element from your array before performing this operation. (Deprecated NumPy 1.25.)\n",
      "  Mhalo[jh] = bins_digitize[idx[idxe]] * (lgMax - lgMin) + lgMin\n"
     ]
    }
   ],
   "source": [
    "Nhalo_all_truth = []\n",
    "Mhalo_all_truth = []\n",
    "\n",
    "for jv in range(nvox_samp):\n",
    "    idx = X_val[jv]\n",
    "    idx = idx.cpu().numpy().flatten()\n",
    "    # idx = idx[1:]\n",
    "    # idx = idx[:np.where(idx == end_token)[0][0]]\n",
    "    # idx = idx.reshape(-1, 5)\n",
    "    idxe = np.where(idx == space_token)[0] + 1\n",
    "    idx0 = np.where(idx == start_token)[0] + 1\n",
    "    # check with idx0 is a scalar or an array:\n",
    "    # try:\n",
    "        # temp = len(idx0)\n",
    "        # print(temp)\n",
    "    # except:\n",
    "    if len(idx0) == 1:\n",
    "        Nhalo = len(idxe) + len(idx0)\n",
    "        Nhalo_all_truth.append(Nhalo)\n",
    "    \n",
    "        if Nhalo > 0:\n",
    "            try:\n",
    "                Mhalo = np.zeros(Nhalo)\n",
    "                for jh in range(Nhalo):\n",
    "                    if jh == 0:\n",
    "                        Mhalo[jh] = bins_digitize[idx[idx0]] * (lgMax - lgMin) + lgMin\n",
    "                    else:\n",
    "                        if Nhalo > 2:\n",
    "                            Mhalo[jh] = bins_digitize[idx[idxe[jh-1]]] * (lgMax - lgMin) + lgMin\n",
    "                        else:\n",
    "                            Mhalo[jh] = bins_digitize[idx[idxe]] * (lgMax - lgMin) + lgMin\n",
    "                Mhalo_all_truth.append(Mhalo)\n",
    "            except:\n",
    "                Mhalo_all_truth.append(np.array([]))\n",
    "                pass\n",
    "        else:\n",
    "            Mhalo_all_truth.append(np.array([]))\n",
    "\n",
    "    else:\n",
    "        Nhalo_all_truth.append(np.array([]))\n",
    "        Mhalo_all_truth.append(np.array([]))\n",
    "\n"
   ]
  },
  {
   "cell_type": "code",
   "execution_count": 101,
   "metadata": {},
   "outputs": [
    {
     "name": "stderr",
     "output_type": "stream",
     "text": [
      "/tmp/ipykernel_3399291/3013671404.py:27: DeprecationWarning: Conversion of an array with ndim > 0 to a scalar is deprecated, and will error in future. Ensure you extract a single element from your array before performing this operation. (Deprecated NumPy 1.25.)\n",
      "  Mhalo[jh] = bins_digitize[idx[idx0]] * (lgMax - lgMin) + lgMin\n",
      "/tmp/ipykernel_3399291/3013671404.py:32: DeprecationWarning: Conversion of an array with ndim > 0 to a scalar is deprecated, and will error in future. Ensure you extract a single element from your array before performing this operation. (Deprecated NumPy 1.25.)\n",
      "  Mhalo[jh] = bins_digitize[idx[idxe]] * (lgMax - lgMin) + lgMin\n"
     ]
    }
   ],
   "source": [
    "# idx_all\n",
    "Nhalo_all = []\n",
    "Mhalo_all = []\n",
    "\n",
    "for jv in range(nvox_samp):\n",
    "    idx = idx_all[jv]\n",
    "    idx = idx.cpu().numpy().flatten()\n",
    "    # idx = idx[1:]\n",
    "    # idx = idx[:np.where(idx == end_token)[0][0]]\n",
    "    # idx = idx.reshape(-1, 5)\n",
    "    idxe = np.where(idx == space_token)[0] + 1\n",
    "    idx0 = np.where(idx == start_token)[0] + 1\n",
    "    # check with idx0 is a scalar or an array:\n",
    "    # try:\n",
    "        # temp = len(idx0)\n",
    "        # print(temp)\n",
    "    # except:\n",
    "    if len(idx0) == 1:\n",
    "        Nhalo = len(idxe) + len(idx0)\n",
    "        Nhalo_all.append(Nhalo)\n",
    "    \n",
    "        if Nhalo > 0:\n",
    "            try:\n",
    "                Mhalo = np.zeros(Nhalo)\n",
    "                for jh in range(Nhalo):\n",
    "                    if jh == 0:\n",
    "                        Mhalo[jh] = bins_digitize[idx[idx0]] * (lgMax - lgMin) + lgMin\n",
    "                    else:\n",
    "                        if Nhalo > 2:\n",
    "                            Mhalo[jh] = bins_digitize[idx[idxe[jh-1]]] * (lgMax - lgMin) + lgMin\n",
    "                        else:\n",
    "                            Mhalo[jh] = bins_digitize[idx[idxe]] * (lgMax - lgMin) + lgMin\n",
    "                Mhalo_all.append(Mhalo)\n",
    "            except:\n",
    "                Mhalo_all.append(np.array([]))\n",
    "                pass\n",
    "        else:\n",
    "            Mhalo_all.append(np.array([]))\n",
    "\n",
    "    else:\n",
    "        Nhalo_all.append(np.array([]))\n",
    "        Mhalo_all.append(np.array([]))\n"
   ]
  },
  {
   "cell_type": "code",
   "execution_count": 102,
   "metadata": {},
   "outputs": [
    {
     "data": {
      "text/plain": [
       "1024"
      ]
     },
     "execution_count": 102,
     "metadata": {},
     "output_type": "execute_result"
    }
   ],
   "source": [
    "len(Nhalo_all)\n"
   ]
  },
  {
   "cell_type": "code",
   "execution_count": 103,
   "metadata": {},
   "outputs": [],
   "source": [
    "# idxe\n",
    "# idxe[jh-1]\n",
    "# idx[idxe[jh-1]]\n",
    "# idx\n",
    "# Mhalo_all\n",
    "# sum(Mhalo_all, [])\n",
    "Mhalo_all_concat_low = []\n",
    "Mhalo_all_concat_mid = []\n",
    "Mhalo_all_concat_high = []\n",
    "for jv in indlow:\n",
    "    Mhalo_all_concat_low.extend(Mhalo_all[jv])\n",
    "\n",
    "for jv in indmid:\n",
    "    Mhalo_all_concat_mid.extend(Mhalo_all[jv])\n",
    "\n",
    "for jv in indhigh:\n",
    "    Mhalo_all_concat_high.extend(Mhalo_all[jv])\n",
    "        \n"
   ]
  },
  {
   "cell_type": "code",
   "execution_count": 104,
   "metadata": {},
   "outputs": [],
   "source": [
    "# Mhalo_all_truth_concat = []\n",
    "# for jv in range(len(Mhalo_all_truth)):\n",
    "    # Mhalo_all_truth_concat.extend(Mhalo_all_truth[jv])\n",
    "\n",
    "Mhalo_all_truth_concat_low = []\n",
    "Mhalo_all_truth_concat_mid = []\n",
    "Mhalo_all_truth_concat_high = []\n",
    "\n",
    "for jv in indlow:\n",
    "    Mhalo_all_truth_concat_low.extend(Mhalo_all_truth[jv])\n",
    "\n",
    "for jv in indmid:\n",
    "    Mhalo_all_truth_concat_mid.extend(Mhalo_all_truth[jv])\n",
    "\n",
    "for jv in indhigh:\n",
    "    Mhalo_all_truth_concat_high.extend(Mhalo_all_truth[jv])\n",
    "\n",
    "    \n"
   ]
  },
  {
   "cell_type": "code",
   "execution_count": 105,
   "metadata": {},
   "outputs": [
    {
     "data": {
      "text/plain": [
       "(658, 6380, 3307)"
      ]
     },
     "execution_count": 105,
     "metadata": {},
     "output_type": "execute_result"
    }
   ],
   "source": [
    "len(Mhalo_all_truth_concat_low), len(Mhalo_all_truth_concat_mid), len(Mhalo_all_truth_concat_high)\n"
   ]
  },
  {
   "cell_type": "code",
   "execution_count": 106,
   "metadata": {},
   "outputs": [
    {
     "data": {
      "text/plain": [
       "(753, 5907, 2658)"
      ]
     },
     "execution_count": 106,
     "metadata": {},
     "output_type": "execute_result"
    }
   ],
   "source": [
    "len(Mhalo_all_concat_low), len(Mhalo_all_concat_mid), len(Mhalo_all_concat_high)\n"
   ]
  },
  {
   "cell_type": "code",
   "execution_count": 107,
   "metadata": {},
   "outputs": [],
   "source": [
    "# # Nhalo_all\n",
    "# # Nhalos_truth\n",
    "# pl.figure()\n",
    "# _ = pl.hist(Nhalo_all, bins=18, range=(0,32), density=True, histtype='step', label='mock')\n",
    "# # _ = pl.hist(Nhalos_truth.flatten(), bins=18, range=(0,32), density=True, histtype='step', label='truth')\n",
    "# _ = pl.hist(Nhalo_all_truth, bins=18, range=(0,32), density=True, histtype='step', label='truth')\n",
    "# pl.yscale('log')\n",
    "# pl.legend(fontsize=15)\n",
    "# pl.xlabel('Number of halos', fontsize=15)\n",
    "# pl.ylabel('PDF', fontsize=15)\n",
    "\n"
   ]
  },
  {
   "cell_type": "code",
   "execution_count": 108,
   "metadata": {},
   "outputs": [],
   "source": [
    "# lgMsim_truth = dfhalo_ngp_wxyzM[:,:,:,:,3].flatten()\n",
    "# # select non-zero masses:\n",
    "# indpos = np.where(lgMsim_truth != 0.0)[0]\n",
    "# lgMsim_truth = lgMsim_truth[indpos]\n"
   ]
  },
  {
   "cell_type": "code",
   "execution_count": 120,
   "metadata": {},
   "outputs": [
    {
     "data": {
      "text/plain": [
       "Text(0.5, 1.0, 'High density voxels, $\\\\bar{\\\\delta}_{{\\\\rm 32Mpc}/h} > 1.3$')"
      ]
     },
     "execution_count": 120,
     "metadata": {},
     "output_type": "execute_result"
    },
    {
     "data": {
      "image/png": "[encoded data removed]",
      "text/plain": [
       "<Figure size 640x480 with 1 Axes>"
      ]
     },
     "metadata": {},
     "output_type": "display_data"
    }
   ],
   "source": [
    "pl.figure()\n",
    "_ = pl.hist(Mhalo_all_concat_high, bins=15, range=(lgMin, 15),  histtype='step', label='mock')\n",
    "# _ = pl.hist(lgMsim_truth, bins=15, range=(lgMin, 15), density=True, histtype='step', label='truth')\n",
    "_ = pl.hist(Mhalo_all_truth_concat_high, bins=15, range=(lgMin, 15), histtype='step', label='truth')\n",
    "pl.yscale('log')\n",
    "pl.legend(fontsize=15)\n",
    "pl.xlabel(r'$\\log_{10}(M_{\\rm halo})$', size=15)\n",
    "pl.ylabel(r'PDF', size=15)\n",
    "pl.title(r'High density voxels, $\\bar{\\delta}_{{\\rm 32Mpc}/h} > 1.3$', size=15)\n"
   ]
  },
  {
   "cell_type": "code",
   "execution_count": 121,
   "metadata": {},
   "outputs": [
    {
     "data": {
      "text/plain": [
       "Text(0.5, 1.0, 'Mid density voxels, $0.75 < \\\\bar{\\\\delta}_{{\\\\rm 32Mpc}/h} < 1.3$')"
      ]
     },
     "execution_count": 121,
     "metadata": {},
     "output_type": "execute_result"
    },
    {
     "data": {
      "image/png": "[encoded data removed]",
      "text/plain": [
       "<Figure size 640x480 with 1 Axes>"
      ]
     },
     "metadata": {},
     "output_type": "display_data"
    }
   ],
   "source": [
    "pl.figure()\n",
    "_ = pl.hist(Mhalo_all_concat_mid, bins=15, range=(lgMin, 15), histtype='step', label='mock')\n",
    "# _ = pl.hist(lgMsim_truth, bins=15, range=(lgMin, 15), density=True, histtype='step', label='truth')\n",
    "_ = pl.hist(Mhalo_all_truth_concat_mid, bins=15, range=(lgMin, 15), histtype='step', label='truth')\n",
    "pl.yscale('log')\n",
    "pl.legend(fontsize=15)\n",
    "pl.xlabel(r'$\\log_{10}(M_{\\rm halo})$', size=15)\n",
    "pl.ylabel(r'PDF', size=15)\n",
    "pl.title(r'Mid density voxels, $0.75 < \\bar{\\delta}_{{\\rm 32Mpc}/h} < 1.3$', size=15)\n"
   ]
  },
  {
   "cell_type": "code",
   "execution_count": 122,
   "metadata": {},
   "outputs": [
    {
     "data": {
      "text/plain": [
       "Text(0.5, 1.0, 'Low density voxels, $\\\\bar{\\\\delta}_{{\\\\rm 32Mpc}/h} < 0.75$')"
      ]
     },
     "execution_count": 122,
     "metadata": {},
     "output_type": "execute_result"
    },
    {
     "data": {
      "image/png": "[encoded data removed]",
      "text/plain": [
       "<Figure size 640x480 with 1 Axes>"
      ]
     },
     "metadata": {},
     "output_type": "display_data"
    }
   ],
   "source": [
    "pl.figure()\n",
    "_ = pl.hist(Mhalo_all_concat_low, bins=15, range=(lgMin, 15), histtype='step', label='mock')\n",
    "# _ = pl.hist(lgMsim_truth, bins=15, range=(lgMin, 15), density=True, histtype='step', label='truth')\n",
    "_ = pl.hist(Mhalo_all_truth_concat_low, bins=15, range=(lgMin, 15), histtype='step', label='truth')\n",
    "pl.yscale('log')\n",
    "pl.legend(fontsize=15)\n",
    "pl.xlabel(r'$\\log_{10}(M_{\\rm halo})$', size=15)\n",
    "pl.ylabel(r'PDF', size=15)\n",
    "pl.title(r'Low density voxels, $\\bar{\\delta}_{{\\rm 32Mpc}/h} < 0.75$', size=15)\n"
   ]
  },
  {
   "cell_type": "code",
   "execution_count": 48,
   "metadata": {},
   "outputs": [
    {
     "data": {
      "text/plain": [
       "Text(0, 0.5, 'PDF')"
      ]
     },
     "execution_count": 48,
     "metadata": {},
     "output_type": "execute_result"
    },
    {
     "data": {
      "image/png": "[encoded data removed]",
      "text/plain": [
       "<Figure size 640x480 with 1 Axes>"
      ]
     },
     "metadata": {},
     "output_type": "display_data"
    }
   ],
   "source": [
    "pl.figure()\n",
    "_ = pl.hist(Mhalo_all_concat_low, bins=15, range=(lgMin, 15), density=True, histtype='step', label='low')\n",
    "_ = pl.hist(Mhalo_all_concat_mid, bins=15, range=(lgMin, 15), density=True, histtype='step', label='mid')\n",
    "_ = pl.hist(Mhalo_all_concat_high, bins=15, range=(lgMin, 15), density=True, histtype='step', label='high')\n",
    "# _ = pl.hist(lgMsim_truth, bins=15, range=(lgMin, 15), density=True, histtype='step', label='truth')\n",
    "# _ = pl.hist(Mhalo_all_truth_concat_low, bins=15, range=(lgMin, 15), histtype='step', label='truth')\n",
    "pl.yscale('log')\n",
    "pl.legend(fontsize=15)\n",
    "pl.xlabel(r'$\\log_{10}(M_{\\rm halo})$', size=15)\n",
    "pl.ylabel(r'PDF', size=15)\n",
    "\n"
   ]
  },
  {
   "cell_type": "code",
   "execution_count": 49,
   "metadata": {},
   "outputs": [
    {
     "data": {
      "text/plain": [
       "Text(0, 0.5, 'PDF')"
      ]
     },
     "execution_count": 49,
     "metadata": {},
     "output_type": "execute_result"
    },
    {
     "data": {
      "image/png": "[encoded data removed]",
      "text/plain": [
       "<Figure size 640x480 with 1 Axes>"
      ]
     },
     "metadata": {},
     "output_type": "display_data"
    }
   ],
   "source": [
    "pl.figure()\n",
    "_ = pl.hist(Mhalo_all_truth_concat_low, bins=15, range=(lgMin, 15), density=True, histtype='step', label='low')\n",
    "_ = pl.hist(Mhalo_all_truth_concat_mid, bins=15, range=(lgMin, 15), density=True, histtype='step', label='mid')\n",
    "_ = pl.hist(Mhalo_all_truth_concat_high, bins=15, range=(lgMin, 15), density=True, histtype='step', label='high')\n",
    "# _ = pl.hist(lgMsim_truth, bins=15, range=(lgMin, 15), density=True, histtype='step', label='truth')\n",
    "# _ = pl.hist(Mhalo_all_truth_concat_low, bins=15, range=(lgMin, 15), histtype='step', label='truth')\n",
    "pl.yscale('log')\n",
    "pl.legend(fontsize=15)\n",
    "pl.xlabel(r'$\\log_{10}(M_{\\rm halo})$', size=15)\n",
    "pl.ylabel(r'PDF', size=15)\n",
    "\n",
    "\n"
   ]
  },
  {
   "cell_type": "code",
   "execution_count": 59,
   "metadata": {},
   "outputs": [
    {
     "data": {
      "text/plain": [
       "Text(0, 0.5, 'PDF')"
      ]
     },
     "execution_count": 59,
     "metadata": {},
     "output_type": "execute_result"
    },
    {
     "data": {
      "image/png": "[encoded data removed]",
      "text/plain": [
       "<Figure size 640x480 with 1 Axes>"
      ]
     },
     "metadata": {},
     "output_type": "display_data"
    }
   ],
   "source": [
    "# Nhalo_all\n",
    "pl.figure()\n",
    "_ = pl.hist(Mhalo_all_concat, bins=15, range=(lgMin, 15), density=True, histtype='step', label='mock')\n",
    "# _ = pl.hist(lgMsim_truth, bins=15, range=(lgMin, 15), density=True, histtype='step', label='truth')\n",
    "_ = pl.hist(Mhalo_all_truth_concat, bins=15, range=(lgMin, 15), density=True, histtype='step', label='truth')\n",
    "pl.yscale('log')\n",
    "pl.legend(fontsize=15)\n",
    "pl.xlabel(r'$\\log_{10}(M_{\\rm halo})$', size=15)\n",
    "pl.ylabel(r'PDF', size=15)\n",
    "\n",
    "\n"
   ]
  },
  {
   "cell_type": "code",
   "execution_count": 154,
   "metadata": {},
   "outputs": [],
   "source": [
    "\n",
    "# # generate from the model\n",
    "# context = torch.zeros((1, 1), dtype=torch.long, device=device)\n",
    "# # print(decode(m.generate(context, max_new_tokens=2000)[0].tolist()))\n",
    "# m.generate(context, max_new_tokens=160, nvox_samp=32)\n",
    "\n",
    "source_batch = torch.LongTensor([\n",
    "    [1, 2, 3, 0, 0, 0],\n",
    "    [1, 2, 3, 4, 5, 6],\n",
    "    [1, 2, 3, 4, 5, 0]\n",
    "])\n",
    "\n",
    "mask_batch = (source_batch != 0)\n",
    "\n"
   ]
  },
  {
   "cell_type": "code",
   "execution_count": 157,
   "metadata": {},
   "outputs": [
    {
     "data": {
      "text/plain": [
       "torch.Size([3, 6, 1])"
      ]
     },
     "execution_count": 157,
     "metadata": {},
     "output_type": "execute_result"
    }
   ],
   "source": [
    "# mask_batch.unsqueeze(-1).shape\n"
   ]
  },
  {
   "cell_type": "code",
   "execution_count": 182,
   "metadata": {},
   "outputs": [],
   "source": [
    "# mask_batch.shape\n",
    "\n",
    "\n"
   ]
  },
  {
   "cell_type": "code",
   "execution_count": 190,
   "metadata": {},
   "outputs": [],
   "source": [
    "# mask_batch_final.shape\n",
    "# mask_batch_final[0,:,:] * float('-inf')\n",
    "# put -inf values at mask==True positions:\n"
   ]
  },
  {
   "cell_type": "code",
   "execution_count": 192,
   "metadata": {},
   "outputs": [
    {
     "data": {
      "text/plain": [
       "tensor([[[False, False, False,  True,  True,  True],\n",
       "         [False, False, False,  True,  True,  True],\n",
       "         [False, False, False,  True,  True,  True],\n",
       "         [ True,  True,  True,  True,  True,  True],\n",
       "         [ True,  True,  True,  True,  True,  True],\n",
       "         [ True,  True,  True,  True,  True,  True]],\n",
       "\n",
       "        [[False, False, False, False, False, False],\n",
       "         [False, False, False, False, False, False],\n",
       "         [False, False, False, False, False, False],\n",
       "         [False, False, False, False, False, False],\n",
       "         [False, False, False, False, False, False],\n",
       "         [False, False, False, False, False, False]],\n",
       "\n",
       "        [[False, False, False, False, False,  True],\n",
       "         [False, False, False, False, False,  True],\n",
       "         [False, False, False, False, False,  True],\n",
       "         [False, False, False, False, False,  True],\n",
       "         [False, False, False, False, False,  True],\n",
       "         [ True,  True,  True,  True,  True,  True]]])"
      ]
     },
     "execution_count": 192,
     "metadata": {},
     "output_type": "execute_result"
    }
   ],
   "source": [
    "# masked_logits\n",
    "# mask_batch_final\n",
    "# mask_batch_final = mask_batch_final.masked_fill(mask_batch_final == True, float('-inf'))\n"
   ]
  },
  {
   "cell_type": "code",
   "execution_count": 181,
   "metadata": {},
   "outputs": [
    {
     "data": {
      "text/plain": [
       "tensor([[[False, False, False,  True,  True,  True],\n",
       "         [False, False, False,  True,  True,  True],\n",
       "         [False, False, False,  True,  True,  True],\n",
       "         [ True,  True,  True,  True,  True,  True],\n",
       "         [ True,  True,  True,  True,  True,  True],\n",
       "         [ True,  True,  True,  True,  True,  True]],\n",
       "\n",
       "        [[False, False, False, False, False, False],\n",
       "         [False, False, False, False, False, False],\n",
       "         [False, False, False, False, False, False],\n",
       "         [False, False, False, False, False, False],\n",
       "         [False, False, False, False, False, False],\n",
       "         [False, False, False, False, False, False]],\n",
       "\n",
       "        [[False, False, False, False, False,  True],\n",
       "         [False, False, False, False, False,  True],\n",
       "         [False, False, False, False, False,  True],\n",
       "         [False, False, False, False, False,  True],\n",
       "         [False, False, False, False, False,  True],\n",
       "         [ True,  True,  True,  True,  True,  True]]])"
      ]
     },
     "execution_count": 181,
     "metadata": {},
     "output_type": "execute_result"
    }
   ],
   "source": [
    "# mask_batch_final\n"
   ]
  },
  {
   "cell_type": "code",
   "execution_count": null,
   "metadata": {},
   "outputs": [],
   "source": [
    "nMax_part = 150\n",
    "dfpart_ngp_wxyzM = np.float32(np.zeros((grid, grid, grid, nMax_part, 4)))\n",
    "# dfhalo_ngp_wmass = np.float32(np.zeros((grid, grid, grid, nMax_h)))\n",
    "# dfhalo_ngp_wy = np.float32(np.zeros((grid, grid, grid, nMax_h)))\n",
    "# dfhalo_ngp_wz = np.float32(np.zeros((grid, grid, grid, nMax_h)))\n",
    "# NGP_xyz(np.float32(pos_h_truth), dfhalo_ngp_wxyz_remainder, dfhalo_ngp_wxyz_factor, BoxSize)\n",
    "\n",
    "NGP_xyzM(np.float32(pos_m_truth), np.float32(np.zeros(len(pos_m_truth))), dfpart_ngp_wxyzM, BoxSize)\n",
    "\n",
    "dfpart_ngp_wxyz = dfpart_ngp_wxyzM[...,:3]\n"
   ]
  },
  {
   "cell_type": "code",
   "execution_count": 29,
   "metadata": {},
   "outputs": [
    {
     "data": {
      "text/plain": [
       "(0.0, 5.0)"
      ]
     },
     "execution_count": 29,
     "metadata": {},
     "output_type": "execute_result"
    },
    {
     "data": {
      "image/png": "[encoded data removed]",
      "text/plain": [
       "<Figure size 640x480 with 1 Axes>"
      ]
     },
     "metadata": {},
     "output_type": "display_data"
    }
   ],
   "source": [
    "# dfhalo_ngp_wxyzM.shape, dfpart_ngp_wxyzM.shape\n",
    "pl.figure()\n",
    "_ = pl.hist(dfhalo_ngp_wxyzM[0,0,3,:,0].flatten(), bins=32, range=(-16, 16), histtype='step')\n",
    "_ = pl.hist(dfpart_ngp_wxyz[0,0,3,:,0].flatten(), bins=32, range=(-16, 16), histtype='step')\n",
    "# pl.scatter(dfhalo_ngp_wxyzM[0,0,0,:,0], dfpart_ngp_wxyz[0,0,0,:,0])\n",
    "pl.ylim(0,5)\n"
   ]
  },
  {
   "cell_type": "code",
   "execution_count": 30,
   "metadata": {},
   "outputs": [
    {
     "data": {
      "text/plain": [
       "(-15.625, 15.624875)"
      ]
     },
     "execution_count": 30,
     "metadata": {},
     "output_type": "execute_result"
    }
   ],
   "source": [
    "# np.amin(dfpart_ngp_wxyz), np.amax(dfpart_ngp_wxyz)\n",
    "# dfhalo_ngp_wxyz.shape\n",
    "lb_size = 15.625\n"
   ]
  },
  {
   "cell_type": "code",
   "execution_count": 18,
   "metadata": {},
   "outputs": [],
   "source": [
    "dfhalo_ngp_wmass = np.float32(np.zeros((grid, grid, grid, nMax_h)))\n",
    "NGP_mass(np.float32(pos_h_truth), np.float32(lgMass_truth), dfhalo_ngp_wmass, BoxSize)\n",
    "\n",
    "# M_halos = np.flip(np.sort(dfhalo_ngp_wmass, axis=-1), axis=-1)\n"
   ]
  },
  {
   "cell_type": "code",
   "execution_count": 19,
   "metadata": {},
   "outputs": [],
   "source": [
    "Nhalos = np.float32(np.zeros((grid, grid, grid)))\n",
    "MASL.NGP(np.float32(pos_h_truth), Nhalos, BoxSize)\n"
   ]
  },
  {
   "cell_type": "code",
   "execution_count": 21,
   "metadata": {},
   "outputs": [
    {
     "data": {
      "image/png": "[encoded data removed]",
      "text/plain": [
       "<Figure size 640x480 with 1 Axes>"
      ]
     },
     "metadata": {},
     "output_type": "display_data"
    }
   ],
   "source": [
    "# np.amax(Nhalos)\n",
    "pl.figure()\n",
    "_ = pl.hist(Nhalos.flatten(), bins=64, range=(0, 64), histtype='step')\n",
    "pl.yscale('log')\n",
    "\n"
   ]
  },
  {
   "cell_type": "code",
   "execution_count": 22,
   "metadata": {},
   "outputs": [],
   "source": [
    "# np.argsort(dfhalo_ngp_wmass, axis=-1)\n",
    "M_halos_argsort = np.flip(np.argsort(dfhalo_ngp_wmass, axis=-1), axis=-1)\n",
    "\n",
    "# M_halos_argsort\n",
    "# M_halos_argsort.shape, dfhalo_ngp_wxyz.shape\n",
    "# dfhalo_ngp_xyz_sorted = dfhalo_ngp_wxyz[M_halos_argsort]\n",
    "dfhalo_ngp_xyz_sorted = np.zeros_like(dfhalo_ngp_wxyz)\n",
    "for i1 in range(grid):\n",
    "    for i2 in range(grid):\n",
    "        for i3 in range(grid):\n",
    "            # for i4 in range(nMax_h):\n",
    "            dfhalo_ngp_xyz_sorted[i1, i2, i3, :, 0] = dfhalo_ngp_wxyz[i1, i2, i3, M_halos_argsort[i1, i2, i3], 0]\n",
    "            dfhalo_ngp_xyz_sorted[i1, i2, i3, :, 1] = dfhalo_ngp_wxyz[i1, i2, i3, M_halos_argsort[i1, i2, i3], 1]\n",
    "            dfhalo_ngp_xyz_sorted[i1, i2, i3, :, 2] = dfhalo_ngp_wxyz[i1, i2, i3, M_halos_argsort[i1, i2, i3], 2]                        \n",
    "\n",
    "\n"
   ]
  },
  {
   "cell_type": "code",
   "execution_count": 326,
   "metadata": {},
   "outputs": [],
   "source": [
    "# M_halos_argsort\n",
    "pl.figure()\n",
    "\n"
   ]
  },
  {
   "cell_type": "code",
   "execution_count": 327,
   "metadata": {},
   "outputs": [],
   "source": []
  },
  {
   "cell_type": "code",
   "execution_count": 328,
   "metadata": {},
   "outputs": [],
   "source": [
    "# # Nhalos_truth_recomb.shape\n",
    "# indx_max_Nhalo, indy_max_Nhalo, indz_max_Nhalo = np.unravel_index(np.argmax(Nhalos_truth_recomb, axis=None), Nhalos_truth_recomb.shape)\n",
    "\n",
    "# # ind_max_Nhalo\n",
    "# # indx_max_Nhalo, indy_max_Nhalo, indz_max_Nhalo\n",
    "# Nhalos_truth_recomb[indx_max_Nhalo, indy_max_Nhalo, indz_max_Nhalo]\n",
    "# # dfhalo_ngp_wxyz_remainder[indx_max_Nhalo, indy_max_Nhalo, indz_max_Nhalo,:, 1]\n",
    "# dfhalo_ngp_xyz_sorted[indx_max_Nhalo, indy_max_Nhalo, indz_max_Nhalo,:, 1]\n"
   ]
  },
  {
   "cell_type": "code",
   "execution_count": 329,
   "metadata": {},
   "outputs": [],
   "source": [
    "root = '/mnt/home/fvillaescusa/ceph/Quijote/Snapshots/fiducial_HR'\n",
    "# # if snapnum > 0:\n",
    "ptypes       = [1]\n",
    "snapshot = '%s/%d/snapdir_%03d/snap_%03d'%(root,isim_fid,snapnum,snapnum)\n",
    "# df_ngp = MASL.density_field_gadget(snapshot, ptypes, 128, MAS='NGP',\n",
    "#                                 do_RSD=False, axis=0, verbose=False)\n",
    "# # df_ngp = MASL.density_field_gadget(snapshot, ptypes, 128, MAS='CIC',\n",
    "# #                                 do_RSD=False, axis=0, verbose=False)\n",
    "# # df_pylians_ngp_128 = df_ngp/np.mean(df_ngp, dtype=np.float64)-1.0            \n",
    "# df_pylians_ngp_128 = df_ngp/np.mean(df_ngp, dtype=np.float64)\n",
    "\n"
   ]
  },
  {
   "cell_type": "code",
   "execution_count": 330,
   "metadata": {},
   "outputs": [],
   "source": [
    "# pl.figure()\n",
    "# # pl.scatter(df_pylians_ngp_128.flatten()[::10], Nhalos.flatten()[::10], s=0.1)\n",
    "# pl.scatter( Nhalos.flatten()[::10], df_pylians_ngp_128.flatten()[::10], s=0.1)\n",
    "# pl.ylim(0, 20)"
   ]
  },
  {
   "cell_type": "code",
   "execution_count": 331,
   "metadata": {},
   "outputs": [],
   "source": [
    "df_ngp = MASL.density_field_gadget(snapshot, ptypes, 512, MAS='NGP',\n",
    "                                do_RSD=False, axis=0, verbose=False)\n",
    "# df_ngp = MASL.density_field_gadget(snapshot, ptypes, 512, MAS='CIC',\n",
    "                                # do_RSD=False, axis=0, verbose=False)\n",
    "# df_pylians_ngp_512 = df_ngp/np.mean(df_ngp, dtype=np.float64)-1.0            \n",
    "df_pylians_ngp_512 = df_ngp/np.mean(df_ngp, dtype=np.float64)     \n",
    "\n"
   ]
  },
  {
   "cell_type": "code",
   "execution_count": 332,
   "metadata": {},
   "outputs": [],
   "source": [
    "# df_ngp = MASL.density_field_gadget(snapshot, ptypes, 1024, MAS='NGP',\n",
    "#                                 do_RSD=False, axis=0, verbose=False)\n",
    "# # df_ngp = MASL.density_field_gadget(snapshot, ptypes, 512, MAS='CIC',\n",
    "#                                 # do_RSD=False, axis=0, verbose=False)\n",
    "# # df_pylians_ngp_512 = df_ngp/np.mean(df_ngp, dtype=np.float64)-1.0            \n",
    "# df_pylians_ngp_1024 = df_ngp/np.mean(df_ngp, dtype=np.float64)     \n",
    "\n"
   ]
  },
  {
   "cell_type": "code",
   "execution_count": 333,
   "metadata": {},
   "outputs": [],
   "source": [
    "# df_ngp = MASL.density_field_gadget(snapshot, ptypes, 256, MAS='NGP',\n",
    "#                                 do_RSD=False, axis=0, verbose=False)\n",
    "# # df_ngp = MASL.density_field_gadget(snapshot, ptypes, 512, MAS='CIC',\n",
    "#                                 # do_RSD=False, axis=0, verbose=False)\n",
    "# # df_pylians_ngp_512 = df_ngp/np.mean(df_ngp, dtype=np.float64)-1.0            \n",
    "# df_pylians_ngp_256 = df_ngp/np.mean(df_ngp, dtype=np.float64)     \n",
    "\n"
   ]
  },
  {
   "cell_type": "code",
   "execution_count": 334,
   "metadata": {},
   "outputs": [],
   "source": [
    "# df_pylians_ngp_512_rs2 = np.reshape(df_pylians_ngp_512, (128,128,128,4,4,4))\n",
    "# df_pylians_ngp_256_rs3 = np.reshape(df_pylians_ngp_256, (128,2,128,2,128,2))\n"
   ]
  },
  {
   "cell_type": "code",
   "execution_count": 335,
   "metadata": {},
   "outputs": [],
   "source": [
    "df_pylians_ngp_512_rs3 = np.reshape(df_pylians_ngp_512, (128,4,128,4,128,4))\n"
   ]
  },
  {
   "cell_type": "code",
   "execution_count": 336,
   "metadata": {},
   "outputs": [],
   "source": [
    "# df_pylians_ngp_1024_rs3 = np.reshape(df_pylians_ngp_1024, (128,8,128,8,128,8))\n",
    "\n"
   ]
  },
  {
   "cell_type": "code",
   "execution_count": 337,
   "metadata": {},
   "outputs": [],
   "source": [
    "# # df_pylians_ngp_512_rs = np.reshape(df_pylians_ngp_512, (128,128,128,4,4,4))\n",
    "# df_pylians_ngp_512_rs = np.zeros((128,128,128,4,4,4))\n",
    "\n",
    "# for j1 in range(128):\n",
    "#     for j2 in range(128):\n",
    "#         for j3 in range(128):\n",
    "#             df_pylians_ngp_512_rs[j1, j2, j3] = np.reshape(df_pylians_ngp_512[j1*4:(j1+1)*4, j2*4:(j2+1)*4, j3*4:(j3+1)*4], (4,4,4))\n"
   ]
  },
  {
   "cell_type": "code",
   "execution_count": 338,
   "metadata": {},
   "outputs": [],
   "source": [
    "# df_pylians_ngp_512[j1*4:(j1+1)*4, j2*4:(j2+1)*4, j3*4:(j3+1)*4].shape\n"
   ]
  },
  {
   "cell_type": "code",
   "execution_count": 339,
   "metadata": {},
   "outputs": [],
   "source": [
    "# df_pylians_ngp_512_rs_128 = np.mean(df_pylians_ngp_512_rs, axis=(3,4,5))\n",
    "\n"
   ]
  },
  {
   "cell_type": "code",
   "execution_count": 340,
   "metadata": {},
   "outputs": [],
   "source": [
    "# df_pylians_ngp_512_rs2_128 = np.mean(df_pylians_ngp_512_rs2, axis=(3,4,5))\n",
    "\n"
   ]
  },
  {
   "cell_type": "code",
   "execution_count": 341,
   "metadata": {},
   "outputs": [],
   "source": [
    "# df_pylians_ngp_256_rs3_128 = df_pylians_ngp_256_rs3.mean(5).mean(3).mean(1)\n",
    "\n"
   ]
  },
  {
   "cell_type": "code",
   "execution_count": 342,
   "metadata": {},
   "outputs": [],
   "source": [
    "# df_pylians_ngp_512_rs3_128 = df_pylians_ngp_512_rs3.mean(5).mean(3).mean(1)\n"
   ]
  },
  {
   "cell_type": "code",
   "execution_count": 343,
   "metadata": {},
   "outputs": [],
   "source": [
    "# df_pylians_ngp_1024_rs3_128 = df_pylians_ngp_1024_rs3.mean(5).mean(3).mean(1)\n",
    "\n"
   ]
  },
  {
   "cell_type": "code",
   "execution_count": 344,
   "metadata": {},
   "outputs": [],
   "source": [
    "# pl.figure()\n",
    "# # pl.scatter(df_pylians_ngp_512_rs_128.flatten()[::10], Nhalos.flatten()[::10], s=0.1)\n",
    "# # pl.scatter(Nhalos.flatten()[::10], df_pylians_ngp_512_rs3_128.flatten()[::10], s=0.1)\n",
    "# pl.scatter(Nhalos.flatten()[::10], df_pylians_ngp_256_rs3_128.flatten()[::10], s=0.1)\n",
    "# pl.ylim(0, 20)\n",
    "\n",
    "\n"
   ]
  },
  {
   "cell_type": "code",
   "execution_count": 345,
   "metadata": {},
   "outputs": [],
   "source": [
    "# pl.figure()\n",
    "# # pl.scatter(df_pylians_ngp_512_rs_128.flatten()[::10], Nhalos.flatten()[::10], s=0.1)\n",
    "# pl.scatter(Nhalos.flatten()[::10], df_pylians_ngp_1024_rs3_128.flatten()[::10], s=0.1)\n",
    "# pl.ylim(0, 20)\n",
    "\n",
    "\n"
   ]
  },
  {
   "cell_type": "code",
   "execution_count": 346,
   "metadata": {},
   "outputs": [],
   "source": [
    "# pl.figure()\n",
    "# # pl.scatter(df_pylians_ngp_128.flatten()[::10], df_pylians_ngp_512_rs_128.flatten()[::10], s=0.1)\n",
    "# pl.scatter(df_pylians_ngp_128.flatten()[::10], df_pylians_ngp_256_rs3_128.flatten()[::10], s=0.1)\n",
    "# # pl.scatter(df_pylians_ngp_128.flatten()[::10], df_pylians_ngp_512_rs2_128.flatten()[::10], s=0.1)\n"
   ]
  },
  {
   "cell_type": "code",
   "execution_count": 347,
   "metadata": {},
   "outputs": [],
   "source": [
    "# pl.figure()\n",
    "# # pl.scatter(df_pylians_ngp_128.flatten()[::10], df_pylians_ngp_512_rs_128.flatten()[::10], s=0.1)\n",
    "# pl.scatter(df_pylians_ngp_128.flatten()[::10], df_pylians_ngp_512_rs3_128.flatten()[::10], s=0.1)\n",
    "# # pl.scatter(df_pylians_ngp_128.flatten()[::10], df_pylians_ngp_512_rs2_128.flatten()[::10], s=0.1)\n"
   ]
  },
  {
   "cell_type": "code",
   "execution_count": 348,
   "metadata": {},
   "outputs": [],
   "source": [
    "# pl.figure()\n",
    "# # pl.scatter(df_pylians_ngp_128.flatten()[::10], df_pylians_ngp_512_rs_128.flatten()[::10], s=0.1)\n",
    "# pl.scatter(df_pylians_ngp_128.flatten()[::10], df_pylians_ngp_1024_rs3_128.flatten()[::10], s=0.1)\n",
    "# # pl.scatter(df_pylians_ngp_1024_rs3_128.flatten()[::10], df_pylians_ngp_512_rs3_128.flatten()[::10], s=0.1)\n",
    "# # pl.scatter(df_pylians_ngp_128.flatten()[::10], df_pylians_ngp_512_rs2_128.flatten()[::10], s=0.1)\n"
   ]
  },
  {
   "cell_type": "code",
   "execution_count": 349,
   "metadata": {},
   "outputs": [],
   "source": [
    "# np.corrcoef(df_pylians_ngp_128.flatten(), df_pylians_ngp_256_rs3_128.flatten())\n",
    "# np.corrcoef(df_pylians_ngp_128.flatten(), df_pylians_ngp_512_rs3_128.flatten())\n",
    "\n",
    "# np.corrcoef(df_pylians_ngp_128.flatten(), df_pylians_ngp_1024_rs3_128.flatten())\n"
   ]
  },
  {
   "cell_type": "code",
   "execution_count": null,
   "metadata": {},
   "outputs": [],
   "source": []
  },
  {
   "cell_type": "code",
   "execution_count": null,
   "metadata": {},
   "outputs": [],
   "source": []
  },
  {
   "cell_type": "code",
   "execution_count": 350,
   "metadata": {},
   "outputs": [],
   "source": [
    "# # dfhalo_ngp_wx.shape\n",
    "# x_v, y_v, z_v = np.where(Nhalos==5)\n",
    "# ind_v = 3\n",
    "# print(Nhalos[x_v[ind_v], y_v[ind_v], z_v[ind_v]])\n",
    "\n",
    "# dfhalo_ngp_xyz_sorted[x_v[ind_v], y_v[ind_v], z_v[ind_v], :,0]\n",
    "\n",
    "\n"
   ]
  },
  {
   "cell_type": "code",
   "execution_count": 351,
   "metadata": {},
   "outputs": [],
   "source": [
    "# dfhalo_ngp_xyz_sorted[x_v[ind_v], y_v[ind_v], z_v[ind_v],:, 0]\n"
   ]
  },
  {
   "cell_type": "code",
   "execution_count": 352,
   "metadata": {},
   "outputs": [],
   "source": [
    "# dfhalo_ngp_xyz_sorted.shape"
   ]
  },
  {
   "cell_type": "code",
   "execution_count": 353,
   "metadata": {},
   "outputs": [],
   "source": [
    "# pl.figure()\n",
    "# pl.scatter(dfhalo_ngp_xyz_sorted[x_v[ind_v], y_v[ind_v], z_v[ind_v],:, 0], dfhalo_ngp_xyz_sorted[x_v[ind_v], y_v[ind_v], z_v[ind_v],:, 1])\n",
    "# pl.xlim(-4,4)\n",
    "# pl.ylim(-4,4)\n"
   ]
  },
  {
   "cell_type": "code",
   "execution_count": 354,
   "metadata": {},
   "outputs": [],
   "source": [
    "# pl.figure()\n",
    "# # pl.imshow(np.sum(df_pylians_ngp_512_rs[indx_max_Nhalo, indy_max_Nhalo, indz_max_Nhalo,...], axis=-1), origin='lower')\n",
    "# # pl.imshow(np.sum(df_pylians_ngp_512_rs[x_v[ind_v], y_v[ind_v], z_v[ind_v],...], axis=-1), origin='lower')\n",
    "# pl.imshow(np.sum(df_pylians_ngp_512_rs3[x_v[ind_v],:, y_v[ind_v],:, z_v[ind_v],:], axis=-1), origin='lower')\n",
    "\n"
   ]
  },
  {
   "cell_type": "code",
   "execution_count": 355,
   "metadata": {},
   "outputs": [],
   "source": [
    "# dfhalo_ngp_wxyz_factor[indx_max_Nhalo, indy_max_Nhalo, indz_max_Nhalo,:, 2]\n"
   ]
  },
  {
   "cell_type": "code",
   "execution_count": 356,
   "metadata": {},
   "outputs": [
    {
     "data": {
      "text/plain": [
       "(128, 128, 128, 6, 3)"
      ]
     },
     "execution_count": 356,
     "metadata": {},
     "output_type": "execute_result"
    }
   ],
   "source": [
    "# dfhalo_ngp_wy[indx_max_Nhalo, indy_max_Nhalo, indz_max_Nhalo,:]\n",
    "\n",
    "dfhalo_ngp_xyz_sorted.shape\n"
   ]
  },
  {
   "cell_type": "code",
   "execution_count": 357,
   "metadata": {},
   "outputs": [],
   "source": [
    "# 2.3%0.2\n",
    "# saved = {'Nhalos_samp':Nhalos,\n",
    "#          'Mhalos_samp':M_halos,\n",
    "#          'Nhalos_truth':Nhalos_truth_recomb,\n",
    "#          'Mhalos_truth':M_halos_truth_recomb,\n",
    "#          'features_CNN':features_CNN_all}\n",
    "# import pickle as pk\n",
    "# savename = '/mnt/home/spandey/ceph/AR_NPE/notebooks/CMASS_TEST/data_for_GNN_LH3.pk'\n",
    "# pk.dump(saved, open(savename, 'wb'))\n",
    "saved = {'xyz_halos_truth_sub_box':dfhalo_ngp_xyz_sorted,\n",
    "        'hres_rho_dm':df_pylians_ngp_512_rs3.reshape(grid,grid,grid,64),\n",
    "        # 'Nhalos_samp':Nhalos,\n",
    "        #  'Mhalos_samp':M_halos,\n",
    "         'Nhalos_truth':Nhalos_truth_recomb,\n",
    "         'Mhalos_truth':M_halos_truth_recomb,\n",
    "         'features_CNN':features_CNN_all}\n",
    "        \n",
    "# 'xyz_halos_truth_sub_box':dfhalo_ngp_wxyz_remainder,\n",
    "        #  'Nhalos_truth':Nhalos_truth_recomb,\n",
    "        #  'Mhalos_truth':M_halos_truth_recomb,\n",
    "        #  'features_CNN':features_CNN_all}\n",
    "import pickle as pk\n",
    "savename = f'/mnt/home/spandey/ceph/AR_NPE/notebooks/CMASS_TEST/test_xyz/data_for_MDN_fidHR_{isim_fid}.pk'\n",
    "pk.dump(saved, open(savename, 'wb'))\n"
   ]
  },
  {
   "cell_type": "code",
   "execution_count": 228,
   "metadata": {},
   "outputs": [
    {
     "data": {
      "text/plain": [
       "(128, 128, 128, 8, 3)"
      ]
     },
     "execution_count": 228,
     "metadata": {},
     "output_type": "execute_result"
    }
   ],
   "source": [
    "dfhalo_ngp_wxyz_remainder.shape\n",
    "\n"
   ]
  },
  {
   "cell_type": "code",
   "execution_count": 114,
   "metadata": {},
   "outputs": [
    {
     "data": {
      "text/plain": [
       "(128, 128, 128, 8)"
      ]
     },
     "execution_count": 114,
     "metadata": {},
     "output_type": "execute_result"
    }
   ],
   "source": [
    "M_halos_truth_recomb.shape\n",
    "\n"
   ]
  },
  {
   "cell_type": "code",
   "execution_count": 30,
   "metadata": {},
   "outputs": [],
   "source": [
    "import numpy as np\n",
    "\n",
    "ntry = 100000\n",
    "nsamp = 100\n",
    "mu_try, sig_try = np.zeros(ntry), np.zeros(ntry)\n",
    "var_try = np.zeros(ntry)\n",
    "for ji in range(ntry):\n",
    "    s1 = np.random.randn(nsamp)\n",
    "    mu_try[ji], sig_try[ji] = np.mean(s1), np.std(s1)\n",
    "    var_try[ji] = np.var(s1)\n",
    "\n"
   ]
  },
  {
   "cell_type": "code",
   "execution_count": 15,
   "metadata": {},
   "outputs": [],
   "source": [
    "# np.mean(s1), np.std(s1)\n",
    "import matplotlib\n",
    "%matplotlib inline\n",
    "import matplotlib.pyplot as pl\n"
   ]
  },
  {
   "cell_type": "code",
   "execution_count": 31,
   "metadata": {},
   "outputs": [
    {
     "data": {
      "image/png": "[encoded data removed]",
      "text/plain": [
       "<Figure size 640x480 with 1 Axes>"
      ]
     },
     "metadata": {},
     "output_type": "display_data"
    }
   ],
   "source": [
    "pl.figure()\n",
    "_ = pl.hist(mu_try, bins=40, histtype='step')\n",
    "_ = pl.hist(var_try-1., bins=40, histtype='step')\n",
    "# _ = pl.hist(sig_try-1, bins=40, histtype='step')"
   ]
  },
  {
   "cell_type": "code",
   "execution_count": 32,
   "metadata": {},
   "outputs": [
    {
     "data": {
      "text/plain": [
       "(-0.0003129160749577889, 0.09996861854525756)"
      ]
     },
     "execution_count": 32,
     "metadata": {},
     "output_type": "execute_result"
    }
   ],
   "source": [
    "np.mean(mu_try), np.std(mu_try)\n"
   ]
  },
  {
   "cell_type": "code",
   "execution_count": 29,
   "metadata": {},
   "outputs": [
    {
     "data": {
      "text/plain": [
       "(0.9924234829102101, 0.07075275052368166)"
      ]
     },
     "execution_count": 29,
     "metadata": {},
     "output_type": "execute_result"
    }
   ],
   "source": [
    "np.mean(sig_try), np.std(sig_try)\n",
    "\n"
   ]
  },
  {
   "cell_type": "code",
   "execution_count": 33,
   "metadata": {},
   "outputs": [
    {
     "data": {
      "text/plain": [
       "(0.9902667524601717, 0.1410539189370056)"
      ]
     },
     "execution_count": 33,
     "metadata": {},
     "output_type": "execute_result"
    }
   ],
   "source": [
    "np.mean(var_try), np.std(var_try)\n",
    "\n"
   ]
  },
  {
   "cell_type": "code",
   "execution_count": null,
   "metadata": {},
   "outputs": [],
   "source": []
  }
 ],
 "metadata": {
  "kernelspec": {
   "display_name": "ili-sbi",
   "language": "python",
   "name": "python3"
  },
  "language_info": {
   "codemirror_mode": {
    "name": "ipython",
    "version": 3
   },
   "file_extension": ".py",
   "mimetype": "text/x-python",
   "name": "python",
   "nbconvert_exporter": "python",
   "pygments_lexer": "ipython3",
   "version": "3.10.12"
  }
 },
 "nbformat": 4,
 "nbformat_minor": 2
}
