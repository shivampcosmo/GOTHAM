{
 "cells": [
  {
   "cell_type": "code",
   "execution_count": 1,
   "metadata": {},
   "outputs": [],
   "source": [
    "import sys, os\n",
    "os.environ[\"CUDA_VISIBLE_DEVICES\"] = \"0\"\n",
    "os.environ[\"CUDA_LAUNCH_BLOCKING\"] = \"1\"\n",
    "# import pickle as pk\n",
    "import numpy as np\n",
    "import torch\n",
    "dev = torch.device(\"cuda\")\n",
    "import torch.optim as optim\n",
    "# from torch.distributions import MultivariateNormal\n",
    "# from torch.distributions import Normal\n",
    "root_dir = '/mnt/home/spandey/ceph/AR_NPE/'\n",
    "os.chdir(root_dir)\n",
    "# import colossus\n",
    "import sys, os\n",
    "# append the root_dir to the path\n",
    "sys.path.append(root_dir)\n",
    "from nf.combined_models_wmaskSumGauss import COMBINED_Model\n",
    "# from nf.combined_models_classification import COMBINED_Model\n",
    "from nf.all_models import *\n",
    "from nf.utils_data_prep_cosmo import *\n",
    "# from tqdm import tqdm\n",
    "# import pyyaml\n",
    "from colossus.cosmology import cosmology\n",
    "params = {'flat': True, 'H0': 67.11, 'Om0': 0.3175, 'Ob0': 0.049, 'sigma8': 0.834, 'ns': 0.9624}\n",
    "cosmo = cosmology.setCosmology('myCosmo', **params)\n",
    "# get halo mass function:\n",
    "from colossus.lss import mass_function\n",
    "from tqdm import tqdm\n",
    "    \n",
    "import yaml\n",
    "import pickle as pk\n",
    "# autoreload modules\n",
    "%load_ext autoreload\n",
    "%autoreload 2\n",
    "\n",
    "import matplotlib\n",
    "%matplotlib inline\n",
    "import matplotlib.pyplot as pl\n",
    "import numpy as np\n",
    "import sys,os\n",
    "import readgadget\n",
    "import MAS_library as MASL\n",
    "import pickle as pk\n",
    "import readfof\n",
    "import matplotlib\n",
    "\n",
    "import matplotlib.pyplot as pl\n",
    "pl.rc('text', usetex=True)\n",
    "# Palatino\n",
    "pl.rc('font', family='DejaVu Sans')\n",
    "%matplotlib inline\n",
    "\n",
    "\n",
    "\n",
    "%load_ext Cython\n",
    "\n",
    "\n",
    "        \n",
    "        \n",
    "        \n",
    "\n"
   ]
  },
  {
   "cell_type": "code",
   "execution_count": 3,
   "metadata": {},
   "outputs": [
    {
     "name": "stderr",
     "output_type": "stream",
     "text": [
      "/tmp/ipykernel_3046184/3793945164.py:20: RuntimeWarning: divide by zero encountered in log10\n",
      "  lgMass_truth = np.log10(mass_truth)\n"
     ]
    }
   ],
   "source": [
    "isim_fid = 0\n",
    "snapnum = 3\n",
    "mass_type = 'rockstar_200c'\n",
    "snap_dir_base = '/mnt/home/fvillaescusa/ceph/Quijote/Halos/Rockstar/fiducial_HR'\n",
    "snapdir = snap_dir_base + '/' + str(isim_fid)  #folder hosting the catalogue\n",
    "rockstar = np.loadtxt(snapdir + '/out_' + str(snapnum) + '_pid.list')\n",
    "with open(snapdir + '/out_' + str(snapnum) + '_pid.list', 'r') as f:\n",
    "    lines = f.readlines()\n",
    "header = lines[0].split()\n",
    "# get the properties of the halos\n",
    "pos_h_truth = rockstar[:,header.index('X'):header.index('Z')+1]\n",
    "if mass_type == 'rockstar_vir':\n",
    "    index_M = header.index('Mvir')                    \n",
    "    mass_truth = rockstar[:,index_M]  #Halo masses in Msun/h\n",
    "if mass_type == 'rockstar_200c':\n",
    "    index_M = header.index('M200c')                    \n",
    "    mass_truth = rockstar[:,index_M]  #Halo masses in Msun/h\n",
    "\n",
    "Mmin_cut = 1e13\n",
    "lgMass_truth = np.log10(mass_truth)\n",
    "indsel = np.where(mass_truth > Mmin_cut)[0]\n",
    "# print(grid, len(indsel), len(mass_truth), np.amin(lgMass_truth), np.log10(Mmin_cut))\n",
    "pos_h_truth = pos_h_truth[indsel]\n",
    "lgMass_truth = lgMass_truth[indsel]\n"
   ]
  },
  {
   "cell_type": "code",
   "execution_count": 4,
   "metadata": {},
   "outputs": [],
   "source": [
    "# pos_h_truth.shape, mass_truth.shape\n",
    "import numpy as np\n",
    "import readgadget\n",
    "snapshot = f'/mnt/home/fvillaescusa/ceph/Quijote/Snapshots/fiducial_HR/{isim_fid}/snapdir_{snapnum:03d}/snap_{snapnum:03d}'\n",
    "ptype = [1] #DM is 1, neutrinos is [2]\n",
    "pos   = readgadget.read_block(snapshot, \"POS \", ptype)/1e3 #positions in Mpc/h\n",
    "vel   = readgadget.read_block(snapshot, \"VEL \", ptype)     #peculiar velocities in km/s\n",
    "ids   = readgadget.read_block(snapshot, \"ID  \", ptype)-1   #IDs starting from 0\n"
   ]
  },
  {
   "cell_type": "code",
   "execution_count": 5,
   "metadata": {},
   "outputs": [],
   "source": [
    "npart_test = 128**3\n",
    "downsample = int(len(pos)/npart_test)\n",
    "# select a random subset of particles:\n",
    "np.random.seed(0)\n",
    "ind = np.random.choice(len(pos), npart_test, replace=False)\n",
    "pos_m_truth = pos[ind]\n",
    "vel_m_truth = vel[ind]\n",
    "ids_m_truth = ids[ind]\n",
    "\n"
   ]
  },
  {
   "cell_type": "code",
   "execution_count": 6,
   "metadata": {},
   "outputs": [],
   "source": [
    "BoxSize = 1000.\n",
    "grid = 32\n",
    "nMax_m = 32\n",
    "Npart = np.float32(np.zeros((grid, grid, grid)))\n",
    "MASL.NGP(np.float32(pos_m_truth), Npart, BoxSize)\n",
    "\n"
   ]
  },
  {
   "cell_type": "markdown",
   "metadata": {},
   "source": [
    "# Distribution of number of dark matter particles in each voxel. Voxel is of size ~30Mpc/h\n"
   ]
  },
  {
   "cell_type": "code",
   "execution_count": 7,
   "metadata": {},
   "outputs": [
    {
     "data": {
      "image/png": "[encoded data removed]",
      "text/plain": [
       "<Figure size 640x480 with 1 Axes>"
      ]
     },
     "metadata": {},
     "output_type": "display_data"
    }
   ],
   "source": [
    "# np.amax(Nhalos)\n",
    "pl.figure()\n",
    "_ = pl.hist(Npart.flatten(), bins=150, range=(0, 150), histtype='step')\n",
    "pl.yscale('log')\n",
    "\n",
    "\n"
   ]
  },
  {
   "cell_type": "code",
   "execution_count": 8,
   "metadata": {},
   "outputs": [
    {
     "name": "stderr",
     "output_type": "stream",
     "text": [
      "In file included from /mnt/home/spandey/miniconda3/envs/ili-sbi/lib/python3.10/site-packages/numpy/core/include/numpy/ndarraytypes.h:1929,\n",
      "                 from /mnt/home/spandey/miniconda3/envs/ili-sbi/lib/python3.10/site-packages/numpy/core/include/numpy/ndarrayobject.h:12,\n",
      "                 from /mnt/home/spandey/miniconda3/envs/ili-sbi/lib/python3.10/site-packages/numpy/core/include/numpy/arrayobject.h:5,\n",
      "                 from /dev/shm/.cache-spandey/ipython/cython/_cython_magic_8e92a03fea1377cb7ef68053c6ef25c2.c:775:\n",
      "/mnt/home/spandey/miniconda3/envs/ili-sbi/lib/python3.10/site-packages/numpy/core/include/numpy/npy_1_7_deprecated_api.h:17:2: warning: #warning \"Using deprecated NumPy API, disable it with \" \"#define NPY_NO_DEPRECATED_API NPY_1_7_API_VERSION\" [-Wcpp]\n",
      "   17 | #warning \"Using deprecated NumPy API, disable it with \" \\\n",
      "      |  ^~~~~~~\n",
      "/dev/shm/.cache-spandey/ipython/cython/_cython_magic_8e92a03fea1377cb7ef68053c6ef25c2.c: In function '__pyx_pw_46_cython_magic_8e92a03fea1377cb7ef68053c6ef25c2_1NGP_xyzM':\n",
      "/dev/shm/.cache-spandey/ipython/cython/_cython_magic_8e92a03fea1377cb7ef68053c6ef25c2.c:3205:348: warning: '__pyx_v_pos2' may be used uninitialized in this function [-Wmaybe-uninitialized]\n",
      " 3205 |         *((__pyx_t_5numpy_float32_t *) ( /* dim=4 */ (( /* dim=3 */ (( /* dim=2 */ (( /* dim=1 */ (( /* dim=0 */ (__pyx_v_gridM.data + __pyx_t_7 * __pyx_v_gridM.strides[0]) ) + __pyx_t_8 * __pyx_v_gridM.strides[1]) ) + __pyx_t_12 * __pyx_v_gridM.strides[2]) ) + __pyx_t_13 * __pyx_v_gridM.strides[3]) ) + __pyx_t_14 * __pyx_v_gridM.strides[4]) )) = __pyx_v_pos2;\n",
      "      |         ~~~~~~~~~~~~~~~~~~~~~~~~~~~~~~~~~~~~~~~~~~~~~~~~~~~~~~~~~~~~~~~~~~~~~~~~~~~~~~~~~~~~~~~~~~~~~~~~~~~~~~~~~~~~~~~~~~~~~~~~~~~~~~~~~~~~~~~~~~~~~~~~~~~~~~~~~~~~~~~~~~~~~~~~~~~~~~~~~~~~~~~~~~~~~~~~~~~~~~~~~~~~~~~~~~~~~~~~~~~~~~~~~~~~~~~~~~~~~~~~~~~~~~~~~~~~~~~~~~~~~~~~~~~~~~~~~~~~~~~~~~~~~~~~~~~~~~~~~~~~~~~~~~~~~~~~~~~~~~~~~~~~~~~~~~~~~~~~~~~^~~~~~~~~~~~~~\n",
      "/dev/shm/.cache-spandey/ipython/cython/_cython_magic_8e92a03fea1377cb7ef68053c6ef25c2.c:2660:9: note: '__pyx_v_pos2' was declared here\n",
      " 2660 |   float __pyx_v_pos2;\n",
      "      |         ^~~~~~~~~~~~\n",
      "/dev/shm/.cache-spandey/ipython/cython/_cython_magic_8e92a03fea1377cb7ef68053c6ef25c2.c:3166:348: warning: '__pyx_v_pos1' may be used uninitialized in this function [-Wmaybe-uninitialized]\n",
      " 3166 |         *((__pyx_t_5numpy_float32_t *) ( /* dim=4 */ (( /* dim=3 */ (( /* dim=2 */ (( /* dim=1 */ (( /* dim=0 */ (__pyx_v_gridM.data + __pyx_t_14 * __pyx_v_gridM.strides[0]) ) + __pyx_t_13 * __pyx_v_gridM.strides[1]) ) + __pyx_t_12 * __pyx_v_gridM.strides[2]) ) + __pyx_t_8 * __pyx_v_gridM.strides[3]) ) + __pyx_t_7 * __pyx_v_gridM.strides[4]) )) = __pyx_v_pos1;\n",
      "      |         ~~~~~~~~~~~~~~~~~~~~~~~~~~~~~~~~~~~~~~~~~~~~~~~~~~~~~~~~~~~~~~~~~~~~~~~~~~~~~~~~~~~~~~~~~~~~~~~~~~~~~~~~~~~~~~~~~~~~~~~~~~~~~~~~~~~~~~~~~~~~~~~~~~~~~~~~~~~~~~~~~~~~~~~~~~~~~~~~~~~~~~~~~~~~~~~~~~~~~~~~~~~~~~~~~~~~~~~~~~~~~~~~~~~~~~~~~~~~~~~~~~~~~~~~~~~~~~~~~~~~~~~~~~~~~~~~~~~~~~~~~~~~~~~~~~~~~~~~~~~~~~~~~~~~~~~~~~~~~~~~~~~~~~~~~~~~~~~~~~~^~~~~~~~~~~~~~\n",
      "/dev/shm/.cache-spandey/ipython/cython/_cython_magic_8e92a03fea1377cb7ef68053c6ef25c2.c:2659:9: note: '__pyx_v_pos1' was declared here\n",
      " 2659 |   float __pyx_v_pos1;\n",
      "      |         ^~~~~~~~~~~~\n",
      "/dev/shm/.cache-spandey/ipython/cython/_cython_magic_8e92a03fea1377cb7ef68053c6ef25c2.c:3127:348: warning: '__pyx_v_pos0' may be used uninitialized in this function [-Wmaybe-uninitialized]\n",
      " 3127 |         *((__pyx_t_5numpy_float32_t *) ( /* dim=4 */ (( /* dim=3 */ (( /* dim=2 */ (( /* dim=1 */ (( /* dim=0 */ (__pyx_v_gridM.data + __pyx_t_7 * __pyx_v_gridM.strides[0]) ) + __pyx_t_8 * __pyx_v_gridM.strides[1]) ) + __pyx_t_12 * __pyx_v_gridM.strides[2]) ) + __pyx_t_13 * __pyx_v_gridM.strides[3]) ) + __pyx_t_14 * __pyx_v_gridM.strides[4]) )) = __pyx_v_pos0;\n",
      "      |         ~~~~~~~~~~~~~~~~~~~~~~~~~~~~~~~~~~~~~~~~~~~~~~~~~~~~~~~~~~~~~~~~~~~~~~~~~~~~~~~~~~~~~~~~~~~~~~~~~~~~~~~~~~~~~~~~~~~~~~~~~~~~~~~~~~~~~~~~~~~~~~~~~~~~~~~~~~~~~~~~~~~~~~~~~~~~~~~~~~~~~~~~~~~~~~~~~~~~~~~~~~~~~~~~~~~~~~~~~~~~~~~~~~~~~~~~~~~~~~~~~~~~~~~~~~~~~~~~~~~~~~~~~~~~~~~~~~~~~~~~~~~~~~~~~~~~~~~~~~~~~~~~~~~~~~~~~~~~~~~~~~~~~~~~~~~~~~~~~~~^~~~~~~~~~~~~~\n",
      "/dev/shm/.cache-spandey/ipython/cython/_cython_magic_8e92a03fea1377cb7ef68053c6ef25c2.c:2658:9: note: '__pyx_v_pos0' was declared here\n",
      " 2658 |   float __pyx_v_pos0;\n",
      "      |         ^~~~~~~~~~~~\n"
     ]
    }
   ],
   "source": [
    "%%cython\n",
    "cimport numpy as np\n",
    "cpdef void NGP_xyzM(np.float32_t[:,:] pos, np.float32_t[:] logM, np.float32_t[:,:,:,:,:] gridM, float BoxSize):\n",
    "\n",
    "    cdef int axis,dims,coord,nMmax,jM\n",
    "    cdef long i,particles\n",
    "    cdef float inv_cell_size\n",
    "    cdef float pos0, pos1, pos2\n",
    "    cdef int index[3]\n",
    "    cdef int tobreak\n",
    "\n",
    "    # find number of particles, the inverse of the cell size and dims\n",
    "    particles = pos.shape[0];  coord = pos.shape[1];  dims = gridM.shape[0]; nMmax = gridM.shape[3]\n",
    "    inv_cell_size = dims/BoxSize\n",
    "\n",
    "    # when computing things in 2D, use the index[2]=0 plane\n",
    "    for i in range(3):  index[i] = 0\n",
    "\n",
    "    # do a loop over all particles\n",
    "    for i in range(particles):\n",
    "        for axis in range(coord):\n",
    "            index[axis] = <int>(pos[i,axis]*inv_cell_size + 0.5)\n",
    "            if axis == 0:\n",
    "                pos0 = pos[i,axis] - index[axis]*BoxSize/dims\n",
    "            if axis == 1:\n",
    "                pos1 = pos[i,axis] - index[axis]*BoxSize/dims\n",
    "            if axis == 2:\n",
    "                pos2 = pos[i,axis] - index[axis]*BoxSize/dims\n",
    "            index[axis] = (index[axis]+dims)%dims\n",
    "        for jM in range(nMmax):\n",
    "            if (gridM[index[0],index[1],index[2], jM, 0] == 0) and (gridM[index[0],index[1],index[2], jM, 1] == 0) and (gridM[index[0],index[1],index[2], jM, 2] == 0) and (gridM[index[0],index[1],index[2], jM, 3] == 0):\n",
    "                gridM[index[0],index[1],index[2], jM, 0] = pos0\n",
    "                gridM[index[0],index[1],index[2], jM, 1] = pos1\n",
    "                gridM[index[0],index[1],index[2], jM, 2] = pos2\n",
    "                gridM[index[0],index[1],index[2], jM, 3] = logM[i]\n",
    "                break\n",
    "            else:\n",
    "                pass\n",
    "\n",
    "\n",
    "            "
   ]
  },
  {
   "cell_type": "code",
   "execution_count": 9,
   "metadata": {},
   "outputs": [],
   "source": [
    "# elif grid == 128:\n",
    "BoxSize = 1000.\n",
    "grid = 32\n",
    "nMax_h = 32\n",
    "dfhalo_ngp_wxyzM = np.float32(np.zeros((grid, grid, grid, nMax_h, 4)))\n",
    "NGP_xyzM(np.float32(pos_h_truth), np.float32(lgMass_truth), dfhalo_ngp_wxyzM, BoxSize)\n"
   ]
  },
  {
   "cell_type": "code",
   "execution_count": 10,
   "metadata": {},
   "outputs": [],
   "source": [
    "Nhalos_truth = np.float32(np.zeros((grid, grid, grid)))\n",
    "MASL.NGP(np.float32(pos_h_truth), Nhalos_truth, BoxSize)\n"
   ]
  },
  {
   "cell_type": "code",
   "execution_count": 11,
   "metadata": {},
   "outputs": [
    {
     "data": {
      "text/plain": [
       "2"
      ]
     },
     "execution_count": 11,
     "metadata": {},
     "output_type": "execute_result"
    },
    {
     "data": {
      "image/png": "[encoded data removed]",
      "text/plain": [
       "<Figure size 640x480 with 1 Axes>"
      ]
     },
     "metadata": {},
     "output_type": "display_data"
    }
   ],
   "source": [
    "# np.amax(Nhalos)\n",
    "pl.figure()\n",
    "_ = pl.hist(Nhalos_truth.flatten(), bins=15, range=(0, 64), histtype='step')\n",
    "pl.yscale('log')\n",
    "\n",
    "2\n"
   ]
  },
  {
   "cell_type": "code",
   "execution_count": 12,
   "metadata": {},
   "outputs": [],
   "source": [
    "# sort dfhalo_ngp_wxyzM according to the last index which corresponds to halo mass. Do the sorting in decreasing order:\n",
    "# dfhalo_ngp_wxyzM = dfhalo_ngp_wxyzM[np.argsort(dfhalo_ngp_wxyzM[:,:,:,:,-1], axis=-1)[::-1]]\n",
    "# np.argsort(dfhalo_ngp_wmass, axis=-1)\n",
    "M_halos_argsort = np.flip(np.argsort(dfhalo_ngp_wxyzM[:,:,:,:,3], axis=-1), axis=-1)\n",
    "xmin = BoxSize/grid/2\n",
    "lgMin = np.log10(Mmin_cut)\n",
    "lgMax = 15.5\n",
    "# M_halos_argsort\n",
    "# M_halos_argsort.shape, dfhalo_ngp_wxyz.shape\n",
    "# dfhalo_ngp_xyz_sorted = dfhalo_ngp_wxyz[M_halos_argsort]\n",
    "dfhalo_ngp_xyzM_sorted_scaled = np.zeros_like(dfhalo_ngp_wxyzM)\n",
    "for i1 in range(grid):\n",
    "    for i2 in range(grid):\n",
    "        for i3 in range(grid):\n",
    "            dfhalo_ngp_xyzM_sorted_scaled[i1, i2, i3, :, 0] = dfhalo_ngp_wxyzM[i1, i2, i3, M_halos_argsort[i1, i2, i3], 0]\n",
    "            indpos_x = np.where(dfhalo_ngp_xyzM_sorted_scaled[i1, i2, i3, :, 0] != 0.0)[0]\n",
    "            dfhalo_ngp_xyzM_sorted_scaled[i1, i2, i3, indpos_x, 0] = (dfhalo_ngp_xyzM_sorted_scaled[i1, i2, i3, indpos_x, 0] + xmin)/(2*xmin)\n",
    "\n",
    "            dfhalo_ngp_xyzM_sorted_scaled[i1, i2, i3, :, 1] = dfhalo_ngp_wxyzM[i1, i2, i3, M_halos_argsort[i1, i2, i3], 1]\n",
    "            indpos_y = np.where(dfhalo_ngp_xyzM_sorted_scaled[i1, i2, i3, :, 1] != 0.0)[0]\n",
    "            dfhalo_ngp_xyzM_sorted_scaled[i1, i2, i3, indpos_y, 1] = (dfhalo_ngp_xyzM_sorted_scaled[i1, i2, i3, indpos_y, 1] + xmin)/(2*xmin)\n",
    "\n",
    "            dfhalo_ngp_xyzM_sorted_scaled[i1, i2, i3, :, 2] = dfhalo_ngp_wxyzM[i1, i2, i3, M_halos_argsort[i1, i2, i3], 2]\n",
    "            indpos_z = np.where(dfhalo_ngp_xyzM_sorted_scaled[i1, i2, i3, :, 2] != 0.0)[0]\n",
    "            dfhalo_ngp_xyzM_sorted_scaled[i1, i2, i3, indpos_z, 2] = (dfhalo_ngp_xyzM_sorted_scaled[i1, i2, i3, indpos_z, 2] + xmin)/(2*xmin)\n",
    "\n",
    "            dfhalo_ngp_xyzM_sorted_scaled[i1, i2, i3, :, 3] = dfhalo_ngp_wxyzM[i1, i2, i3, M_halos_argsort[i1, i2, i3], 3]\n",
    "            indpos_M = np.where(dfhalo_ngp_xyzM_sorted_scaled[i1, i2, i3, :, 3] != 0.0)[0]\n",
    "            dfhalo_ngp_xyzM_sorted_scaled[i1, i2, i3, indpos_M, 3] = (dfhalo_ngp_xyzM_sorted_scaled[i1, i2, i3, indpos_M, 3] - lgMin)/(lgMax - lgMin)\n",
    "\n",
    "\n",
    "\n"
   ]
  },
  {
   "cell_type": "code",
   "execution_count": 13,
   "metadata": {},
   "outputs": [],
   "source": [
    "# M_halos_argsort\n",
    "\n"
   ]
  },
  {
   "cell_type": "code",
   "execution_count": 14,
   "metadata": {},
   "outputs": [],
   "source": [
    "indzeros = np.where(dfhalo_ngp_xyzM_sorted_scaled == 0.0)\n",
    "dfhalo_ngp_xyzM_sorted_scaled[indzeros] = -1.0\n",
    "\n"
   ]
  },
  {
   "cell_type": "code",
   "execution_count": 15,
   "metadata": {},
   "outputs": [],
   "source": [
    "# np.amin(dfhalo_ngp_xyzM_sorted_scaled), np.amax(dfhalo_ngp_xyzM_sorted_scaled)\n",
    "nvocab = 256\n",
    "bins_digitize = np.linspace(-1e-3, 1, nvocab)\n",
    "# bins_digitize.insert(0, -1)\n",
    "bins_digitize = np.insert(bins_digitize, 0, -1)\n",
    "# bins_digitize\n",
    "dfhalo_ngp_xyzM_sorted_scaled_digitized = np.digitize(dfhalo_ngp_xyzM_sorted_scaled, bins_digitize)\n"
   ]
  },
  {
   "cell_type": "code",
   "execution_count": 16,
   "metadata": {},
   "outputs": [
    {
     "data": {
      "text/plain": [
       "(32, 32, 32, 32, 4)"
      ]
     },
     "execution_count": 16,
     "metadata": {},
     "output_type": "execute_result"
    }
   ],
   "source": [
    "dfhalo_ngp_xyzM_sorted_scaled.shape\n"
   ]
  },
  {
   "cell_type": "code",
   "execution_count": 19,
   "metadata": {},
   "outputs": [],
   "source": [
    "# dfhalo_ngp_xyzM_sorted_scaled[0,0,0,:,0]\n",
    "# start_token = 0\n",
    "# pad_token = 1\n",
    "# end_token = nvocab + 1\n",
    "# space_token = nvocab + 2\n",
    "max_sentence_length = nMax_h*4\n",
    "dfhalo_ngp_xyzM_nontokenized = np.zeros((grid, grid, grid, max_sentence_length), dtype=np.float32)\n",
    "\n",
    "# dfhalo_ngp_xyzM_nontokenized[..., 0] = start_token\n",
    "# for jh in range(nMax_h):\n",
    "jh = 0\n",
    "while jh < 4*nMax_h:\n",
    "    # if dfhalo_ngp_xyzM_sorted_scaled_digitized[..., jh, 0] > 1:\n",
    "    dfhalo_ngp_xyzM_nontokenized[..., jh + 0] = dfhalo_ngp_xyzM_sorted_scaled[..., jh//5, 3]\n",
    "    dfhalo_ngp_xyzM_nontokenized[..., jh + 1] = dfhalo_ngp_xyzM_sorted_scaled[..., jh//5, 0]\n",
    "    dfhalo_ngp_xyzM_nontokenized[..., jh + 2] = dfhalo_ngp_xyzM_sorted_scaled[..., jh//5, 1]\n",
    "    dfhalo_ngp_xyzM_nontokenized[..., jh + 3] = dfhalo_ngp_xyzM_sorted_scaled[..., jh//5, 2]\n",
    "    # if jh//5 < nMax_h - 1:\n",
    "    #     dfhalo_ngp_xyzM_tokenized[..., jh + 4] = space_token\n",
    "    # else:\n",
    "    #     dfhalo_ngp_xyzM_tokenized[..., 1 + nMax_h*4] = end_token\n",
    "    jh += 4\n",
    "\n",
    "\n"
   ]
  },
  {
   "cell_type": "code",
   "execution_count": 25,
   "metadata": {},
   "outputs": [
    {
     "data": {
      "text/plain": [
       "array([ 0.28291208,  0.7189693 ,  0.17271973,  0.7870349 ,  0.28291208,\n",
       "        0.7189693 ,  0.17271973,  0.7870349 ,  0.22501716,  0.43239647,\n",
       "        0.16191211,  0.18850781,  0.21825142,  0.8414768 ,  0.1848584 ,\n",
       "        0.11461328,  0.1920143 ,  0.67684734,  0.35814747,  0.6713965 ,\n",
       "        0.17149353,  0.30295703,  0.4099707 ,  0.25056055,  0.17149353,\n",
       "        0.30295703,  0.4099707 ,  0.25056055,  0.16989402,  0.8034755 ,\n",
       "        0.20751855,  0.9040032 ,  0.1414051 ,  0.75048804,  0.35052246,\n",
       "        0.7213424 ,  0.13757591,  0.4939746 ,  0.3518789 ,  0.5908697 ,\n",
       "        0.1309925 ,  0.78477085,  0.8358555 ,  0.9968733 ,  0.1309925 ,\n",
       "        0.78477085,  0.8358555 ,  0.9968733 ,  0.12964706,  0.5347504 ,\n",
       "        0.2820918 ,  0.23718163,  0.11776008,  0.1533457 ,  0.31173047,\n",
       "        0.6810259 ,  0.11036415,  0.49513087,  0.8785205 ,  0.7313533 ,\n",
       "        0.09620972,  0.24171485,  0.22868554,  0.7440368 ,  0.09620972,\n",
       "        0.24171485,  0.22868554,  0.7440368 ,  0.09620972,  0.28614452,\n",
       "        0.18915918,  0.85513914,  0.07533493,  0.530879  ,  0.20352735,\n",
       "        0.17347266,  0.053722  ,  0.756551  ,  0.2125879 ,  0.11617383,\n",
       "        0.02412796,  0.82603294,  0.01671387,  0.75689983,  0.02412796,\n",
       "        0.82603294,  0.01671387,  0.75689983,  0.00444183,  0.60481155,\n",
       "        0.21474804,  0.20611133, -1.        , -1.        , -1.        ,\n",
       "       -1.        , -1.        , -1.        , -1.        , -1.        ,\n",
       "       -1.        , -1.        , -1.        , -1.        , -1.        ,\n",
       "       -1.        , -1.        , -1.        , -1.        , -1.        ,\n",
       "       -1.        , -1.        , -1.        , -1.        , -1.        ,\n",
       "       -1.        , -1.        , -1.        , -1.        , -1.        ,\n",
       "       -1.        , -1.        , -1.        , -1.        , -1.        ,\n",
       "       -1.        , -1.        , -1.        ], dtype=float32)"
      ]
     },
     "execution_count": 25,
     "metadata": {},
     "output_type": "execute_result"
    }
   ],
   "source": [
    "# for ji in range(len(dfhalo_ngp_xyzM_nontokenized[0,12,0,:])//4):\n",
    "    # print(dfhalo_ngp_xyzM_nontokenized[0,12,0,ji:ji+4])\n",
    "dfhalo_ngp_xyzM_nontokenized[0,12,0,:]\n"
   ]
  },
  {
   "cell_type": "code",
   "execution_count": 13,
   "metadata": {},
   "outputs": [
    {
     "data": {
      "text/plain": [
       "256"
      ]
     },
     "execution_count": 13,
     "metadata": {},
     "output_type": "execute_result"
    }
   ],
   "source": [
    "# dfhalo_ngp_wxyzM[0,12,0,:,-1]\n",
    "np.amax(dfhalo_ngp_xyzM_sorted_scaled_digitized)\n"
   ]
  },
  {
   "cell_type": "code",
   "execution_count": 14,
   "metadata": {},
   "outputs": [],
   "source": [
    "# dfhalo_ngp_xyzM_sorted_scaled_digitized\n",
    "# dfhalo_ngp_xyzM_sorted_scaled_digitized[0,12,0,:,-1]\n",
    "start_token = 0\n",
    "pad_token = 1\n",
    "end_token = nvocab + 1\n",
    "space_token = nvocab + 2\n",
    "max_sentence_length = 1 + nMax_h*4 + 1 + (nMax_h-1)\n",
    "dfhalo_ngp_xyzM_tokenized = np.zeros((grid, grid, grid, max_sentence_length), dtype=np.int32) + end_token\n",
    "\n",
    "dfhalo_ngp_xyzM_tokenized[..., 0] = start_token\n",
    "# for jh in range(nMax_h):\n",
    "jh = 1\n",
    "while jh < 5*nMax_h:\n",
    "    # if dfhalo_ngp_xyzM_sorted_scaled_digitized[..., jh, 0] > 1:\n",
    "    dfhalo_ngp_xyzM_tokenized[..., jh + 0] = dfhalo_ngp_xyzM_sorted_scaled_digitized[..., jh//5, 3]\n",
    "    dfhalo_ngp_xyzM_tokenized[..., jh + 1] = dfhalo_ngp_xyzM_sorted_scaled_digitized[..., jh//5, 0]\n",
    "    dfhalo_ngp_xyzM_tokenized[..., jh + 2] = dfhalo_ngp_xyzM_sorted_scaled_digitized[..., jh//5, 1]\n",
    "    dfhalo_ngp_xyzM_tokenized[..., jh + 3] = dfhalo_ngp_xyzM_sorted_scaled_digitized[..., jh//5, 2]\n",
    "    if jh//5 < nMax_h - 1:\n",
    "        dfhalo_ngp_xyzM_tokenized[..., jh + 4] = space_token\n",
    "    # else:\n",
    "    #     dfhalo_ngp_xyzM_tokenized[..., 1 + nMax_h*4] = end_token\n",
    "    jh += 5\n",
    "\n",
    "\n"
   ]
  },
  {
   "cell_type": "code",
   "execution_count": 15,
   "metadata": {},
   "outputs": [],
   "source": [
    "# dfhalo_ngp_xyzM_tokenized[0,0,0,:]\n",
    "dfhalo_ngp_xyzM_tokenized_padded_ended = np.copy(dfhalo_ngp_xyzM_tokenized)\n",
    "for i1 in range(grid):\n",
    "    for i2 in range(grid):\n",
    "        for i3 in range(grid):\n",
    "            ind1 = np.where(dfhalo_ngp_xyzM_tokenized[i1, i2, i3,:] == 1)[0]\n",
    "            try:\n",
    "                ind1 = ind1[0]\n",
    "                dfhalo_ngp_xyzM_tokenized_padded_ended[i1, i2, i3, ind1-1] = end_token\n",
    "                dfhalo_ngp_xyzM_tokenized_padded_ended[i1, i2, i3, ind1:] = pad_token\n",
    "            except:\n",
    "                dfhalo_ngp_xyzM_tokenized_padded_ended[i1, i2, i3, ind1-1] = end_token\n",
    "                # dfhalo_ngp_xyzM_tokenized_padded_ended[i1, i2, i3, ind1:] = pad_token\n",
    "\n",
    "\n"
   ]
  },
  {
   "cell_type": "code",
   "execution_count": 16,
   "metadata": {},
   "outputs": [
    {
     "data": {
      "text/plain": [
       "array([  0,  74, 185,  46, 202, 258,  59, 112,  43,  50, 258,  57, 216,\n",
       "        49,  31, 258,  51, 174,  93, 173, 258,  45,  79, 106,  66, 258,\n",
       "        45, 206,  55, 232, 258,  38, 193,  91, 186, 258,  37, 128,  91,\n",
       "       152, 258,  35, 202, 215, 256, 258,  35, 138,  74,  62, 258,  32,\n",
       "        41,  81, 175, 258,  30, 128, 226, 188, 258,  26,  63,  60, 191,\n",
       "       258,  26,  75,  50, 220, 258,  21, 137,  54,  46, 258,  15, 194,\n",
       "        56,  31, 258,   8, 212,   6, 195, 258,   3, 156,  56,  54, 257,\n",
       "         1,   1,   1,   1,   1,   1,   1,   1,   1,   1,   1,   1,   1,\n",
       "         1,   1,   1,   1,   1,   1,   1,   1,   1,   1,   1,   1,   1,\n",
       "         1,   1,   1,   1,   1,   1,   1,   1,   1,   1,   1,   1,   1,\n",
       "         1,   1,   1,   1,   1,   1,   1,   1,   1,   1,   1,   1,   1,\n",
       "         1,   1,   1,   1,   1,   1,   1,   1,   1,   1,   1,   1,   1,\n",
       "         1,   1,   1,   1,   1], dtype=int32)"
      ]
     },
     "execution_count": 16,
     "metadata": {},
     "output_type": "execute_result"
    }
   ],
   "source": [
    "dfhalo_ngp_xyzM_tokenized_padded_ended[0,12,0,:]\n",
    "# np.where(dfhalo_ngp_xyzM_tokenized[0,0,0,:] == 1)[0]\n",
    "# emb = nn.Embedding(5,5)\n",
    "# emb(torch.Tensor([0,1,2,3,4]).long())\n"
   ]
  },
  {
   "cell_type": "code",
   "execution_count": 17,
   "metadata": {},
   "outputs": [
    {
     "data": {
      "text/plain": [
       "(32768, 161)"
      ]
     },
     "execution_count": 17,
     "metadata": {},
     "output_type": "execute_result"
    }
   ],
   "source": [
    "dfhalo_ngp_xyzM_tokenized_padded_ended_squeezed = np.reshape(dfhalo_ngp_xyzM_tokenized_padded_ended, (grid*grid*grid, max_sentence_length))\n",
    "dfhalo_ngp_xyzM_tokenized_padded_ended_squeezed.shape\n"
   ]
  },
  {
   "cell_type": "code",
   "execution_count": 18,
   "metadata": {},
   "outputs": [],
   "source": [
    "# n1_all = np.zeros(dfhalo_ngp_xyzM_tokenized_padded_ended_squeezed.shape[0])\n",
    "# for ji in range(dfhalo_ngp_xyzM_tokenized_padded_ended_squeezed.shape[0]):\n",
    "#     n1 = len(np.where(dfhalo_ngp_xyzM_tokenized_padded_ended_squeezed[ji,:] != 1)[0])\n",
    "#     n1_all[ji] = n1\n",
    "\n",
    "# ind_to_remove = np.where(n1_all == 1)[0]\n",
    "# dfhalo_ngp_xyzM_tokenized_padded_ended_squeezed = np.delete(dfhalo_ngp_xyzM_tokenized_padded_ended_squeezed, ind_to_remove, axis=0)\n",
    "\n"
   ]
  },
  {
   "cell_type": "code",
   "execution_count": 19,
   "metadata": {},
   "outputs": [
    {
     "data": {
      "text/plain": [
       "(32768, 161)"
      ]
     },
     "execution_count": 19,
     "metadata": {},
     "output_type": "execute_result"
    }
   ],
   "source": [
    "dfhalo_ngp_xyzM_tokenized_padded_ended_squeezed.shape\n"
   ]
  },
  {
   "cell_type": "code",
   "execution_count": 20,
   "metadata": {},
   "outputs": [],
   "source": [
    "n = int(0.9*len(dfhalo_ngp_xyzM_tokenized_padded_ended_squeezed)) # first 90% will be train, rest val\n",
    "train_data = dfhalo_ngp_xyzM_tokenized_padded_ended_squeezed[:n]\n",
    "val_data = dfhalo_ngp_xyzM_tokenized_padded_ended_squeezed[n:]\n"
   ]
  },
  {
   "cell_type": "code",
   "execution_count": 21,
   "metadata": {},
   "outputs": [],
   "source": [
    "# mask_batch_reshape.shape\n",
    "# mask_batch_reshape.transpose(1, 2)\n",
    "# mask_batch_reshape.shape\n",
    "# x_train.shape, y_train.shape\n",
    "# train_data\n",
    "device = 'cuda' if torch.cuda.is_available() else 'cpu'\n",
    "x = torch.tensor(train_data[:, :-1])\n",
    "y = torch.tensor(train_data[:, 1:])\n",
    "\n",
    "\n",
    "\n",
    "# masked_logits_train.shape, x.shape\n"
   ]
  },
  {
   "cell_type": "code",
   "execution_count": 198,
   "metadata": {},
   "outputs": [],
   "source": [
    "# train_data[2,:]\n"
   ]
  },
  {
   "cell_type": "code",
   "execution_count": 199,
   "metadata": {},
   "outputs": [],
   "source": [
    "# x[0,:], masked_logits_train[0,0,:]\n",
    "# mask_train[0,:]\n",
    "# masked_logits_train[0,0,:]\n",
    "\n",
    "# x.shape\n",
    "\n",
    "    # if n1 == 1:\n",
    "        # print(ji)\n",
    "\n"
   ]
  },
  {
   "cell_type": "code",
   "execution_count": 200,
   "metadata": {},
   "outputs": [
    {
     "data": {
      "text/plain": [
       "tensor([ True,  True,  True,  True,  True,  True,  True,  True,  True,  True,\n",
       "         True,  True,  True,  True,  True,  True, False, False, False, False,\n",
       "        False, False, False, False, False, False, False, False, False, False,\n",
       "        False, False, False, False, False, False, False, False, False, False,\n",
       "        False, False, False, False, False, False, False, False, False, False,\n",
       "        False, False, False, False, False, False, False, False, False, False,\n",
       "        False, False, False, False, False, False, False, False, False, False,\n",
       "        False, False, False, False, False, False, False, False, False, False,\n",
       "        False, False, False, False, False, False, False, False, False, False,\n",
       "        False, False, False, False, False, False, False, False, False, False,\n",
       "        False, False, False, False, False, False, False, False, False, False,\n",
       "        False, False, False, False, False, False, False, False, False, False,\n",
       "        False, False, False, False, False, False, False, False, False, False,\n",
       "        False, False, False, False, False, False, False, False, False, False,\n",
       "        False, False, False, False, False, False, False, False, False, False,\n",
       "        False, False, False, False, False, False, False, False, False, False])"
      ]
     },
     "execution_count": 200,
     "metadata": {},
     "output_type": "execute_result"
    }
   ],
   "source": [
    "# np.amin(n1_all)\n",
    "# len(np.where(n1_all==1)[0])\n",
    "mask_batch_reshape_transpose[0,2,:]\n",
    "\n"
   ]
  },
  {
   "cell_type": "code",
   "execution_count": 22,
   "metadata": {},
   "outputs": [
    {
     "name": "stderr",
     "output_type": "stream",
     "text": [
      "/tmp/ipykernel_877702/1254606755.py:14: UserWarning: To copy construct from a tensor, it is recommended to use sourceTensor.clone().detach() or sourceTensor.clone().detach().requires_grad_(True), rather than torch.tensor(sourceTensor).\n",
      "  x, y = torch.tensor(x).to(device), torch.tensor(y).to(device)\n",
      "/tmp/ipykernel_877702/1254606755.py:17: UserWarning: To copy construct from a tensor, it is recommended to use sourceTensor.clone().detach() or sourceTensor.clone().detach().requires_grad_(True), rather than torch.tensor(sourceTensor).\n",
      "  mask_train = torch.tensor(mask_train).to(device)\n",
      "/tmp/ipykernel_877702/1254606755.py:33: UserWarning: To copy construct from a tensor, it is recommended to use sourceTensor.clone().detach() or sourceTensor.clone().detach().requires_grad_(True), rather than torch.tensor(sourceTensor).\n",
      "  x, y = torch.tensor(x).to(device), torch.tensor(y).to(device)\n",
      "/tmp/ipykernel_877702/1254606755.py:37: UserWarning: To copy construct from a tensor, it is recommended to use sourceTensor.clone().detach() or sourceTensor.clone().detach().requires_grad_(True), rather than torch.tensor(sourceTensor).\n",
      "  mask_val = torch.tensor(mask_val).to(device)\n"
     ]
    }
   ],
   "source": [
    "# data = train_data if split == 'train' else val_data\n",
    "device = 'cuda' if torch.cuda.is_available() else 'cpu'\n",
    "x = torch.tensor(train_data[:, :-1])\n",
    "y = torch.tensor(train_data[:, 1:])\n",
    "\n",
    "mask_train = x != 1\n",
    "mask_batch_reshape = torch.tile(mask_train.unsqueeze(-1), (1, 1, mask_train.shape[1]))\n",
    "mask_batch_reshape_transpose = mask_batch_reshape.transpose(1, 2)\n",
    "# mask_train = torch.logical_not(mask_batch_reshape & mask_batch_reshape_transpose)\n",
    "mask_train = torch.logical_not(mask_batch_reshape_transpose)\n",
    "masked_logits = torch.zeros(mask_train.shape)\n",
    "mask_train = masked_logits.masked_fill(mask_train, float('-inf'))\n",
    "\n",
    "x, y = torch.tensor(x).to(device), torch.tensor(y).to(device)\n",
    "x_train = x.long()\n",
    "y_train = y.long()\n",
    "mask_train = torch.tensor(mask_train).to(device)\n",
    "\n",
    "\n",
    "\n",
    "x = torch.tensor(val_data[:, :-1])\n",
    "y = torch.tensor(val_data[:, 1:])\n",
    "\n",
    "mask_val = x != 1\n",
    "mask_batch_reshape = torch.tile(mask_val.unsqueeze(-1), (1, 1, mask_val.shape[1]))\n",
    "mask_batch_reshape_transpose = mask_batch_reshape.transpose(1, 2)\n",
    "# mask_val = torch.logical_not(mask_batch_reshape & mask_batch_reshape_transpose)\n",
    "mask_val = torch.logical_not(mask_batch_reshape_transpose)\n",
    "masked_logits = torch.zeros(mask_val.shape)\n",
    "mask_val = masked_logits.masked_fill(mask_val, float('-inf'))\n",
    "\n",
    "\n",
    "x, y = torch.tensor(x).to(device), torch.tensor(y).to(device)\n",
    "x_val = x.long()\n",
    "y_val = y.long()\n",
    "\n",
    "mask_val = torch.tensor(mask_val).to(device)\n",
    "\n",
    "\n"
   ]
  },
  {
   "cell_type": "code",
   "execution_count": 23,
   "metadata": {},
   "outputs": [],
   "source": [
    "import torch\n",
    "import torch.nn as nn\n",
    "from torch.nn import functional as F\n",
    "\n",
    "# hyperparameters\n",
    "# batch_size = 16 # how many independent sequences will we process in parallel?\n",
    "# block_size = 32 # what is the maximum context length for predictions?\n",
    "max_iters = 5000\n",
    "eval_interval = 10\n",
    "learning_rate = 1e-3\n",
    "device = 'cuda' if torch.cuda.is_available() else 'cpu'\n",
    "eval_iters = 200\n",
    "n_embd = 64\n",
    "n_head = 4\n",
    "n_layer = 4\n",
    "dropout = 0.2\n",
    "# ------------\n",
    "vocab_size = nvocab + 3\n",
    "block_size = max_sentence_length - 1\n",
    "batch_size = 2048\n",
    "\n",
    "\n",
    "\n",
    "\n",
    "\n",
    "\n",
    "\n"
   ]
  },
  {
   "cell_type": "code",
   "execution_count": 24,
   "metadata": {},
   "outputs": [
    {
     "name": "stdout",
     "output_type": "stream",
     "text": [
      "The autoreload extension is already loaded. To reload it, use:\n",
      "  %reload_ext autoreload\n"
     ]
    }
   ],
   "source": []
  },
  {
   "cell_type": "code",
   "execution_count": 25,
   "metadata": {},
   "outputs": [],
   "source": [
    "def get_batch(split, batch_size=None):\n",
    "    if split == 'train':\n",
    "        x = x_train\n",
    "        y = y_train\n",
    "        mask = mask_train\n",
    "    elif split == 'val':\n",
    "        x = x_val\n",
    "        y = y_val\n",
    "        mask = mask_val\n",
    "    if batch_size is not None:\n",
    "        x = x[:batch_size]\n",
    "        y = y[:batch_size]\n",
    "        mask = mask[:batch_size]\n",
    "    return x, y, mask\n",
    "    # return x, y\n",
    "\n",
    "class mySequential(nn.Sequential):\n",
    "    def forward(self, *inputs):\n",
    "        for module in self._modules.values():\n",
    "            if type(inputs) == tuple:\n",
    "                inputs = module(*inputs)\n",
    "            else:\n",
    "                inputs = module(inputs)\n",
    "        return inputs\n",
    "\n",
    "class Head(nn.Module):\n",
    "    \"\"\" one head of self-attention \"\"\"\n",
    "\n",
    "    def __init__(self, head_size):\n",
    "        super().__init__()\n",
    "        self.key = nn.Linear(n_embd, head_size, bias=False)\n",
    "        self.query = nn.Linear(n_embd, head_size, bias=False)\n",
    "        self.value = nn.Linear(n_embd, head_size, bias=False)\n",
    "        self.register_buffer('tril', torch.tril(torch.ones(block_size, block_size)))\n",
    "\n",
    "        self.dropout = nn.Dropout(dropout)\n",
    "\n",
    "    def forward(self, x, mask):\n",
    "        x = x\n",
    "        B,T,C = x.shape\n",
    "        k = self.key(x)   # (B,T,C)\n",
    "        q = self.query(x) # (B,T,C)\n",
    "        # compute attention scores (\"affinities\")\n",
    "        wei = q @ k.transpose(-2,-1) * C**-0.5 # (B, T, C) @ (B, C, T) -> (B, T, T)\n",
    "        wei = wei.masked_fill(self.tril[:T, :T] == 0, float('-inf')) # (B, T, T)\n",
    "        if mask is not None:\n",
    "            wei += mask\n",
    "        wei = F.softmax(wei, dim=-1) # (B, T, T)\n",
    "        wei = self.dropout(wei)\n",
    "        # perform the weighted aggregation of the values\n",
    "        v = self.value(x) # (B,T,C)\n",
    "        out = wei @ v # (B, T, T) @ (B, T, C) -> (B, T, C)\n",
    "        return out\n",
    "\n",
    "class MultiHeadAttention(nn.Module):\n",
    "    \"\"\" multiple heads of self-attention in parallel \"\"\"\n",
    "\n",
    "    def __init__(self, num_heads, head_size):\n",
    "        super().__init__()\n",
    "        self.heads = nn.ModuleList([Head(head_size) for _ in range(num_heads)])\n",
    "        self.proj = nn.Linear(n_embd, n_embd)\n",
    "        self.dropout = nn.Dropout(dropout)\n",
    "\n",
    "    def forward(self, x, mask):\n",
    "        out = torch.cat([h(x, mask) for h in self.heads], dim=-1)\n",
    "        out = self.dropout(self.proj(out))\n",
    "        return out\n",
    "\n",
    "class FeedFoward(nn.Module):\n",
    "    \"\"\" a simple linear layer followed by a non-linearity \"\"\"\n",
    "\n",
    "    def __init__(self, n_embd):\n",
    "        super().__init__()\n",
    "        self.net = nn.Sequential(\n",
    "            nn.Linear(n_embd, 4 * n_embd),\n",
    "            nn.ReLU(),\n",
    "            nn.Linear(4 * n_embd, n_embd),\n",
    "            nn.Dropout(dropout),\n",
    "        )\n",
    "\n",
    "    def forward(self, x):\n",
    "        return self.net(x)\n",
    "\n",
    "\n",
    "class Block(nn.Module):\n",
    "    \"\"\" Transformer block: communication followed by computation \"\"\"\n",
    "\n",
    "    def __init__(self, n_embd, n_head):\n",
    "        # n_embd: embedding dimension, n_head: the number of heads we'd like\n",
    "        super().__init__()\n",
    "        head_size = n_embd // n_head\n",
    "        self.sa = MultiHeadAttention(n_head, head_size)\n",
    "        self.ffwd = FeedFoward(n_embd)\n",
    "        self.ln1 = nn.LayerNorm(n_embd)\n",
    "        self.ln2 = nn.LayerNorm(n_embd)\n",
    "\n",
    "    def forward(self, x, mask):\n",
    "        x = x + self.sa(self.ln1(x), mask)\n",
    "        x = x + self.ffwd(self.ln2(x))\n",
    "        return x\n",
    "    \n",
    "# super simple bigram model\n",
    "class HaloDecoderModel(nn.Module):\n",
    "\n",
    "    def __init__(self):\n",
    "        super().__init__()\n",
    "        # each token directly reads off the logits for the next token from a lookup table\n",
    "        self.token_embedding_table = nn.Embedding(vocab_size, n_embd)\n",
    "        self.position_embedding_table = nn.Embedding(block_size, n_embd)\n",
    "        # self.blocks = nn.Sequential(*[Block(n_embd, n_head=n_head) for _ in range(n_layer)])\n",
    "        self.blocks = nn.ModuleList([Block(n_embd, n_head=n_head) for _ in range(n_layer)])\n",
    "        # self.blocks = mySequential(*[Block(n_embd, n_head=n_head) for _ in range(n_layer)])\n",
    "        self.ln_f = nn.LayerNorm(n_embd) # final layer norm\n",
    "        self.lm_head = nn.Linear(n_embd, vocab_size)\n",
    "\n",
    "    def forward(self, idx, targets=None, mask=None):\n",
    "        B, T = idx.shape\n",
    "\n",
    "        # idx and targets are both (B,T) tensor of integers\n",
    "        tok_emb = self.token_embedding_table(idx) # (B,T,C)\n",
    "        pos_emb = self.position_embedding_table(torch.arange(T, device=device)) # (T,C)\n",
    "        x = tok_emb + pos_emb # (B,T,C)\n",
    "        # x = self.blocks(x) # (B,T,C)\n",
    "        # x = self.blocks((x,mask)) # (B,T,C)        \n",
    "        for block in self.blocks:\n",
    "            x = block(x, mask)\n",
    "        \n",
    "        x = self.ln_f(x) # (B,T,C)\n",
    "        logits = self.lm_head(x) # (B,T,vocab_size)\n",
    "\n",
    "        if targets is None:\n",
    "            loss = None\n",
    "        else:\n",
    "            B, T, C = logits.shape\n",
    "            logits = logits.view(B*T, C)\n",
    "            targets = targets.view(B*T)\n",
    "\n",
    "            loss = F.cross_entropy(logits, targets, ignore_index=1)\n",
    "\n",
    "        return logits, loss\n",
    "\n",
    "    def generate(self, idx_inp, max_new_tokens, nvox_samp=32):\n",
    "        # idx is (B, T) array of indices in the current context\n",
    "        idx_all = []\n",
    "        for jv in range(nvox_samp):\n",
    "            idx = idx_inp\n",
    "            for _ in range(max_new_tokens):\n",
    "                # crop idx to the last block_size tokens\n",
    "                idx_cond = idx[:, -block_size:]\n",
    "                # get the predictions\n",
    "                logits, loss = self(idx_cond)\n",
    "                # focus only on the last time step\n",
    "                logits = logits[:, -1, :] # becomes (B, C)\n",
    "                # apply softmax to get probabilities\n",
    "                probs = F.softmax(logits, dim=-1) # (B, C)\n",
    "                # sample from the distribution\n",
    "                idx_next = torch.multinomial(probs, num_samples=1) # (B, 1)\n",
    "                # append sampled index to the running sequence\n",
    "                if idx_next == end_token:\n",
    "                    break\n",
    "                idx = torch.cat((idx, idx_next), dim=1) # (B, T+1)\n",
    "            idx_all.append(idx)\n",
    "        return idx_all\n",
    "\n",
    "\n",
    "\n",
    "@torch.no_grad()\n",
    "def estimate_loss():\n",
    "    out = {}\n",
    "    model.eval()\n",
    "    for split in ['train', 'val']:\n",
    "        losses = torch.zeros(eval_iters)\n",
    "        for k in range(eval_iters):\n",
    "            X, Y, mask = get_batch(split, batch_size)\n",
    "            logits, loss = model(X, Y, mask)\n",
    "            losses[k] = loss.item()\n",
    "        out[split] = losses.mean()\n",
    "    model.train()\n",
    "    return out\n",
    "\n",
    "\n"
   ]
  },
  {
   "cell_type": "code",
   "execution_count": 28,
   "metadata": {},
   "outputs": [],
   "source": [
    "# X, Y, mask = get_batch('val', batch_size)\n",
    "# mask\n",
    "# Y.shape\n",
    "# yb.shape\n",
    "# yb\n"
   ]
  },
  {
   "cell_type": "code",
   "execution_count": 29,
   "metadata": {},
   "outputs": [
    {
     "name": "stdout",
     "output_type": "stream",
     "text": [
      "0.242947 M parameters\n"
     ]
    }
   ],
   "source": [
    "model = HaloDecoderModel()\n",
    "m = model.to(device)\n",
    "# print the number of parameters in the model\n",
    "print(sum(p.numel() for p in m.parameters())/1e6, 'M parameters')\n",
    "\n",
    "# create a PyTorch optimizer\n",
    "optimizer = torch.optim.AdamW(model.parameters(), lr=learning_rate)\n",
    "\n"
   ]
  },
  {
   "cell_type": "code",
   "execution_count": 211,
   "metadata": {},
   "outputs": [
    {
     "name": "stdout",
     "output_type": "stream",
     "text": [
      "step 0: train loss 4.1485, val loss 4.1840\n",
      "New best model saved with loss 4.1840\n",
      "step 10: train loss 4.1289, val loss 4.1704\n",
      "New best model saved with loss 4.1704\n",
      "step 20: train loss 4.1106, val loss 4.1585\n",
      "New best model saved with loss 4.1585\n",
      "step 30: train loss 4.0969, val loss 4.1522\n",
      "New best model saved with loss 4.1522\n",
      "step 40: train loss 4.0806, val loss 4.1384\n",
      "New best model saved with loss 4.1384\n",
      "step 50: train loss 4.0654, val loss 4.1328\n",
      "New best model saved with loss 4.1328\n",
      "step 60: train loss 4.0509, val loss 4.1248\n",
      "New best model saved with loss 4.1248\n",
      "step 70: train loss 4.0368, val loss 4.1200\n",
      "New best model saved with loss 4.1200\n"
     ]
    }
   ],
   "source": [
    "val_loss_min = 1e20\n",
    "# saved = {}\n",
    "for iter in range(max_iters):\n",
    "\n",
    "    # every once in a while evaluate the loss on train and val sets\n",
    "    if iter % eval_interval == 0 or iter == max_iters - 1:\n",
    "        losses = estimate_loss()\n",
    "        print(f\"step {iter}: train loss {losses['train']:.4f}, val loss {losses['val']:.4f}\")\n",
    "\n",
    "        # save the model if it's better than the previous best:\n",
    "        if losses['val'] < val_loss_min:\n",
    "            val_loss_min = losses['val']\n",
    "            torch.save(model.state_dict(), 'model.pt')\n",
    "            print(f\"New best model saved with loss {val_loss_min:.4f}\")\n",
    "\n",
    "    # sample a batch of data\n",
    "    xb, yb, mask = get_batch('train', batch_size)\n",
    "\n",
    "    # evaluate the loss\n",
    "    logits, loss = model(xb, yb, mask)\n",
    "    optimizer.zero_grad(set_to_none=True)\n",
    "    loss.backward()\n",
    "    optimizer.step()\n",
    "\n",
    "\n",
    "\n",
    "\n"
   ]
  },
  {
   "cell_type": "code",
   "execution_count": 30,
   "metadata": {},
   "outputs": [
    {
     "data": {
      "text/plain": [
       "<All keys matched successfully>"
      ]
     },
     "execution_count": 30,
     "metadata": {},
     "output_type": "execute_result"
    }
   ],
   "source": [
    "# load model from disk:\n",
    "# model = HaloDecoderModel()\n",
    "m.load_state_dict(torch.load('model.pt'))\n",
    "\n"
   ]
  },
  {
   "cell_type": "code",
   "execution_count": 31,
   "metadata": {},
   "outputs": [
    {
     "name": "stdout",
     "output_type": "stream",
     "text": [
      "train loss 3.9512, val loss 4.0991\n"
     ]
    }
   ],
   "source": [
    "losses = estimate_loss()\n",
    "print(f\"train loss {losses['train']:.4f}, val loss {losses['val']:.4f}\")\n",
    "\n"
   ]
  },
  {
   "cell_type": "code",
   "execution_count": 83,
   "metadata": {},
   "outputs": [],
   "source": [
    "idx_inp = torch.zeros((1, 1), dtype=torch.long, device=device)\n",
    "nvox_samp = 256\n",
    "max_new_tokens = 160\n",
    "idx_all = []\n",
    "for jv in range(nvox_samp):\n",
    "    idx = idx_inp\n",
    "    for _ in range(max_new_tokens):\n",
    "        # crop idx to the last block_size tokens\n",
    "        idx_cond = idx[:, -block_size:]\n",
    "        # get the predictions\n",
    "        logits, loss = m(idx_cond)\n",
    "        # focus only on the last time step\n",
    "        logits = logits[:, -1, :] # becomes (B, C)\n",
    "        # apply softmax to get probabilities\n",
    "        probs = F.softmax(logits, dim=-1) # (B, C)\n",
    "        # sample from the distribution\n",
    "        idx_next = torch.multinomial(probs, num_samples=1) # (B, 1)\n",
    "        # append sampled index to the running sequence\n",
    "        if idx_next == end_token:\n",
    "            break\n",
    "        idx = torch.cat((idx, idx_next), dim=1) # (B, T+1)\n",
    "    idx_all.append(idx)\n",
    "    "
   ]
  },
  {
   "cell_type": "code",
   "execution_count": 84,
   "metadata": {},
   "outputs": [
    {
     "name": "stderr",
     "output_type": "stream",
     "text": [
      "/tmp/ipykernel_877702/3218272055.py:27: DeprecationWarning: Conversion of an array with ndim > 0 to a scalar is deprecated, and will error in future. Ensure you extract a single element from your array before performing this operation. (Deprecated NumPy 1.25.)\n",
      "  Mhalo[jh] = bins_digitize[idx[idx0]] * (lgMax - lgMin) + lgMin\n",
      "/tmp/ipykernel_877702/3218272055.py:32: DeprecationWarning: Conversion of an array with ndim > 0 to a scalar is deprecated, and will error in future. Ensure you extract a single element from your array before performing this operation. (Deprecated NumPy 1.25.)\n",
      "  Mhalo[jh] = bins_digitize[idx[idxe]] * (lgMax - lgMin) + lgMin\n"
     ]
    }
   ],
   "source": [
    "# idx_all\n",
    "Nhalo_all = []\n",
    "Mhalo_all = []\n",
    "\n",
    "for jv in range(nvox_samp):\n",
    "    idx = idx_all[jv]\n",
    "    idx = idx.cpu().numpy().flatten()\n",
    "    # idx = idx[1:]\n",
    "    # idx = idx[:np.where(idx == end_token)[0][0]]\n",
    "    # idx = idx.reshape(-1, 5)\n",
    "    idxe = np.where(idx == space_token)[0] + 1\n",
    "    idx0 = np.where(idx == start_token)[0] + 1\n",
    "    # check with idx0 is a scalar or an array:\n",
    "    # try:\n",
    "        # temp = len(idx0)\n",
    "        # print(temp)\n",
    "    # except:\n",
    "    if len(idx0) == 1:\n",
    "        Nhalo = len(idxe) + len(idx0)\n",
    "        Nhalo_all.append(Nhalo)\n",
    "    \n",
    "        if Nhalo > 0:\n",
    "            try:\n",
    "                Mhalo = np.zeros(Nhalo)\n",
    "                for jh in range(Nhalo):\n",
    "                    if jh == 0:\n",
    "                        Mhalo[jh] = bins_digitize[idx[idx0]] * (lgMax - lgMin) + lgMin\n",
    "                    else:\n",
    "                        if Nhalo > 2:\n",
    "                            Mhalo[jh] = bins_digitize[idx[idxe[jh-1]]] * (lgMax - lgMin) + lgMin\n",
    "                        else:\n",
    "                            Mhalo[jh] = bins_digitize[idx[idxe]] * (lgMax - lgMin) + lgMin\n",
    "                Mhalo_all.append(Mhalo)\n",
    "            except:\n",
    "                pass\n"
   ]
  },
  {
   "cell_type": "code",
   "execution_count": 85,
   "metadata": {},
   "outputs": [],
   "source": [
    "# idxe\n",
    "# idxe[jh-1]\n",
    "# idx[idxe[jh-1]]\n",
    "# idx\n",
    "# Mhalo_all\n",
    "# sum(Mhalo_all, [])\n",
    "Mhalo_all_concat = []\n",
    "for jv in range(len(Mhalo_all)):\n",
    "    Mhalo_all_concat.extend(Mhalo_all[jv])\n",
    "    \n"
   ]
  },
  {
   "cell_type": "code",
   "execution_count": 105,
   "metadata": {},
   "outputs": [
    {
     "data": {
      "text/plain": [
       "Text(0, 0.5, 'PDF')"
      ]
     },
     "execution_count": 105,
     "metadata": {},
     "output_type": "execute_result"
    },
    {
     "data": {
      "image/png": "[encoded data removed]",
      "text/plain": [
       "<Figure size 640x480 with 1 Axes>"
      ]
     },
     "metadata": {},
     "output_type": "display_data"
    }
   ],
   "source": [
    "# Nhalo_all\n",
    "# Nhalos_truth\n",
    "pl.figure()\n",
    "_ = pl.hist(Nhalo_all, bins=18, range=(0,32), density=True, histtype='step', label='mock')\n",
    "_ = pl.hist(Nhalos_truth.flatten(), bins=18, range=(0,32), density=True, histtype='step', label='truth')\n",
    "pl.yscale('log')\n",
    "pl.legend(fontsize=15)\n",
    "pl.xlabel('Number of halos', fontsize=15)\n",
    "pl.ylabel('PDF', fontsize=15)\n",
    "\n"
   ]
  },
  {
   "cell_type": "code",
   "execution_count": 87,
   "metadata": {},
   "outputs": [],
   "source": [
    "lgMsim_truth = dfhalo_ngp_wxyzM[:,:,:,:,3].flatten()\n",
    "# select non-zero masses:\n",
    "indpos = np.where(lgMsim_truth != 0.0)[0]\n",
    "lgMsim_truth = lgMsim_truth[indpos]\n"
   ]
  },
  {
   "cell_type": "code",
   "execution_count": 102,
   "metadata": {},
   "outputs": [
    {
     "data": {
      "text/plain": [
       "Text(0, 0.5, 'PDF')"
      ]
     },
     "execution_count": 102,
     "metadata": {},
     "output_type": "execute_result"
    },
    {
     "data": {
      "image/png": "[encoded data removed]",
      "text/plain": [
       "<Figure size 640x480 with 1 Axes>"
      ]
     },
     "metadata": {},
     "output_type": "display_data"
    }
   ],
   "source": [
    "# Nhalo_all\n",
    "pl.figure()\n",
    "_ = pl.hist(Mhalo_all_concat, bins=15, range=(lgMin, 15), density=True, histtype='step', label='mock')\n",
    "_ = pl.hist(lgMsim_truth, bins=15, range=(lgMin, 15), density=True, histtype='step', label='truth')\n",
    "pl.yscale('log')\n",
    "pl.legend(fontsize=15)\n",
    "pl.xlabel(r'$\\log_{10}(M_{\\rm halo})$', size=15)\n",
    "pl.ylabel(r'PDF', size=15)\n",
    "\n"
   ]
  },
  {
   "cell_type": "code",
   "execution_count": 154,
   "metadata": {},
   "outputs": [],
   "source": [
    "\n",
    "# # generate from the model\n",
    "# context = torch.zeros((1, 1), dtype=torch.long, device=device)\n",
    "# # print(decode(m.generate(context, max_new_tokens=2000)[0].tolist()))\n",
    "# m.generate(context, max_new_tokens=160, nvox_samp=32)\n",
    "\n",
    "source_batch = torch.LongTensor([\n",
    "    [1, 2, 3, 0, 0, 0],\n",
    "    [1, 2, 3, 4, 5, 6],\n",
    "    [1, 2, 3, 4, 5, 0]\n",
    "])\n",
    "\n",
    "mask_batch = (source_batch != 0)\n",
    "\n"
   ]
  },
  {
   "cell_type": "code",
   "execution_count": 157,
   "metadata": {},
   "outputs": [
    {
     "data": {
      "text/plain": [
       "torch.Size([3, 6, 1])"
      ]
     },
     "execution_count": 157,
     "metadata": {},
     "output_type": "execute_result"
    }
   ],
   "source": [
    "# mask_batch.unsqueeze(-1).shape\n"
   ]
  },
  {
   "cell_type": "code",
   "execution_count": 182,
   "metadata": {},
   "outputs": [],
   "source": [
    "# mask_batch.shape\n",
    "\n",
    "\n"
   ]
  },
  {
   "cell_type": "code",
   "execution_count": 190,
   "metadata": {},
   "outputs": [],
   "source": [
    "# mask_batch_final.shape\n",
    "# mask_batch_final[0,:,:] * float('-inf')\n",
    "# put -inf values at mask==True positions:\n"
   ]
  },
  {
   "cell_type": "code",
   "execution_count": 192,
   "metadata": {},
   "outputs": [
    {
     "data": {
      "text/plain": [
       "tensor([[[False, False, False,  True,  True,  True],\n",
       "         [False, False, False,  True,  True,  True],\n",
       "         [False, False, False,  True,  True,  True],\n",
       "         [ True,  True,  True,  True,  True,  True],\n",
       "         [ True,  True,  True,  True,  True,  True],\n",
       "         [ True,  True,  True,  True,  True,  True]],\n",
       "\n",
       "        [[False, False, False, False, False, False],\n",
       "         [False, False, False, False, False, False],\n",
       "         [False, False, False, False, False, False],\n",
       "         [False, False, False, False, False, False],\n",
       "         [False, False, False, False, False, False],\n",
       "         [False, False, False, False, False, False]],\n",
       "\n",
       "        [[False, False, False, False, False,  True],\n",
       "         [False, False, False, False, False,  True],\n",
       "         [False, False, False, False, False,  True],\n",
       "         [False, False, False, False, False,  True],\n",
       "         [False, False, False, False, False,  True],\n",
       "         [ True,  True,  True,  True,  True,  True]]])"
      ]
     },
     "execution_count": 192,
     "metadata": {},
     "output_type": "execute_result"
    }
   ],
   "source": [
    "# masked_logits\n",
    "# mask_batch_final\n",
    "# mask_batch_final = mask_batch_final.masked_fill(mask_batch_final == True, float('-inf'))\n"
   ]
  },
  {
   "cell_type": "code",
   "execution_count": 181,
   "metadata": {},
   "outputs": [
    {
     "data": {
      "text/plain": [
       "tensor([[[False, False, False,  True,  True,  True],\n",
       "         [False, False, False,  True,  True,  True],\n",
       "         [False, False, False,  True,  True,  True],\n",
       "         [ True,  True,  True,  True,  True,  True],\n",
       "         [ True,  True,  True,  True,  True,  True],\n",
       "         [ True,  True,  True,  True,  True,  True]],\n",
       "\n",
       "        [[False, False, False, False, False, False],\n",
       "         [False, False, False, False, False, False],\n",
       "         [False, False, False, False, False, False],\n",
       "         [False, False, False, False, False, False],\n",
       "         [False, False, False, False, False, False],\n",
       "         [False, False, False, False, False, False]],\n",
       "\n",
       "        [[False, False, False, False, False,  True],\n",
       "         [False, False, False, False, False,  True],\n",
       "         [False, False, False, False, False,  True],\n",
       "         [False, False, False, False, False,  True],\n",
       "         [False, False, False, False, False,  True],\n",
       "         [ True,  True,  True,  True,  True,  True]]])"
      ]
     },
     "execution_count": 181,
     "metadata": {},
     "output_type": "execute_result"
    }
   ],
   "source": [
    "# mask_batch_final\n"
   ]
  },
  {
   "cell_type": "code",
   "execution_count": null,
   "metadata": {},
   "outputs": [],
   "source": [
    "nMax_part = 150\n",
    "dfpart_ngp_wxyzM = np.float32(np.zeros((grid, grid, grid, nMax_part, 4)))\n",
    "# dfhalo_ngp_wmass = np.float32(np.zeros((grid, grid, grid, nMax_h)))\n",
    "# dfhalo_ngp_wy = np.float32(np.zeros((grid, grid, grid, nMax_h)))\n",
    "# dfhalo_ngp_wz = np.float32(np.zeros((grid, grid, grid, nMax_h)))\n",
    "# NGP_xyz(np.float32(pos_h_truth), dfhalo_ngp_wxyz_remainder, dfhalo_ngp_wxyz_factor, BoxSize)\n",
    "\n",
    "NGP_xyzM(np.float32(pos_m_truth), np.float32(np.zeros(len(pos_m_truth))), dfpart_ngp_wxyzM, BoxSize)\n",
    "\n",
    "dfpart_ngp_wxyz = dfpart_ngp_wxyzM[...,:3]\n"
   ]
  },
  {
   "cell_type": "code",
   "execution_count": 29,
   "metadata": {},
   "outputs": [
    {
     "data": {
      "text/plain": [
       "(0.0, 5.0)"
      ]
     },
     "execution_count": 29,
     "metadata": {},
     "output_type": "execute_result"
    },
    {
     "data": {
      "image/png": "[encoded data removed]",
      "text/plain": [
       "<Figure size 640x480 with 1 Axes>"
      ]
     },
     "metadata": {},
     "output_type": "display_data"
    }
   ],
   "source": [
    "# dfhalo_ngp_wxyzM.shape, dfpart_ngp_wxyzM.shape\n",
    "pl.figure()\n",
    "_ = pl.hist(dfhalo_ngp_wxyzM[0,0,3,:,0].flatten(), bins=32, range=(-16, 16), histtype='step')\n",
    "_ = pl.hist(dfpart_ngp_wxyz[0,0,3,:,0].flatten(), bins=32, range=(-16, 16), histtype='step')\n",
    "# pl.scatter(dfhalo_ngp_wxyzM[0,0,0,:,0], dfpart_ngp_wxyz[0,0,0,:,0])\n",
    "pl.ylim(0,5)\n"
   ]
  },
  {
   "cell_type": "code",
   "execution_count": 30,
   "metadata": {},
   "outputs": [
    {
     "data": {
      "text/plain": [
       "(-15.625, 15.624875)"
      ]
     },
     "execution_count": 30,
     "metadata": {},
     "output_type": "execute_result"
    }
   ],
   "source": [
    "# np.amin(dfpart_ngp_wxyz), np.amax(dfpart_ngp_wxyz)\n",
    "# dfhalo_ngp_wxyz.shape\n",
    "lb_size = 15.625\n"
   ]
  },
  {
   "cell_type": "code",
   "execution_count": 18,
   "metadata": {},
   "outputs": [],
   "source": [
    "dfhalo_ngp_wmass = np.float32(np.zeros((grid, grid, grid, nMax_h)))\n",
    "NGP_mass(np.float32(pos_h_truth), np.float32(lgMass_truth), dfhalo_ngp_wmass, BoxSize)\n",
    "\n",
    "# M_halos = np.flip(np.sort(dfhalo_ngp_wmass, axis=-1), axis=-1)\n"
   ]
  },
  {
   "cell_type": "code",
   "execution_count": 19,
   "metadata": {},
   "outputs": [],
   "source": [
    "Nhalos = np.float32(np.zeros((grid, grid, grid)))\n",
    "MASL.NGP(np.float32(pos_h_truth), Nhalos, BoxSize)\n"
   ]
  },
  {
   "cell_type": "code",
   "execution_count": 21,
   "metadata": {},
   "outputs": [
    {
     "data": {
      "image/png": "[encoded data removed]",
      "text/plain": [
       "<Figure size 640x480 with 1 Axes>"
      ]
     },
     "metadata": {},
     "output_type": "display_data"
    }
   ],
   "source": [
    "# np.amax(Nhalos)\n",
    "pl.figure()\n",
    "_ = pl.hist(Nhalos.flatten(), bins=64, range=(0, 64), histtype='step')\n",
    "pl.yscale('log')\n",
    "\n"
   ]
  },
  {
   "cell_type": "code",
   "execution_count": 22,
   "metadata": {},
   "outputs": [],
   "source": [
    "# np.argsort(dfhalo_ngp_wmass, axis=-1)\n",
    "M_halos_argsort = np.flip(np.argsort(dfhalo_ngp_wmass, axis=-1), axis=-1)\n",
    "\n",
    "# M_halos_argsort\n",
    "# M_halos_argsort.shape, dfhalo_ngp_wxyz.shape\n",
    "# dfhalo_ngp_xyz_sorted = dfhalo_ngp_wxyz[M_halos_argsort]\n",
    "dfhalo_ngp_xyz_sorted = np.zeros_like(dfhalo_ngp_wxyz)\n",
    "for i1 in range(grid):\n",
    "    for i2 in range(grid):\n",
    "        for i3 in range(grid):\n",
    "            # for i4 in range(nMax_h):\n",
    "            dfhalo_ngp_xyz_sorted[i1, i2, i3, :, 0] = dfhalo_ngp_wxyz[i1, i2, i3, M_halos_argsort[i1, i2, i3], 0]\n",
    "            dfhalo_ngp_xyz_sorted[i1, i2, i3, :, 1] = dfhalo_ngp_wxyz[i1, i2, i3, M_halos_argsort[i1, i2, i3], 1]\n",
    "            dfhalo_ngp_xyz_sorted[i1, i2, i3, :, 2] = dfhalo_ngp_wxyz[i1, i2, i3, M_halos_argsort[i1, i2, i3], 2]                        \n",
    "\n",
    "\n"
   ]
  },
  {
   "cell_type": "code",
   "execution_count": 326,
   "metadata": {},
   "outputs": [],
   "source": [
    "# M_halos_argsort\n",
    "pl.figure()\n",
    "\n"
   ]
  },
  {
   "cell_type": "code",
   "execution_count": 327,
   "metadata": {},
   "outputs": [],
   "source": []
  },
  {
   "cell_type": "code",
   "execution_count": 328,
   "metadata": {},
   "outputs": [],
   "source": [
    "# # Nhalos_truth_recomb.shape\n",
    "# indx_max_Nhalo, indy_max_Nhalo, indz_max_Nhalo = np.unravel_index(np.argmax(Nhalos_truth_recomb, axis=None), Nhalos_truth_recomb.shape)\n",
    "\n",
    "# # ind_max_Nhalo\n",
    "# # indx_max_Nhalo, indy_max_Nhalo, indz_max_Nhalo\n",
    "# Nhalos_truth_recomb[indx_max_Nhalo, indy_max_Nhalo, indz_max_Nhalo]\n",
    "# # dfhalo_ngp_wxyz_remainder[indx_max_Nhalo, indy_max_Nhalo, indz_max_Nhalo,:, 1]\n",
    "# dfhalo_ngp_xyz_sorted[indx_max_Nhalo, indy_max_Nhalo, indz_max_Nhalo,:, 1]\n"
   ]
  },
  {
   "cell_type": "code",
   "execution_count": 329,
   "metadata": {},
   "outputs": [],
   "source": [
    "root = '/mnt/home/fvillaescusa/ceph/Quijote/Snapshots/fiducial_HR'\n",
    "# # if snapnum > 0:\n",
    "ptypes       = [1]\n",
    "snapshot = '%s/%d/snapdir_%03d/snap_%03d'%(root,isim_fid,snapnum,snapnum)\n",
    "# df_ngp = MASL.density_field_gadget(snapshot, ptypes, 128, MAS='NGP',\n",
    "#                                 do_RSD=False, axis=0, verbose=False)\n",
    "# # df_ngp = MASL.density_field_gadget(snapshot, ptypes, 128, MAS='CIC',\n",
    "# #                                 do_RSD=False, axis=0, verbose=False)\n",
    "# # df_pylians_ngp_128 = df_ngp/np.mean(df_ngp, dtype=np.float64)-1.0            \n",
    "# df_pylians_ngp_128 = df_ngp/np.mean(df_ngp, dtype=np.float64)\n",
    "\n"
   ]
  },
  {
   "cell_type": "code",
   "execution_count": 330,
   "metadata": {},
   "outputs": [],
   "source": [
    "# pl.figure()\n",
    "# # pl.scatter(df_pylians_ngp_128.flatten()[::10], Nhalos.flatten()[::10], s=0.1)\n",
    "# pl.scatter( Nhalos.flatten()[::10], df_pylians_ngp_128.flatten()[::10], s=0.1)\n",
    "# pl.ylim(0, 20)"
   ]
  },
  {
   "cell_type": "code",
   "execution_count": 331,
   "metadata": {},
   "outputs": [],
   "source": [
    "df_ngp = MASL.density_field_gadget(snapshot, ptypes, 512, MAS='NGP',\n",
    "                                do_RSD=False, axis=0, verbose=False)\n",
    "# df_ngp = MASL.density_field_gadget(snapshot, ptypes, 512, MAS='CIC',\n",
    "                                # do_RSD=False, axis=0, verbose=False)\n",
    "# df_pylians_ngp_512 = df_ngp/np.mean(df_ngp, dtype=np.float64)-1.0            \n",
    "df_pylians_ngp_512 = df_ngp/np.mean(df_ngp, dtype=np.float64)     \n",
    "\n"
   ]
  },
  {
   "cell_type": "code",
   "execution_count": 332,
   "metadata": {},
   "outputs": [],
   "source": [
    "# df_ngp = MASL.density_field_gadget(snapshot, ptypes, 1024, MAS='NGP',\n",
    "#                                 do_RSD=False, axis=0, verbose=False)\n",
    "# # df_ngp = MASL.density_field_gadget(snapshot, ptypes, 512, MAS='CIC',\n",
    "#                                 # do_RSD=False, axis=0, verbose=False)\n",
    "# # df_pylians_ngp_512 = df_ngp/np.mean(df_ngp, dtype=np.float64)-1.0            \n",
    "# df_pylians_ngp_1024 = df_ngp/np.mean(df_ngp, dtype=np.float64)     \n",
    "\n"
   ]
  },
  {
   "cell_type": "code",
   "execution_count": 333,
   "metadata": {},
   "outputs": [],
   "source": [
    "# df_ngp = MASL.density_field_gadget(snapshot, ptypes, 256, MAS='NGP',\n",
    "#                                 do_RSD=False, axis=0, verbose=False)\n",
    "# # df_ngp = MASL.density_field_gadget(snapshot, ptypes, 512, MAS='CIC',\n",
    "#                                 # do_RSD=False, axis=0, verbose=False)\n",
    "# # df_pylians_ngp_512 = df_ngp/np.mean(df_ngp, dtype=np.float64)-1.0            \n",
    "# df_pylians_ngp_256 = df_ngp/np.mean(df_ngp, dtype=np.float64)     \n",
    "\n"
   ]
  },
  {
   "cell_type": "code",
   "execution_count": 334,
   "metadata": {},
   "outputs": [],
   "source": [
    "# df_pylians_ngp_512_rs2 = np.reshape(df_pylians_ngp_512, (128,128,128,4,4,4))\n",
    "# df_pylians_ngp_256_rs3 = np.reshape(df_pylians_ngp_256, (128,2,128,2,128,2))\n"
   ]
  },
  {
   "cell_type": "code",
   "execution_count": 335,
   "metadata": {},
   "outputs": [],
   "source": [
    "df_pylians_ngp_512_rs3 = np.reshape(df_pylians_ngp_512, (128,4,128,4,128,4))\n"
   ]
  },
  {
   "cell_type": "code",
   "execution_count": 336,
   "metadata": {},
   "outputs": [],
   "source": [
    "# df_pylians_ngp_1024_rs3 = np.reshape(df_pylians_ngp_1024, (128,8,128,8,128,8))\n",
    "\n"
   ]
  },
  {
   "cell_type": "code",
   "execution_count": 337,
   "metadata": {},
   "outputs": [],
   "source": [
    "# # df_pylians_ngp_512_rs = np.reshape(df_pylians_ngp_512, (128,128,128,4,4,4))\n",
    "# df_pylians_ngp_512_rs = np.zeros((128,128,128,4,4,4))\n",
    "\n",
    "# for j1 in range(128):\n",
    "#     for j2 in range(128):\n",
    "#         for j3 in range(128):\n",
    "#             df_pylians_ngp_512_rs[j1, j2, j3] = np.reshape(df_pylians_ngp_512[j1*4:(j1+1)*4, j2*4:(j2+1)*4, j3*4:(j3+1)*4], (4,4,4))\n"
   ]
  },
  {
   "cell_type": "code",
   "execution_count": 338,
   "metadata": {},
   "outputs": [],
   "source": [
    "# df_pylians_ngp_512[j1*4:(j1+1)*4, j2*4:(j2+1)*4, j3*4:(j3+1)*4].shape\n"
   ]
  },
  {
   "cell_type": "code",
   "execution_count": 339,
   "metadata": {},
   "outputs": [],
   "source": [
    "# df_pylians_ngp_512_rs_128 = np.mean(df_pylians_ngp_512_rs, axis=(3,4,5))\n",
    "\n"
   ]
  },
  {
   "cell_type": "code",
   "execution_count": 340,
   "metadata": {},
   "outputs": [],
   "source": [
    "# df_pylians_ngp_512_rs2_128 = np.mean(df_pylians_ngp_512_rs2, axis=(3,4,5))\n",
    "\n"
   ]
  },
  {
   "cell_type": "code",
   "execution_count": 341,
   "metadata": {},
   "outputs": [],
   "source": [
    "# df_pylians_ngp_256_rs3_128 = df_pylians_ngp_256_rs3.mean(5).mean(3).mean(1)\n",
    "\n"
   ]
  },
  {
   "cell_type": "code",
   "execution_count": 342,
   "metadata": {},
   "outputs": [],
   "source": [
    "# df_pylians_ngp_512_rs3_128 = df_pylians_ngp_512_rs3.mean(5).mean(3).mean(1)\n"
   ]
  },
  {
   "cell_type": "code",
   "execution_count": 343,
   "metadata": {},
   "outputs": [],
   "source": [
    "# df_pylians_ngp_1024_rs3_128 = df_pylians_ngp_1024_rs3.mean(5).mean(3).mean(1)\n",
    "\n"
   ]
  },
  {
   "cell_type": "code",
   "execution_count": 344,
   "metadata": {},
   "outputs": [],
   "source": [
    "# pl.figure()\n",
    "# # pl.scatter(df_pylians_ngp_512_rs_128.flatten()[::10], Nhalos.flatten()[::10], s=0.1)\n",
    "# # pl.scatter(Nhalos.flatten()[::10], df_pylians_ngp_512_rs3_128.flatten()[::10], s=0.1)\n",
    "# pl.scatter(Nhalos.flatten()[::10], df_pylians_ngp_256_rs3_128.flatten()[::10], s=0.1)\n",
    "# pl.ylim(0, 20)\n",
    "\n",
    "\n"
   ]
  },
  {
   "cell_type": "code",
   "execution_count": 345,
   "metadata": {},
   "outputs": [],
   "source": [
    "# pl.figure()\n",
    "# # pl.scatter(df_pylians_ngp_512_rs_128.flatten()[::10], Nhalos.flatten()[::10], s=0.1)\n",
    "# pl.scatter(Nhalos.flatten()[::10], df_pylians_ngp_1024_rs3_128.flatten()[::10], s=0.1)\n",
    "# pl.ylim(0, 20)\n",
    "\n",
    "\n"
   ]
  },
  {
   "cell_type": "code",
   "execution_count": 346,
   "metadata": {},
   "outputs": [],
   "source": [
    "# pl.figure()\n",
    "# # pl.scatter(df_pylians_ngp_128.flatten()[::10], df_pylians_ngp_512_rs_128.flatten()[::10], s=0.1)\n",
    "# pl.scatter(df_pylians_ngp_128.flatten()[::10], df_pylians_ngp_256_rs3_128.flatten()[::10], s=0.1)\n",
    "# # pl.scatter(df_pylians_ngp_128.flatten()[::10], df_pylians_ngp_512_rs2_128.flatten()[::10], s=0.1)\n"
   ]
  },
  {
   "cell_type": "code",
   "execution_count": 347,
   "metadata": {},
   "outputs": [],
   "source": [
    "# pl.figure()\n",
    "# # pl.scatter(df_pylians_ngp_128.flatten()[::10], df_pylians_ngp_512_rs_128.flatten()[::10], s=0.1)\n",
    "# pl.scatter(df_pylians_ngp_128.flatten()[::10], df_pylians_ngp_512_rs3_128.flatten()[::10], s=0.1)\n",
    "# # pl.scatter(df_pylians_ngp_128.flatten()[::10], df_pylians_ngp_512_rs2_128.flatten()[::10], s=0.1)\n"
   ]
  },
  {
   "cell_type": "code",
   "execution_count": 348,
   "metadata": {},
   "outputs": [],
   "source": [
    "# pl.figure()\n",
    "# # pl.scatter(df_pylians_ngp_128.flatten()[::10], df_pylians_ngp_512_rs_128.flatten()[::10], s=0.1)\n",
    "# pl.scatter(df_pylians_ngp_128.flatten()[::10], df_pylians_ngp_1024_rs3_128.flatten()[::10], s=0.1)\n",
    "# # pl.scatter(df_pylians_ngp_1024_rs3_128.flatten()[::10], df_pylians_ngp_512_rs3_128.flatten()[::10], s=0.1)\n",
    "# # pl.scatter(df_pylians_ngp_128.flatten()[::10], df_pylians_ngp_512_rs2_128.flatten()[::10], s=0.1)\n"
   ]
  },
  {
   "cell_type": "code",
   "execution_count": 349,
   "metadata": {},
   "outputs": [],
   "source": [
    "# np.corrcoef(df_pylians_ngp_128.flatten(), df_pylians_ngp_256_rs3_128.flatten())\n",
    "# np.corrcoef(df_pylians_ngp_128.flatten(), df_pylians_ngp_512_rs3_128.flatten())\n",
    "\n",
    "# np.corrcoef(df_pylians_ngp_128.flatten(), df_pylians_ngp_1024_rs3_128.flatten())\n"
   ]
  },
  {
   "cell_type": "code",
   "execution_count": null,
   "metadata": {},
   "outputs": [],
   "source": []
  },
  {
   "cell_type": "code",
   "execution_count": null,
   "metadata": {},
   "outputs": [],
   "source": []
  },
  {
   "cell_type": "code",
   "execution_count": 350,
   "metadata": {},
   "outputs": [],
   "source": [
    "# # dfhalo_ngp_wx.shape\n",
    "# x_v, y_v, z_v = np.where(Nhalos==5)\n",
    "# ind_v = 3\n",
    "# print(Nhalos[x_v[ind_v], y_v[ind_v], z_v[ind_v]])\n",
    "\n",
    "# dfhalo_ngp_xyz_sorted[x_v[ind_v], y_v[ind_v], z_v[ind_v], :,0]\n",
    "\n",
    "\n"
   ]
  },
  {
   "cell_type": "code",
   "execution_count": 351,
   "metadata": {},
   "outputs": [],
   "source": [
    "# dfhalo_ngp_xyz_sorted[x_v[ind_v], y_v[ind_v], z_v[ind_v],:, 0]\n"
   ]
  },
  {
   "cell_type": "code",
   "execution_count": 352,
   "metadata": {},
   "outputs": [],
   "source": [
    "# dfhalo_ngp_xyz_sorted.shape"
   ]
  },
  {
   "cell_type": "code",
   "execution_count": 353,
   "metadata": {},
   "outputs": [],
   "source": [
    "# pl.figure()\n",
    "# pl.scatter(dfhalo_ngp_xyz_sorted[x_v[ind_v], y_v[ind_v], z_v[ind_v],:, 0], dfhalo_ngp_xyz_sorted[x_v[ind_v], y_v[ind_v], z_v[ind_v],:, 1])\n",
    "# pl.xlim(-4,4)\n",
    "# pl.ylim(-4,4)\n"
   ]
  },
  {
   "cell_type": "code",
   "execution_count": 354,
   "metadata": {},
   "outputs": [],
   "source": [
    "# pl.figure()\n",
    "# # pl.imshow(np.sum(df_pylians_ngp_512_rs[indx_max_Nhalo, indy_max_Nhalo, indz_max_Nhalo,...], axis=-1), origin='lower')\n",
    "# # pl.imshow(np.sum(df_pylians_ngp_512_rs[x_v[ind_v], y_v[ind_v], z_v[ind_v],...], axis=-1), origin='lower')\n",
    "# pl.imshow(np.sum(df_pylians_ngp_512_rs3[x_v[ind_v],:, y_v[ind_v],:, z_v[ind_v],:], axis=-1), origin='lower')\n",
    "\n"
   ]
  },
  {
   "cell_type": "code",
   "execution_count": 355,
   "metadata": {},
   "outputs": [],
   "source": [
    "# dfhalo_ngp_wxyz_factor[indx_max_Nhalo, indy_max_Nhalo, indz_max_Nhalo,:, 2]\n"
   ]
  },
  {
   "cell_type": "code",
   "execution_count": 356,
   "metadata": {},
   "outputs": [
    {
     "data": {
      "text/plain": [
       "(128, 128, 128, 6, 3)"
      ]
     },
     "execution_count": 356,
     "metadata": {},
     "output_type": "execute_result"
    }
   ],
   "source": [
    "# dfhalo_ngp_wy[indx_max_Nhalo, indy_max_Nhalo, indz_max_Nhalo,:]\n",
    "\n",
    "dfhalo_ngp_xyz_sorted.shape\n"
   ]
  },
  {
   "cell_type": "code",
   "execution_count": 357,
   "metadata": {},
   "outputs": [],
   "source": [
    "# 2.3%0.2\n",
    "# saved = {'Nhalos_samp':Nhalos,\n",
    "#          'Mhalos_samp':M_halos,\n",
    "#          'Nhalos_truth':Nhalos_truth_recomb,\n",
    "#          'Mhalos_truth':M_halos_truth_recomb,\n",
    "#          'features_CNN':features_CNN_all}\n",
    "# import pickle as pk\n",
    "# savename = '/mnt/home/spandey/ceph/AR_NPE/notebooks/CMASS_TEST/data_for_GNN_LH3.pk'\n",
    "# pk.dump(saved, open(savename, 'wb'))\n",
    "saved = {'xyz_halos_truth_sub_box':dfhalo_ngp_xyz_sorted,\n",
    "        'hres_rho_dm':df_pylians_ngp_512_rs3.reshape(grid,grid,grid,64),\n",
    "        # 'Nhalos_samp':Nhalos,\n",
    "        #  'Mhalos_samp':M_halos,\n",
    "         'Nhalos_truth':Nhalos_truth_recomb,\n",
    "         'Mhalos_truth':M_halos_truth_recomb,\n",
    "         'features_CNN':features_CNN_all}\n",
    "        \n",
    "# 'xyz_halos_truth_sub_box':dfhalo_ngp_wxyz_remainder,\n",
    "        #  'Nhalos_truth':Nhalos_truth_recomb,\n",
    "        #  'Mhalos_truth':M_halos_truth_recomb,\n",
    "        #  'features_CNN':features_CNN_all}\n",
    "import pickle as pk\n",
    "savename = f'/mnt/home/spandey/ceph/AR_NPE/notebooks/CMASS_TEST/test_xyz/data_for_MDN_fidHR_{isim_fid}.pk'\n",
    "pk.dump(saved, open(savename, 'wb'))\n"
   ]
  },
  {
   "cell_type": "code",
   "execution_count": 228,
   "metadata": {},
   "outputs": [
    {
     "data": {
      "text/plain": [
       "(128, 128, 128, 8, 3)"
      ]
     },
     "execution_count": 228,
     "metadata": {},
     "output_type": "execute_result"
    }
   ],
   "source": [
    "dfhalo_ngp_wxyz_remainder.shape\n",
    "\n"
   ]
  },
  {
   "cell_type": "code",
   "execution_count": 114,
   "metadata": {},
   "outputs": [
    {
     "data": {
      "text/plain": [
       "(128, 128, 128, 8)"
      ]
     },
     "execution_count": 114,
     "metadata": {},
     "output_type": "execute_result"
    }
   ],
   "source": [
    "M_halos_truth_recomb.shape\n",
    "\n"
   ]
  },
  {
   "cell_type": "code",
   "execution_count": 30,
   "metadata": {},
   "outputs": [],
   "source": [
    "import numpy as np\n",
    "\n",
    "ntry = 100000\n",
    "nsamp = 100\n",
    "mu_try, sig_try = np.zeros(ntry), np.zeros(ntry)\n",
    "var_try = np.zeros(ntry)\n",
    "for ji in range(ntry):\n",
    "    s1 = np.random.randn(nsamp)\n",
    "    mu_try[ji], sig_try[ji] = np.mean(s1), np.std(s1)\n",
    "    var_try[ji] = np.var(s1)\n",
    "\n"
   ]
  },
  {
   "cell_type": "code",
   "execution_count": 15,
   "metadata": {},
   "outputs": [],
   "source": [
    "# np.mean(s1), np.std(s1)\n",
    "import matplotlib\n",
    "%matplotlib inline\n",
    "import matplotlib.pyplot as pl\n"
   ]
  },
  {
   "cell_type": "code",
   "execution_count": 31,
   "metadata": {},
   "outputs": [
    {
     "data": {
      "image/png": "[encoded data removed]",
      "text/plain": [
       "<Figure size 640x480 with 1 Axes>"
      ]
     },
     "metadata": {},
     "output_type": "display_data"
    }
   ],
   "source": [
    "pl.figure()\n",
    "_ = pl.hist(mu_try, bins=40, histtype='step')\n",
    "_ = pl.hist(var_try-1., bins=40, histtype='step')\n",
    "# _ = pl.hist(sig_try-1, bins=40, histtype='step')"
   ]
  },
  {
   "cell_type": "code",
   "execution_count": 32,
   "metadata": {},
   "outputs": [
    {
     "data": {
      "text/plain": [
       "(-0.0003129160749577889, 0.09996861854525756)"
      ]
     },
     "execution_count": 32,
     "metadata": {},
     "output_type": "execute_result"
    }
   ],
   "source": [
    "np.mean(mu_try), np.std(mu_try)\n"
   ]
  },
  {
   "cell_type": "code",
   "execution_count": 29,
   "metadata": {},
   "outputs": [
    {
     "data": {
      "text/plain": [
       "(0.9924234829102101, 0.07075275052368166)"
      ]
     },
     "execution_count": 29,
     "metadata": {},
     "output_type": "execute_result"
    }
   ],
   "source": [
    "np.mean(sig_try), np.std(sig_try)\n",
    "\n"
   ]
  },
  {
   "cell_type": "code",
   "execution_count": 33,
   "metadata": {},
   "outputs": [
    {
     "data": {
      "text/plain": [
       "(0.9902667524601717, 0.1410539189370056)"
      ]
     },
     "execution_count": 33,
     "metadata": {},
     "output_type": "execute_result"
    }
   ],
   "source": [
    "np.mean(var_try), np.std(var_try)\n",
    "\n"
   ]
  },
  {
   "cell_type": "code",
   "execution_count": null,
   "metadata": {},
   "outputs": [],
   "source": []
  }
 ],
 "metadata": {
  "kernelspec": {
   "display_name": "ili-sbi",
   "language": "python",
   "name": "python3"
  },
  "language_info": {
   "codemirror_mode": {
    "name": "ipython",
    "version": 3
   },
   "file_extension": ".py",
   "mimetype": "text/x-python",
   "name": "python",
   "nbconvert_exporter": "python",
   "pygments_lexer": "ipython3",
   "version": "3.1.undefined"
  }
 },
 "nbformat": 4,
 "nbformat_minor": 2
}
